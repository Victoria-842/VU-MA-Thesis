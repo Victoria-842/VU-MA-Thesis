{
 "cells": [
  {
   "cell_type": "markdown",
   "id": "KLBzaFgdSauB",
   "metadata": {
    "id": "KLBzaFgdSauB"
   },
   "source": [
    "# Implicit hate speech detection\n",
    "# Roberta model"
   ]
  },
  {
   "cell_type": "code",
   "execution_count": 33,
   "id": "b9ef6041-e2b7-44de-b47e-53b5e65d8226",
   "metadata": {
    "id": "b9ef6041-e2b7-44de-b47e-53b5e65d8226"
   },
   "outputs": [],
   "source": [
    "# !pip install evaluate\n",
    "# !pip install seqeval\n",
    "# !pip install ipywidgets\n",
    "# !pip install transformers datasets seqeval evaluate\n",
    "# !pip install pyfunctional\n",
    "# !pip install torch torchvision\n",
    "# !pip install spacy\n",
    "# !pip install -U spacy\n",
    "# !python -m spacy download en_core_web_sm\n",
    "# !python -m spacy validate\n",
    "# !pip install \"numpy<2\"\n",
    "# !pip install \"thinc<8.3.6\"\n",
    "# !pip install transformers\n",
    "# !pip install --upgrade transformers\n",
    "# !pip install 'accelerate>=0.26.0'\n",
    "# !pip install nltk\n",
    "# !pip install pandas\n",
    "# !pip install transformers torch\n",
    "# !pip install 'accelerate>=0.26.0'\n",
    "# !pip install transformers[torch]\n",
    "# !pip install --upgrade 'accelerate>=0.26.0'\n",
    "# !pip install \"accelerate>=0.21.0\" -U\n",
    "# !pip install --force-reinstall \"accelerate>=0.21.0\"\n",
    "# !pip install --upgrade pip setuptools wheel\n",
    "# !curl --proto '=https' --tlsv1.2 -sSf https://sh.rustup.rs | sh\n",
    "# !pip install \"transformers<4.30.0\"\n",
    "# !pip install --force-reinstall \"accelerate>=0.21.0\"\n",
    "# !pip install numpy==1.24.4 fsspec==2024.6.1 packaging==24.0\n",
    "# !pip install accelerate -U\n",
    "# !pip install \"numpy<2\"\n",
    "\n",
    "\n",
    "# import transformers\n",
    "# import accelerate\n",
    "# print(f\"Transformers version: {transformers.__version__}\")\n",
    "# print(f\"Accelerate version: {accelerate.__version__}\")\n",
    "\n",
    "# !pip uninstall transformers -y\n",
    "# !pip uninstall tokenizers -y\n",
    "# !pip uninstall huggingface_hub -y\n",
    "# !pip uninstall safetensors -y\n",
    "# !pip install \"fsspec<=2024.12.0\"\n",
    "# !pip install --no-cache-dir transformers==4.51.3\n",
    "# import transformers\n",
    "# print(transformers.__version__)\n",
    "# from transformers import TrainingArguments, Trainer\n"
   ]
  },
  {
   "cell_type": "code",
   "execution_count": 4,
   "id": "6354ec28-48f1-45ec-a6bd-a81feede5063",
   "metadata": {
    "colab": {
     "base_uri": "https://localhost:8080/"
    },
    "executionInfo": {
     "elapsed": 2146,
     "status": "ok",
     "timestamp": 1746558907638,
     "user": {
      "displayName": "Victoria V",
      "userId": "09484503042445428726"
     },
     "user_tz": -120
    },
    "id": "6354ec28-48f1-45ec-a6bd-a81feede5063",
    "outputId": "c0089a4a-9ab5-4912-9b36-0bcc0486c24e"
   },
   "outputs": [
    {
     "name": "stdout",
     "output_type": "stream",
     "text": [
      "Drive already mounted at /content/drive; to attempt to forcibly remount, call drive.mount(\"/content/drive\", force_remount=True).\n"
     ]
    }
   ],
   "source": [
    "from google.colab import drive\n",
    "drive.mount('/content/drive')"
   ]
  },
  {
   "cell_type": "code",
   "execution_count": 1,
   "id": "8544685e-1367-499f-8b09-af6a952dff02",
   "metadata": {
    "id": "8544685e-1367-499f-8b09-af6a952dff02"
   },
   "outputs": [],
   "source": [
    "import nltk\n",
    "from nltk.tokenize import sent_tokenize, word_tokenize\n",
    "from nltk.tree import Tree\n",
    "from nltk.stem.porter import PorterStemmer\n",
    "import re\n",
    "from collections import Counter\n",
    "import string\n",
    "import pandas as pd\n",
    "# import spacy\n",
    "# from spacy.tokens import Doc\n",
    "# from spacy import displacy\n",
    "# import benepar\n",
    "from itertools import chain\n",
    "import sklearn\n",
    "from sklearn.metrics import make_scorer\n",
    "from sklearn.model_selection import cross_val_score\n",
    "from sklearn.model_selection import RandomizedSearchCV\n",
    "import scipy.stats\n",
    "import pickle\n",
    "import networkx as nx\n",
    "import os, logging\n",
    "from collections import defaultdict\n",
    "from sklearn.metrics import accuracy_score, precision_score, recall_score, f1_score, confusion_matrix, classification_report, ConfusionMatrixDisplay\n",
    "from itertools import combinations\n",
    "import matplotlib.pyplot as plt\n",
    "import numpy as np\n",
    "import re\n",
    "# from datasets import load_dataset\n",
    "from evaluate import load\n",
    "from datasets import Dataset\n",
    "import os\n",
    "import csv\n",
    "\n",
    "import pkg_resources\n",
    "import subprocess\n",
    "import sys\n",
    "\n",
    "from numpy import log, mean\n",
    "from pandas import Series, DataFrame\n",
    "\n",
    "from typing import List, Tuple, Union\n",
    "import glob\n",
    "\n",
    "# from functional import seq\n",
    "# from textblob import TextBlob\n",
    "import seaborn as sns\n",
    "import matplotlib.pyplot as plt\n",
    "\n",
    "from sklearn.feature_extraction.text import CountVectorizer, TfidfVectorizer\n",
    "from IPython.display import clear_output\n",
    "\n",
    "from typing import Dict, List, Tuple, Union\n",
    "from pandas import Series, DataFrame\n",
    "from sklearn.model_selection import train_test_split\n",
    "\n",
    "import torch\n",
    "from transformers import RobertaTokenizer, RobertaModel, RobertaForSequenceClassification\n"
   ]
  },
  {
   "cell_type": "code",
   "execution_count": 2,
   "id": "2e0d552f-fc3a-4c9b-a102-8b393aa2ea13",
   "metadata": {},
   "outputs": [
    {
     "name": "stderr",
     "output_type": "stream",
     "text": [
      "Some weights of RobertaForSequenceClassification were not initialized from the model checkpoint at roberta-base and are newly initialized: ['classifier.dense.bias', 'classifier.dense.weight', 'classifier.out_proj.bias', 'classifier.out_proj.weight']\n",
      "You should probably TRAIN this model on a down-stream task to be able to use it for predictions and inference.\n"
     ]
    }
   ],
   "source": [
    "tokenizer = RobertaTokenizer.from_pretrained('roberta-base')\n",
    "model = RobertaForSequenceClassification.from_pretrained('roberta-base')\n",
    "\n",
    "text = \"Hello, I'm a sentence that needs encoding.\"\n",
    "inputs = tokenizer(text, return_tensors=\"pt\")\n",
    "\n",
    "with torch.no_grad():\n",
    "    outputs = model(**inputs)\n",
    "\n",
    "logits = outputs.logits"
   ]
  },
  {
   "cell_type": "code",
   "execution_count": 3,
   "id": "930d32c5-b194-48b4-b1eb-0626c5a93386",
   "metadata": {
    "id": "930d32c5-b194-48b4-b1eb-0626c5a93386"
   },
   "outputs": [],
   "source": [
    "model_checkpoint = \"roberta-base\"\n",
    "task = \"hate_detection\"\n",
    "batch_size = 16"
   ]
  },
  {
   "cell_type": "markdown",
   "id": "d45b031d-c7d4-40fa-95a3-121c2a7a7e43",
   "metadata": {
    "id": "d45b031d-c7d4-40fa-95a3-121c2a7a7e43"
   },
   "source": [
    "# Roberta model training"
   ]
  },
  {
   "cell_type": "code",
   "execution_count": 6,
   "id": "ccc243e4-7b25-4385-b5cf-d5840a1aa438",
   "metadata": {
    "id": "ccc243e4-7b25-4385-b5cf-d5840a1aa438"
   },
   "outputs": [],
   "source": [
    "trainset = \"train_data.tsv\"\n",
    "devset = \"dev_data.tsv\"\n",
    "testset = \"test_data.tsv\""
   ]
  },
  {
   "cell_type": "code",
   "execution_count": 22,
   "id": "3f19658e-7397-4617-aec7-7049b11ca646",
   "metadata": {
    "id": "3f19658e-7397-4617-aec7-7049b11ca646",
    "outputId": "c6496e7e-b44f-4231-97bf-88d1969e0be4"
   },
   "outputs": [
    {
     "name": "stdout",
     "output_type": "stream",
     "text": [
      "                                                post          class\n",
      "0  they are not dreamers, if they are illegal the...  implicit_hate\n",
      "1   i get it . you feel bad for being white . you...       not_hate\n",
      "2  saudi arabia is a disgusting, inhuman regime. ...  explicit_hate\n",
      "3  2 hollywood jews want us to feel bad for not i...  explicit_hate\n",
      "4  technically  the kkk commits no crimes . they ...       not_hate\n",
      "5  poland uncovers thousands more staff at auschw...       not_hate\n",
      "6                     its about erasing white people  implicit_hate\n",
      "7  we who are pro-white want to preserve the whit...  implicit_hate\n",
      "8  the yankees are so disenchanted with their wom...  implicit_hate\n",
      "9                rape of europe  5sept2015 #altright       not_hate\n"
     ]
    }
   ],
   "source": [
    "trainset_read = pd.read_csv(trainset, delimiter='\\t')\n",
    "print(trainset_read[:10])"
   ]
  },
  {
   "cell_type": "code",
   "execution_count": 23,
   "id": "9dfd716f-2ce1-4528-861b-a52cb2fd3bb4",
   "metadata": {
    "id": "9dfd716f-2ce1-4528-861b-a52cb2fd3bb4",
    "outputId": "b93e684b-7524-46fd-c417-a8ac860fdd34"
   },
   "outputs": [
    {
     "name": "stdout",
     "output_type": "stream",
     "text": [
      "                                                post          class\n",
      "0  white community was a safe white community til...  explicit_hate\n",
      "1  a fetus is a baby and needs to be treated w / ...       not_hate\n",
      "2  that's not what he was saying . women voting o...  implicit_hate\n",
      "3  thats why dhs should put chutes on illegals, l...  implicit_hate\n",
      "4  : abortion has a market problem : #hb2 #protec...       not_hate\n",
      "5    \" police continue to stand down  people will...       not_hate\n",
      "6  you have a good work ethic  and i'm sure a few...       not_hate\n",
      "7                                        hello white       not_hate\n",
      "8   rt but the  \" third great awakening \" \" is ab...       not_hate\n",
      "9  not wanting your people and culture erased is ...       not_hate\n"
     ]
    }
   ],
   "source": [
    "devset_read = pd.read_csv(devset, delimiter='\\t')\n",
    "print(devset_read[:10])"
   ]
  },
  {
   "cell_type": "code",
   "execution_count": 24,
   "id": "de752222-0f34-4add-a139-03d5765f88e9",
   "metadata": {
    "id": "de752222-0f34-4add-a139-03d5765f88e9",
    "outputId": "e6e96d21-67fc-4fc7-c00c-9bd4a7875c5a"
   },
   "outputs": [
    {
     "name": "stdout",
     "output_type": "stream",
     "text": [
      "                                                post          class\n",
      "0  more i learn  more i realize how similar jews ...  explicit_hate\n",
      "1            they move into the third mixed nation .  implicit_hate\n",
      "2  npr says southern baptists are raising the whi...       not_hate\n",
      "3  wal mart queen hillary pontificates that modi ...       not_hate\n",
      "4  trumps so mentally unstable calling himself wh...       not_hate\n",
      "5  need a massive deportation program ... around ...  implicit_hate\n",
      "6  democrats in white hoods have hung white repub...  implicit_hate\n",
      "7  trump needs his hud examined : not a fan of fa...  explicit_hate\n",
      "8  very unlikely for most unless its a massive pu...       not_hate\n",
      "9  not generally . in some states  1/2 of black p...  implicit_hate\n"
     ]
    }
   ],
   "source": [
    "testset_read = pd.read_csv(testset, delimiter='\\t')\n",
    "print(testset_read[:10])"
   ]
  },
  {
   "cell_type": "markdown",
   "id": "001bf4d5-f341-4298-8806-8c6b6322845d",
   "metadata": {
    "id": "001bf4d5-f341-4298-8806-8c6b6322845d"
   },
   "source": [
    "## Loading the dataset"
   ]
  },
  {
   "cell_type": "code",
   "execution_count": 25,
   "id": "bb59e3e3-d2c9-4200-9501-4f3851710ba9",
   "metadata": {
    "id": "bb59e3e3-d2c9-4200-9501-4f3851710ba9",
    "outputId": "dd4aa6b3-ec57-4c7a-8372-0e1061f71b27"
   },
   "outputs": [
    {
     "name": "stdout",
     "output_type": "stream",
     "text": [
      "post\tclass\n",
      "\"they are not dreamers, if they are illegal they aren't immigrant they are \"\"\"\"intruder invaders\"\"\"\".\"\timplicit_hate\n",
      "\" i get it . you feel bad for being white . you assume  \"\" white privilege \"\" \"\" and \"\" \"\" the patriarchy \"\" \"\" must be torn down . you want to help . not me . \"\"\"\tnot_hate\n",
      "saudi arabia is a disgusting, inhuman regime. truly evil. lower than vermin. still, business is business. kerching!\texplicit_hate\n",
      "2 hollywood jews want us to feel bad for not importing jihadists whose doctrine has more jew hate than mein kampf\texplicit_hate\n"
     ]
    }
   ],
   "source": [
    "with open(trainset, \"r\") as file:\n",
    "    for i, line in enumerate(file):\n",
    "        if i < 5:  \n",
    "            print(line.strip())"
   ]
  },
  {
   "cell_type": "code",
   "execution_count": 26,
   "id": "63d6f758-e9d9-4900-a9f2-645698031e8b",
   "metadata": {
    "id": "63d6f758-e9d9-4900-a9f2-645698031e8b"
   },
   "outputs": [],
   "source": [
    "data = []\n",
    "with open(trainset, \"r\") as file:\n",
    "    for line in file:\n",
    "        row = line.strip().split('\\t')\n",
    "        if len(row) >= 2:  \n",
    "            data.append([row[0], row[1]]) \n",
    "\n",
    "df_train = pd.DataFrame(data, columns=['post', 'class'])"
   ]
  },
  {
   "cell_type": "code",
   "execution_count": 27,
   "id": "1d547f71-3656-455e-9836-6c9705ca4bd8",
   "metadata": {
    "id": "1d547f71-3656-455e-9836-6c9705ca4bd8",
    "outputId": "dcbe0fd5-94b3-4c73-dd21-16f881eb4708"
   },
   "outputs": [
    {
     "name": "stdout",
     "output_type": "stream",
     "text": [
      "Train DataFrame columns: ['post', 'class']\n"
     ]
    }
   ],
   "source": [
    "print(\"Train DataFrame columns:\", df_train.columns.tolist())"
   ]
  },
  {
   "cell_type": "code",
   "execution_count": 28,
   "id": "75f290f4-e085-4ecc-a7b9-0de73cdcc9b1",
   "metadata": {
    "id": "75f290f4-e085-4ecc-a7b9-0de73cdcc9b1",
    "outputId": "3f633d4a-cb40-46df-a982-2a920f8d30b8"
   },
   "outputs": [
    {
     "data": {
      "text/plain": [
       "pandas.core.series.Series"
      ]
     },
     "execution_count": 28,
     "metadata": {},
     "output_type": "execute_result"
    }
   ],
   "source": [
    "type(df_train['post'].iloc[0:10])"
   ]
  },
  {
   "cell_type": "code",
   "execution_count": 29,
   "id": "022268ae-c75b-4a79-9950-d729b8429784",
   "metadata": {
    "id": "022268ae-c75b-4a79-9950-d729b8429784"
   },
   "outputs": [],
   "source": [
    "data = []\n",
    "with open(devset, \"r\") as file:\n",
    "    for line in file:\n",
    "        row = line.strip().split('\\t')\n",
    "        if len(row) >= 2:  \n",
    "            data.append([row[0], row[1]]) \n",
    "\n",
    "df_dev = pd.DataFrame(data, columns=['post', 'class'])"
   ]
  },
  {
   "cell_type": "code",
   "execution_count": 30,
   "id": "5110126d-7431-403c-9bc5-2ecfda9f23b4",
   "metadata": {
    "id": "5110126d-7431-403c-9bc5-2ecfda9f23b4",
    "outputId": "bccc9972-042f-47b6-e46c-f5c2fc7cad3c"
   },
   "outputs": [
    {
     "name": "stdout",
     "output_type": "stream",
     "text": [
      "Train DataFrame columns: ['post', 'class']\n"
     ]
    }
   ],
   "source": [
    "print(\"Train DataFrame columns:\", df_dev.columns.tolist())"
   ]
  },
  {
   "cell_type": "code",
   "execution_count": 31,
   "id": "7e1cc6d1-a5e3-410b-98e9-2d7506edef80",
   "metadata": {
    "id": "7e1cc6d1-a5e3-410b-98e9-2d7506edef80"
   },
   "outputs": [],
   "source": [
    "data = []\n",
    "with open(testset, \"r\") as file:\n",
    "    for line in file:\n",
    "        row = line.strip().split('\\t')\n",
    "        if len(row) >= 2:  \n",
    "            data.append([row[0], row[1]])  \n",
    "\n",
    "df_test = pd.DataFrame(data, columns=['post', 'class'])\n"
   ]
  },
  {
   "cell_type": "code",
   "execution_count": 32,
   "id": "257eae1d-5b6a-410a-a0a9-35cc94b0ad97",
   "metadata": {
    "id": "257eae1d-5b6a-410a-a0a9-35cc94b0ad97",
    "outputId": "c763babd-20c8-454c-fe3c-7fff0af6ef8f"
   },
   "outputs": [
    {
     "name": "stdout",
     "output_type": "stream",
     "text": [
      "Train DataFrame columns: ['post', 'class']\n"
     ]
    }
   ],
   "source": [
    "print(\"Train DataFrame columns:\", df_test.columns.tolist())"
   ]
  },
  {
   "cell_type": "code",
   "execution_count": 33,
   "id": "9d5f767d-6fb9-4dea-afbb-f02dc1113005",
   "metadata": {
    "id": "9d5f767d-6fb9-4dea-afbb-f02dc1113005",
    "outputId": "a5d1cf81-865e-4cd6-e83b-7707bc724a3e"
   },
   "outputs": [
    {
     "data": {
      "text/plain": [
       "class\n",
       "not_hate         7919\n",
       "implicit_hate    4296\n",
       "explicit_hate     672\n",
       "class               1\n",
       "                    1\n",
       "Name: count, dtype: int64"
      ]
     },
     "execution_count": 33,
     "metadata": {},
     "output_type": "execute_result"
    }
   ],
   "source": [
    "df_train['class'].value_counts()"
   ]
  },
  {
   "cell_type": "code",
   "execution_count": 34,
   "id": "f80b59fe-ba8e-4eba-8f0e-f8862dacfb70",
   "metadata": {
    "id": "f80b59fe-ba8e-4eba-8f0e-f8862dacfb70",
    "outputId": "6b31b09f-2e8f-4fcd-ccec-da48888882fc"
   },
   "outputs": [
    {
     "data": {
      "text/plain": [
       "class\n",
       "not_hate         2677\n",
       "implicit_hate    1397\n",
       "explicit_hate     222\n",
       "class               1\n",
       "Name: count, dtype: int64"
      ]
     },
     "execution_count": 34,
     "metadata": {},
     "output_type": "execute_result"
    }
   ],
   "source": [
    "df_dev['class'].value_counts()"
   ]
  },
  {
   "cell_type": "code",
   "execution_count": 35,
   "id": "07b8560f-2fc1-47b1-9377-2c1ea6c43bfc",
   "metadata": {
    "id": "07b8560f-2fc1-47b1-9377-2c1ea6c43bfc",
    "outputId": "3bd8577a-551f-4cf5-a4bf-b9f30804178c"
   },
   "outputs": [
    {
     "data": {
      "text/plain": [
       "class\n",
       "not_hate         2695\n",
       "implicit_hate    1406\n",
       "explicit_hate     195\n",
       "class               1\n",
       "Name: count, dtype: int64"
      ]
     },
     "execution_count": 35,
     "metadata": {},
     "output_type": "execute_result"
    }
   ],
   "source": [
    "df_test['class'].value_counts()"
   ]
  },
  {
   "cell_type": "markdown",
   "id": "446c7a9e-8572-4c62-8a3a-7f51050662ad",
   "metadata": {
    "id": "446c7a9e-8572-4c62-8a3a-7f51050662ad"
   },
   "source": [
    "## Data Preprocessing\n",
    "\n",
    "In our dataset, the labels are organized like this:\n",
    "\n",
    "not_hate\n",
    "implicit_hate\n",
    "explicit_hate\n"
   ]
  },
  {
   "cell_type": "code",
   "execution_count": 36,
   "id": "62661d5f-e22b-404c-8f0b-744e563e2d96",
   "metadata": {
    "id": "62661d5f-e22b-404c-8f0b-744e563e2d96",
    "outputId": "4a45f577-86e6-405e-abdc-64a5515b8369"
   },
   "outputs": [
    {
     "data": {
      "text/plain": [
       "Embedding(50265, 768, padding_idx=1)"
      ]
     },
     "execution_count": 36,
     "metadata": {},
     "output_type": "execute_result"
    }
   ],
   "source": [
    "model.resize_token_embeddings(len(tokenizer))"
   ]
  },
  {
   "cell_type": "code",
   "execution_count": 7,
   "id": "de46013d-40fe-4064-89bd-08f227a682f1",
   "metadata": {
    "id": "de46013d-40fe-4064-89bd-08f227a682f1"
   },
   "outputs": [],
   "source": [
    "from datasets import load_dataset\n",
    "\n",
    "dataset_train = load_dataset('csv', data_files={'train': 'train_data.tsv'}, delimiter='\\t')\n",
    "dataset_dev = load_dataset('csv', data_files={'dev': 'dev_data.tsv'}, delimiter='\\t')\n",
    "dataset_test = load_dataset('csv', data_files={'test': 'test_data.tsv'}, delimiter='\\t')\n",
    "\n",
    "tokenizer = RobertaTokenizer.from_pretrained('roberta-base')\n",
    "\n",
    "def tokenize_and_align_labels(examples):\n",
    "    tokenized_inputs = tokenizer(examples[\"post\"], truncation=True, padding=True, max_length=512)\n",
    "\n",
    "    # Mapping the 'class' labels to numerical labels (0 = not_hate, 1 = implicit_hate, 2 = explicit_hate)\n",
    "    label_mapping = {\"not_hate\": 0, \"implicit_hate\": 1, \"explicit_hate\": 2}\n",
    "    labels = [label_mapping[label] for label in examples[\"class\"]]\n",
    "\n",
    "    tokenized_inputs[\"labels\"] = labels\n",
    "    return tokenized_inputs\n",
    "\n"
   ]
  },
  {
   "cell_type": "code",
   "execution_count": 8,
   "id": "b5bd04a5-5c73-4c37-8387-fe55d2cb50f6",
   "metadata": {
    "colab": {
     "referenced_widgets": [
      "0c081ec37e5042fb94755892c431d440"
     ]
    },
    "id": "b5bd04a5-5c73-4c37-8387-fe55d2cb50f6",
    "outputId": "79abd11d-32b5-4b9e-ec7f-827e25734735"
   },
   "outputs": [
    {
     "name": "stdout",
     "output_type": "stream",
     "text": [
      "{'post': 'be brave and admit you a / zionist racist full of hate islam historicallywhat about your money collect', 'class': 'explicit_hate', 'input_ids': [0, 1610, 10025, 8, 8109, 47, 10, 1589, 992, 1499, 661, 7159, 455, 9, 4157, 16, 5112, 9644, 12196, 59, 110, 418, 5555, 2, 1, 1, 1, 1, 1, 1, 1, 1, 1, 1, 1, 1, 1, 1, 1, 1, 1, 1, 1, 1, 1, 1, 1, 1, 1, 1, 1, 1, 1, 1, 1, 1, 1, 1, 1, 1, 1, 1, 1, 1, 1, 1, 1, 1], 'attention_mask': [1, 1, 1, 1, 1, 1, 1, 1, 1, 1, 1, 1, 1, 1, 1, 1, 1, 1, 1, 1, 1, 1, 1, 1, 0, 0, 0, 0, 0, 0, 0, 0, 0, 0, 0, 0, 0, 0, 0, 0, 0, 0, 0, 0, 0, 0, 0, 0, 0, 0, 0, 0, 0, 0, 0, 0, 0, 0, 0, 0, 0, 0, 0, 0, 0, 0, 0, 0], 'labels': 2}\n"
     ]
    }
   ],
   "source": [
    "tokenized_datasets_train = dataset_train['train'].map(tokenize_and_align_labels, batched=True)\n",
    "\n",
    "print(tokenized_datasets_train[10])"
   ]
  },
  {
   "cell_type": "code",
   "execution_count": 9,
   "id": "8ec6137a-f4f5-4ad6-98bf-83aa613bc2ce",
   "metadata": {
    "colab": {
     "referenced_widgets": [
      "accfa5361c504ed295889ee06619c749"
     ]
    },
    "id": "8ec6137a-f4f5-4ad6-98bf-83aa613bc2ce",
    "outputId": "d8d683e7-c7d6-43d3-9bf7-419186a3b9bd"
   },
   "outputs": [
    {
     "name": "stdout",
     "output_type": "stream",
     "text": [
      "{'post': 'interfered in their elect and inserted yeltsin  that the real numbers showed that communist party won and victory shld had gone 2 zyuganov', 'class': 'not_hate', 'input_ids': [0, 8007, 506, 3215, 11, 49, 10371, 8, 24557, 1423, 523, 1872, 179, 1437, 14, 5, 588, 1530, 969, 14, 19884, 537, 351, 8, 1124, 1481, 4779, 56, 1613, 132, 992, 219, 3252, 260, 1417, 2, 1, 1, 1, 1, 1, 1, 1, 1, 1, 1, 1, 1, 1, 1, 1, 1, 1, 1, 1, 1, 1, 1, 1, 1, 1, 1, 1, 1, 1, 1, 1, 1, 1, 1, 1, 1, 1, 1, 1, 1, 1, 1, 1, 1, 1, 1, 1, 1, 1, 1, 1, 1, 1, 1, 1, 1, 1, 1, 1, 1, 1, 1, 1, 1, 1, 1, 1, 1, 1, 1, 1, 1, 1, 1, 1, 1, 1, 1, 1, 1, 1, 1, 1, 1, 1, 1, 1, 1, 1], 'attention_mask': [1, 1, 1, 1, 1, 1, 1, 1, 1, 1, 1, 1, 1, 1, 1, 1, 1, 1, 1, 1, 1, 1, 1, 1, 1, 1, 1, 1, 1, 1, 1, 1, 1, 1, 1, 1, 0, 0, 0, 0, 0, 0, 0, 0, 0, 0, 0, 0, 0, 0, 0, 0, 0, 0, 0, 0, 0, 0, 0, 0, 0, 0, 0, 0, 0, 0, 0, 0, 0, 0, 0, 0, 0, 0, 0, 0, 0, 0, 0, 0, 0, 0, 0, 0, 0, 0, 0, 0, 0, 0, 0, 0, 0, 0, 0, 0, 0, 0, 0, 0, 0, 0, 0, 0, 0, 0, 0, 0, 0, 0, 0, 0, 0, 0, 0, 0, 0, 0, 0, 0, 0, 0, 0, 0, 0], 'labels': 0}\n"
     ]
    }
   ],
   "source": [
    "tokenized_datasets_dev = dataset_dev['dev'].map(tokenize_and_align_labels, batched=True)\n",
    "\n",
    "print(tokenized_datasets_dev[10])"
   ]
  },
  {
   "cell_type": "code",
   "execution_count": 10,
   "id": "9ced182c-b1b0-4612-bea1-cff761774185",
   "metadata": {
    "colab": {
     "referenced_widgets": [
      "2828d360b14f4e1cb05608c09cd36cc9"
     ]
    },
    "id": "9ced182c-b1b0-4612-bea1-cff761774185",
    "outputId": "757dfc28-ae95-4227-c3ff-d3e644d04c13"
   },
   "outputs": [
    {
     "name": "stdout",
     "output_type": "stream",
     "text": [
      "{'post': 'jew is someone who punches you and cries out in pain . dirty vermin .', 'class': 'explicit_hate', 'input_ids': [0, 34929, 16, 951, 54, 19594, 47, 8, 25355, 66, 11, 2400, 479, 11216, 4342, 4691, 479, 2, 1, 1, 1, 1, 1, 1, 1, 1, 1, 1, 1, 1, 1, 1, 1, 1, 1, 1, 1, 1, 1, 1, 1, 1, 1, 1, 1, 1, 1, 1, 1, 1, 1, 1, 1, 1, 1, 1, 1, 1, 1, 1, 1, 1, 1, 1, 1, 1, 1, 1, 1, 1, 1, 1, 1, 1, 1, 1, 1, 1], 'attention_mask': [1, 1, 1, 1, 1, 1, 1, 1, 1, 1, 1, 1, 1, 1, 1, 1, 1, 1, 0, 0, 0, 0, 0, 0, 0, 0, 0, 0, 0, 0, 0, 0, 0, 0, 0, 0, 0, 0, 0, 0, 0, 0, 0, 0, 0, 0, 0, 0, 0, 0, 0, 0, 0, 0, 0, 0, 0, 0, 0, 0, 0, 0, 0, 0, 0, 0, 0, 0, 0, 0, 0, 0, 0, 0, 0, 0, 0, 0], 'labels': 2}\n"
     ]
    }
   ],
   "source": [
    "tokenized_datasets_test = dataset_test['test'].map(tokenize_and_align_labels, batched=True)\n",
    "\n",
    "print(tokenized_datasets_test[10])"
   ]
  },
  {
   "cell_type": "markdown",
   "id": "6bdbe626-da3e-40a8-9139-a51ad203e06d",
   "metadata": {
    "id": "6bdbe626-da3e-40a8-9139-a51ad203e06d"
   },
   "source": [
    "## Fine tuning the model"
   ]
  },
  {
   "cell_type": "code",
   "execution_count": 11,
   "id": "a3b00c3c-a772-48c2-ba36-3af294a8f1ba",
   "metadata": {
    "id": "a3b00c3c-a772-48c2-ba36-3af294a8f1ba"
   },
   "outputs": [],
   "source": [
    "label_list = [\"not_hate\", \"implicit_hate\", \"explicit_hate\"]\n",
    "num_labels = len(label_list)"
   ]
  },
  {
   "cell_type": "code",
   "execution_count": 12,
   "id": "f013ea31-ffb7-4ecb-a603-8ce32edee824",
   "metadata": {
    "id": "f013ea31-ffb7-4ecb-a603-8ce32edee824",
    "outputId": "d6f59e9f-9038-4d49-a589-250b51b3e0b8"
   },
   "outputs": [
    {
     "data": {
      "text/plain": [
       "['not_hate', 'implicit_hate', 'explicit_hate']"
      ]
     },
     "execution_count": 12,
     "metadata": {},
     "output_type": "execute_result"
    }
   ],
   "source": [
    "label_list"
   ]
  },
  {
   "cell_type": "code",
   "execution_count": 13,
   "id": "cb779ed6-0f5b-44fb-8131-392e06e2b454",
   "metadata": {
    "id": "cb779ed6-0f5b-44fb-8131-392e06e2b454"
   },
   "outputs": [],
   "source": [
    "# metric = load(\"seqeval\")\n",
    "\n",
    "from evaluate import load\n",
    "accuracy_metric = load(\"accuracy\")\n",
    "f1_metric = load(\"f1\")"
   ]
  },
  {
   "cell_type": "code",
   "execution_count": 14,
   "id": "4076354e-239a-4922-b918-644e53bc77ab",
   "metadata": {
    "id": "4076354e-239a-4922-b918-644e53bc77ab"
   },
   "outputs": [],
   "source": [
    "def compute_metrics(p):\n",
    "    predictions, labels = p\n",
    "    predictions = np.argmax(predictions, axis=1)\n",
    "\n",
    "    return {\n",
    "        \"accuracy\": accuracy_metric.compute(predictions=predictions.tolist(), references=labels.tolist())[\"accuracy\"],\n",
    "        \"f1\": f1_metric.compute(predictions=predictions.tolist(), references=labels.tolist(), average=\"weighted\")[\"f1\"],\n",
    "    }\n"
   ]
  },
  {
   "cell_type": "code",
   "execution_count": 15,
   "id": "639c24b1-1394-4caa-93a8-4f15e5c6dc53",
   "metadata": {
    "id": "639c24b1-1394-4caa-93a8-4f15e5c6dc53",
    "outputId": "ccc8f961-23f6-4840-f67c-f568741a5fa0"
   },
   "outputs": [
    {
     "name": "stderr",
     "output_type": "stream",
     "text": [
      "Some weights of RobertaForSequenceClassification were not initialized from the model checkpoint at roberta-base and are newly initialized: ['classifier.dense.bias', 'classifier.dense.weight', 'classifier.out_proj.bias', 'classifier.out_proj.weight']\n",
      "You should probably TRAIN this model on a down-stream task to be able to use it for predictions and inference.\n",
      "/var/folders/vd/xkcxq0p96sxd5bgjgdng13s00000gn/T/ipykernel_1823/222239762.py:30: FutureWarning: `tokenizer` is deprecated and will be removed in version 5.0.0 for `Trainer.__init__`. Use `processing_class` instead.\n",
      "  trainer = Trainer(\n"
     ]
    }
   ],
   "source": [
    "from transformers import AutoModelForSequenceClassification, AutoTokenizer, Trainer, TrainingArguments, set_seed\n",
    "from transformers import DataCollatorWithPadding\n",
    "data_collator = DataCollatorWithPadding(tokenizer=tokenizer)\n",
    "\n",
    "SEED = 25\n",
    "set_seed(SEED)\n",
    "\n",
    "\n",
    "model_name = model_checkpoint.split(\"/\")[-1]\n",
    "\n",
    "tokenizer = RobertaTokenizer.from_pretrained('roberta-base')\n",
    "model = RobertaForSequenceClassification.from_pretrained('roberta-base', \n",
    "    num_labels=3\n",
    ")\n",
    "\n",
    "args = TrainingArguments(\n",
    "    output_dir=f\"{model_name}-finetuned-{task}\",\n",
    "    eval_strategy=\n",
    "\"epoch\",  \n",
    "    learning_rate=5e-5,\n",
    "    per_device_train_batch_size=batch_size,\n",
    "    per_device_eval_batch_size=batch_size,\n",
    "    num_train_epochs=2,\n",
    "    weight_decay=0.01,\n",
    "    seed=SEED,\n",
    "    report_to=None,\n",
    ")\n",
    "\n",
    "trainer = Trainer(\n",
    "    model=model,\n",
    "    args=args,\n",
    "    train_dataset=tokenized_datasets_train,\n",
    "    eval_dataset=tokenized_datasets_dev,\n",
    "    data_collator=data_collator,\n",
    "    tokenizer=tokenizer,\n",
    "    compute_metrics=compute_metrics\n",
    ")\n",
    "\n"
   ]
  },
  {
   "cell_type": "code",
   "execution_count": 16,
   "id": "f6659498-0120-45da-b84b-7ac01edcd8aa",
   "metadata": {
    "id": "f6659498-0120-45da-b84b-7ac01edcd8aa",
    "outputId": "e9cb7efd-dee1-4fe0-d807-7c0a486acadf"
   },
   "outputs": [
    {
     "data": {
      "text/html": [
       "\n",
       "    <div>\n",
       "      \n",
       "      <progress value='1612' max='1612' style='width:300px; height:20px; vertical-align: middle;'></progress>\n",
       "      [1612/1612 9:01:19, Epoch 2/2]\n",
       "    </div>\n",
       "    <table border=\"1\" class=\"dataframe\">\n",
       "  <thead>\n",
       " <tr style=\"text-align: left;\">\n",
       "      <th>Epoch</th>\n",
       "      <th>Training Loss</th>\n",
       "      <th>Validation Loss</th>\n",
       "      <th>Accuracy</th>\n",
       "      <th>F1</th>\n",
       "    </tr>\n",
       "  </thead>\n",
       "  <tbody>\n",
       "    <tr>\n",
       "      <td>1</td>\n",
       "      <td>0.696300</td>\n",
       "      <td>0.580245</td>\n",
       "      <td>0.739758</td>\n",
       "      <td>0.739573</td>\n",
       "    </tr>\n",
       "    <tr>\n",
       "      <td>2</td>\n",
       "      <td>0.502400</td>\n",
       "      <td>0.542423</td>\n",
       "      <td>0.764432</td>\n",
       "      <td>0.756264</td>\n",
       "    </tr>\n",
       "  </tbody>\n",
       "</table><p>"
      ],
      "text/plain": [
       "<IPython.core.display.HTML object>"
      ]
     },
     "metadata": {},
     "output_type": "display_data"
    },
    {
     "data": {
      "text/plain": [
       "TrainOutput(global_step=1612, training_loss=0.5862881374122487, metrics={'train_runtime': 32509.9946, 'train_samples_per_second': 0.793, 'train_steps_per_second': 0.05, 'total_flos': 2234474255466432.0, 'train_loss': 0.5862881374122487, 'epoch': 2.0})"
      ]
     },
     "execution_count": 16,
     "metadata": {},
     "output_type": "execute_result"
    }
   ],
   "source": [
    "trainer.train()"
   ]
  },
  {
   "cell_type": "code",
   "execution_count": 17,
   "id": "3fac9518-73da-4de0-a79a-f9f82adc2502",
   "metadata": {
    "id": "3fac9518-73da-4de0-a79a-f9f82adc2502",
    "outputId": "a3067514-0ebb-42af-8769-2a454cb06b61"
   },
   "outputs": [
    {
     "data": {
      "text/html": [],
      "text/plain": [
       "<IPython.core.display.HTML object>"
      ]
     },
     "metadata": {},
     "output_type": "display_data"
    },
    {
     "data": {
      "text/plain": [
       "{'eval_loss': 0.5424228310585022,\n",
       " 'eval_accuracy': 0.7644320297951583,\n",
       " 'eval_f1': 0.7562642158055397,\n",
       " 'eval_runtime': 662.7389,\n",
       " 'eval_samples_per_second': 6.482,\n",
       " 'eval_steps_per_second': 0.406,\n",
       " 'epoch': 2.0}"
      ]
     },
     "execution_count": 17,
     "metadata": {},
     "output_type": "execute_result"
    }
   ],
   "source": [
    "trainer.evaluate()"
   ]
  },
  {
   "cell_type": "code",
   "execution_count": 18,
   "id": "9844c866-530b-49a1-8949-44671e75ad87",
   "metadata": {
    "id": "9844c866-530b-49a1-8949-44671e75ad87"
   },
   "outputs": [],
   "source": [
    "def evaluate_predictions(predictions, gold_labels, label_list):\n",
    "    \"\"\"\n",
    "    Evaluate predictions against gold labels and print metrics.\n",
    "    \"\"\"\n",
    "    predictions_flat = [label_list.index(label) for label in predictions]\n",
    "    gold_labels_flat = [label_list.index(label) for label in gold_labels]\n",
    "\n",
    "    accuracy = accuracy_score(gold_labels_flat, predictions_flat)\n",
    "    report = classification_report(gold_labels_flat, predictions_flat, target_names=label_list, digits=4)\n",
    "\n",
    "    cm = confusion_matrix(gold_labels_flat, predictions_flat, labels=list(range(len(label_list))))\n",
    "    disp = ConfusionMatrixDisplay(confusion_matrix=cm, display_labels=label_list)\n",
    "\n",
    "    print(\"Accuracy:\", accuracy)\n",
    "    print(\"Classification Report:\\n\", report)\n",
    "    disp.plot(cmap=plt.cm.Purples, xticks_rotation='vertical')\n",
    "    plt.title(\"Confusion Matrix\")\n",
    "    plt.show()"
   ]
  },
  {
   "cell_type": "code",
   "execution_count": 19,
   "id": "cd9e9b2b-6732-4072-86a7-7425cc672e67",
   "metadata": {
    "id": "cd9e9b2b-6732-4072-86a7-7425cc672e67"
   },
   "outputs": [],
   "source": [
    "predictions, labels, _ = trainer.predict(tokenized_datasets_dev)\n",
    "predicted_indices = np.argmax(predictions, axis=1)"
   ]
  },
  {
   "cell_type": "code",
   "execution_count": 21,
   "id": "3bc94daf-4ab5-425c-8593-b46d24e375b7",
   "metadata": {
    "id": "3bc94daf-4ab5-425c-8593-b46d24e375b7"
   },
   "outputs": [],
   "source": [
    "label_list = [\"not_hate\", \"implicit_hate\", \"explicit_hate\"]\n",
    "\n",
    "# Converting class indices to string labels\n",
    "predicted_labels = [label_list[i] for i in predicted_indices]\n",
    "gold_labels = [label_list[i] for i in labels]\n"
   ]
  },
  {
   "cell_type": "code",
   "execution_count": 22,
   "id": "1bafcae7-1584-497c-b84c-1bc67b142bc5",
   "metadata": {
    "id": "1bafcae7-1584-497c-b84c-1bc67b142bc5",
    "outputId": "ce55bcce-20ed-4b2f-be34-bf951c96edc0"
   },
   "outputs": [
    {
     "name": "stdout",
     "output_type": "stream",
     "text": [
      "Accuracy: 0.7644320297951583\n",
      "Classification Report:\n",
      "                precision    recall  f1-score   support\n",
      "\n",
      "     not_hate     0.8230    0.8670    0.8445      2677\n",
      "implicit_hate     0.6611    0.6535    0.6573      1397\n",
      "explicit_hate     0.5263    0.2252    0.3155       222\n",
      "\n",
      "     accuracy                         0.7644      4296\n",
      "    macro avg     0.6702    0.5819    0.6057      4296\n",
      " weighted avg     0.7551    0.7644    0.7563      4296\n",
      "\n"
     ]
    },
    {
     "data": {
      "image/png": "[encoded data removed]",
      "text/plain": [
       "<Figure size 640x480 with 2 Axes>"
      ]
     },
     "metadata": {},
     "output_type": "display_data"
    }
   ],
   "source": [
    "evaluate_predictions(predicted_labels, gold_labels, label_list)\n"
   ]
  },
  {
   "cell_type": "code",
   "execution_count": 23,
   "id": "2f2c3af0-05db-4fec-a60c-d93817f83a43",
   "metadata": {
    "id": "2f2c3af0-05db-4fec-a60c-d93817f83a43",
    "outputId": "21dce4b0-3305-433f-b83f-e7dcd7c7574d",
    "scrolled": true
   },
   "outputs": [
    {
     "name": "stdout",
     "output_type": "stream",
     "text": [
      "dict_keys(['post', 'class', 'input_ids', 'attention_mask', 'labels'])\n"
     ]
    }
   ],
   "source": [
    "print(tokenized_datasets_dev[0].keys())\n",
    "\n",
    "posts = [example['post'] for example in tokenized_datasets_dev]  # adjust field name as needed\n",
    "\n",
    "df = pd.DataFrame({\n",
    "    \"post\": posts,\n",
    "    \"predicted_label\": predicted_labels,\n",
    "    \"gold_label\": gold_labels,\n",
    "})\n",
    "df.to_csv(\"Roberta_predictions_vs_gold_train_dev.csv\", index=False)"
   ]
  },
  {
   "cell_type": "code",
   "execution_count": 24,
   "id": "59c92591-45c3-42a4-bcda-8eccf09d89d4",
   "metadata": {
    "id": "59c92591-45c3-42a4-bcda-8eccf09d89d4"
   },
   "outputs": [],
   "source": [
    "def compute_metrics(p):\n",
    "    predictions, labels = p\n",
    "    predictions = np.argmax(predictions, axis=1)\n",
    "\n",
    "    return {\n",
    "        \"accuracy\": accuracy_metric.compute(predictions=predictions.tolist(), references=labels.tolist())[\"accuracy\"],\n",
    "        \"f1\": f1_metric.compute(predictions=predictions.tolist(), references=labels.tolist(), average=\"weighted\")[\"f1\"],\n",
    "    }\n"
   ]
  },
  {
   "cell_type": "code",
   "execution_count": 25,
   "id": "46738a88-41ff-4a83-9e0e-981090337b74",
   "metadata": {
    "id": "46738a88-41ff-4a83-9e0e-981090337b74",
    "outputId": "2bb39696-48b9-4f9e-a645-63597729099a"
   },
   "outputs": [
    {
     "name": "stderr",
     "output_type": "stream",
     "text": [
      "Some weights of RobertaForSequenceClassification were not initialized from the model checkpoint at roberta-base and are newly initialized: ['classifier.dense.bias', 'classifier.dense.weight', 'classifier.out_proj.bias', 'classifier.out_proj.weight']\n",
      "You should probably TRAIN this model on a down-stream task to be able to use it for predictions and inference.\n",
      "/var/folders/vd/xkcxq0p96sxd5bgjgdng13s00000gn/T/ipykernel_1823/1562669289.py:26: FutureWarning: `tokenizer` is deprecated and will be removed in version 5.0.0 for `Trainer.__init__`. Use `processing_class` instead.\n",
      "  trainer1 = Trainer(\n"
     ]
    }
   ],
   "source": [
    "SEED = 237\n",
    "set_seed(SEED)\n",
    "\n",
    "\n",
    "model_name = model_checkpoint.split(\"/\")[-1]\n",
    "\n",
    "tokenizer = AutoTokenizer.from_pretrained(model_checkpoint)\n",
    "\n",
    "model = AutoModelForSequenceClassification.from_pretrained(\n",
    "    model_checkpoint,\n",
    "    num_labels=3\n",
    ")\n",
    "\n",
    "args = TrainingArguments(\n",
    "    output_dir=f\"{model_name}-finetuned-{task}\",\n",
    "    eval_strategy=\"epoch\",  # Updated to use current parameter name\n",
    "    learning_rate=5e-5,\n",
    "    per_device_train_batch_size=batch_size,\n",
    "    per_device_eval_batch_size=batch_size,\n",
    "    num_train_epochs=2,\n",
    "    weight_decay=0.01,\n",
    "    seed=SEED,\n",
    "    report_to=None,\n",
    ")\n",
    "\n",
    "trainer1 = Trainer(\n",
    "    model=model,\n",
    "    args=args,\n",
    "    train_dataset=tokenized_datasets_train,\n",
    "    eval_dataset=tokenized_datasets_test,\n",
    "    data_collator=data_collator,\n",
    "    tokenizer=tokenizer,\n",
    "    compute_metrics=compute_metrics\n",
    ")\n"
   ]
  },
  {
   "cell_type": "code",
   "execution_count": 26,
   "id": "2e897a8b-d54b-4f27-9c83-1e7876cc9115",
   "metadata": {
    "id": "2e897a8b-d54b-4f27-9c83-1e7876cc9115",
    "outputId": "e708c6f5-6305-472a-fb24-fdec509c9b1a"
   },
   "outputs": [
    {
     "data": {
      "text/html": [
       "\n",
       "    <div>\n",
       "      \n",
       "      <progress value='1612' max='1612' style='width:300px; height:20px; vertical-align: middle;'></progress>\n",
       "      [1612/1612 8:11:12, Epoch 2/2]\n",
       "    </div>\n",
       "    <table border=\"1\" class=\"dataframe\">\n",
       "  <thead>\n",
       " <tr style=\"text-align: left;\">\n",
       "      <th>Epoch</th>\n",
       "      <th>Training Loss</th>\n",
       "      <th>Validation Loss</th>\n",
       "      <th>Accuracy</th>\n",
       "      <th>F1</th>\n",
       "    </tr>\n",
       "  </thead>\n",
       "  <tbody>\n",
       "    <tr>\n",
       "      <td>1</td>\n",
       "      <td>0.707500</td>\n",
       "      <td>0.599220</td>\n",
       "      <td>0.741155</td>\n",
       "      <td>0.721023</td>\n",
       "    </tr>\n",
       "    <tr>\n",
       "      <td>2</td>\n",
       "      <td>0.539800</td>\n",
       "      <td>0.556406</td>\n",
       "      <td>0.761406</td>\n",
       "      <td>0.754780</td>\n",
       "    </tr>\n",
       "  </tbody>\n",
       "</table><p>"
      ],
      "text/plain": [
       "<IPython.core.display.HTML object>"
      ]
     },
     "metadata": {},
     "output_type": "display_data"
    },
    {
     "data": {
      "text/plain": [
       "TrainOutput(global_step=1612, training_loss=0.5984205714526306, metrics={'train_runtime': 29508.3259, 'train_samples_per_second': 0.874, 'train_steps_per_second': 0.055, 'total_flos': 2229368210703648.0, 'train_loss': 0.5984205714526306, 'epoch': 2.0})"
      ]
     },
     "execution_count": 26,
     "metadata": {},
     "output_type": "execute_result"
    }
   ],
   "source": [
    "trainer1.train()"
   ]
  },
  {
   "cell_type": "code",
   "execution_count": 27,
   "id": "9945dd1c-e48a-4c1e-bae4-1f3bf6aa61e6",
   "metadata": {
    "id": "9945dd1c-e48a-4c1e-bae4-1f3bf6aa61e6",
    "outputId": "f0bf39aa-4d6b-44f7-b0f1-5f588b91b255"
   },
   "outputs": [
    {
     "data": {
      "text/html": [],
      "text/plain": [
       "<IPython.core.display.HTML object>"
      ]
     },
     "metadata": {},
     "output_type": "display_data"
    },
    {
     "data": {
      "text/plain": [
       "{'eval_loss': 0.5564058423042297,\n",
       " 'eval_accuracy': 0.7614059590316573,\n",
       " 'eval_f1': 0.7547801988221394,\n",
       " 'eval_runtime': 836.2215,\n",
       " 'eval_samples_per_second': 5.137,\n",
       " 'eval_steps_per_second': 0.322,\n",
       " 'epoch': 2.0}"
      ]
     },
     "execution_count": 27,
     "metadata": {},
     "output_type": "execute_result"
    }
   ],
   "source": [
    "trainer1.evaluate()"
   ]
  },
  {
   "cell_type": "code",
   "execution_count": 28,
   "id": "8cdb1aa0-2557-489e-aa15-fbf7de804354",
   "metadata": {
    "id": "8cdb1aa0-2557-489e-aa15-fbf7de804354"
   },
   "outputs": [],
   "source": [
    "predictions, labels, _ = trainer1.predict(tokenized_datasets_test)\n",
    "predicted_indices = np.argmax(predictions, axis=1)\n"
   ]
  },
  {
   "cell_type": "code",
   "execution_count": 29,
   "id": "8eb6370a-4ed1-4d36-b02b-1c05cfd9e347",
   "metadata": {
    "id": "8eb6370a-4ed1-4d36-b02b-1c05cfd9e347"
   },
   "outputs": [],
   "source": [
    "label_list = [\"not_hate\", \"implicit_hate\", \"explicit_hate\"]\n",
    "\n",
    "predicted_labels = [label_list[i] for i in predicted_indices]\n",
    "gold_labels = [label_list[i] for i in labels]"
   ]
  },
  {
   "cell_type": "code",
   "execution_count": 30,
   "id": "e9092da2-cbd6-4cbd-8de1-0f040d204eae",
   "metadata": {
    "id": "e9092da2-cbd6-4cbd-8de1-0f040d204eae",
    "outputId": "185529c0-68b6-41da-f6bb-fc38a9234bdc"
   },
   "outputs": [
    {
     "name": "stdout",
     "output_type": "stream",
     "text": [
      "Accuracy: 0.7614059590316573\n",
      "Classification Report:\n",
      "                precision    recall  f1-score   support\n",
      "\n",
      "     not_hate     0.8180    0.8605    0.8387      2695\n",
      "implicit_hate     0.6625    0.6422    0.6522      1406\n",
      "explicit_hate     0.5000    0.2513    0.3345       195\n",
      "\n",
      "     accuracy                         0.7614      4296\n",
      "    macro avg     0.6602    0.5847    0.6085      4296\n",
      " weighted avg     0.7527    0.7614    0.7548      4296\n",
      "\n"
     ]
    },
    {
     "data": {
      "image/png": "[encoded data removed]",
      "text/plain": [
       "<Figure size 640x480 with 2 Axes>"
      ]
     },
     "metadata": {},
     "output_type": "display_data"
    }
   ],
   "source": [
    "evaluate_predictions(predicted_labels, gold_labels, label_list)\n"
   ]
  }
 ],
 "metadata": {
  "colab": {
   "provenance": [
    {
     "file_id": "1F_t40dSj38YVLFP3J8T0MQ6d1VnXkkXS",
     "timestamp": 1746105343447
    }
   ]
  },
  "kernelspec": {
   "display_name": "Python (Anaconda)",
   "language": "python",
   "name": "anaconda_env"
  },
  "language_info": {
   "codemirror_mode": {
    "name": "ipython",
    "version": 3
   },
   "file_extension": ".py",
   "mimetype": "text/x-python",
   "name": "python",
   "nbconvert_exporter": "python",
   "pygments_lexer": "ipython3",
   "version": "3.12.7"
  }
 },
 "nbformat": 4,
 "nbformat_minor": 5
}
