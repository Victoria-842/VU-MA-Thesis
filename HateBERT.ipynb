{
 "cells": [
  {
   "cell_type": "markdown",
   "id": "d69ffe38-da3a-48bb-80f9-d336f72f2fc0",
   "metadata": {
    "id": "KLBzaFgdSauB"
   },
   "source": [
    "# HateBERT for Implicit hate speech detection"
   ]
  },
  {
   "cell_type": "code",
   "execution_count": null,
   "id": "b9ef6041-e2b7-44de-b47e-53b5e65d8226",
   "metadata": {
    "id": "b9ef6041-e2b7-44de-b47e-53b5e65d8226"
   },
   "outputs": [],
   "source": [
    "# !pip install evaluate\n",
    "# !pip install seqeval\n",
    "# !pip install ipywidgets\n",
    "# !pip install transformers datasets seqeval evaluate\n",
    "# !pip install pyfunctional\n",
    "# !pip install torch torchvision\n",
    "# !pip install spacy\n",
    "# !pip install -U spacy\n",
    "# !python -m spacy download en_core_web_sm\n",
    "# !python -m spacy validate\n",
    "# !pip install \"numpy<2\"\n",
    "# !pip install \"thinc<8.3.6\"\n",
    "# !pip install transformers\n",
    "# !pip install --upgrade transformers\n",
    "# !pip install 'accelerate>=0.26.0'\n",
    "# !pip install nltk\n",
    "# !pip install pandas\n"
   ]
  },
  {
   "cell_type": "code",
   "execution_count": 3,
   "id": "8544685e-1367-499f-8b09-af6a952dff02",
   "metadata": {
    "id": "8544685e-1367-499f-8b09-af6a952dff02"
   },
   "outputs": [],
   "source": [
    "import nltk\n",
    "from nltk.tokenize import sent_tokenize, word_tokenize\n",
    "from nltk.tree import Tree\n",
    "from nltk.stem.porter import PorterStemmer\n",
    "import re\n",
    "from collections import Counter\n",
    "import string\n",
    "import pandas as pd\n",
    "# import spacy\n",
    "# from spacy.tokens import Doc\n",
    "# from spacy import displacy\n",
    "# import benepar\n",
    "from itertools import chain\n",
    "import sklearn\n",
    "from sklearn.metrics import make_scorer\n",
    "from sklearn.model_selection import cross_val_score\n",
    "from sklearn.model_selection import RandomizedSearchCV\n",
    "from sklearn.model_selection import train_test_split\n",
    "\n",
    "import scipy.stats\n",
    "import pickle\n",
    "import networkx as nx\n",
    "import os, logging\n",
    "from collections import defaultdict\n",
    "from sklearn.metrics import precision_score, recall_score, f1_score, confusion_matrix, classification_report, ConfusionMatrixDisplay\n",
    "from itertools import combinations\n",
    "from sklearn.metrics import confusion_matrix, ConfusionMatrixDisplay\n",
    "import matplotlib.pyplot as plt\n",
    "from sklearn.metrics import accuracy_score, classification_report, confusion_matrix, ConfusionMatrixDisplay\n",
    "import matplotlib.pyplot as plt\n",
    "%matplotlib inline\n",
    "from sklearn.metrics import precision_recall_fscore_support, classification_report\n",
    "from sklearn.metrics import confusion_matrix, ConfusionMatrixDisplay, classification_report\n",
    "\n",
    "import numpy as np\n",
    "import matplotlib.pyplot as plt\n",
    "import re\n",
    "from datasets import load_dataset\n",
    "from evaluate import load\n",
    "from datasets import Dataset\n",
    "import os\n",
    "\n",
    "import csv\n",
    "\n",
    "import pkg_resources\n",
    "import subprocess\n",
    "import sys\n",
    "\n",
    "import numpy as np\n",
    "from numpy import log, mean\n",
    "from pandas import Series, DataFrame\n",
    "\n",
    "from typing import List, Tuple, Union\n",
    "import glob\n",
    "\n",
    "from functional import seq\n",
    "# from textblob import TextBlob\n",
    "import seaborn as sns\n",
    "import matplotlib.pyplot as plt\n",
    "\n",
    "from sklearn.feature_extraction.text import CountVectorizer, TfidfVectorizer\n",
    "from IPython.display import clear_output\n",
    "from typing import Dict, List, Tuple, Union\n",
    "\n",
    "from transformers import TrainingArguments, Trainer\n",
    "from transformers import AutoModelForSequenceClassification, AutoTokenizer, Trainer, TrainingArguments, set_seed\n",
    "from transformers import DataCollatorWithPadding\n"
   ]
  },
  {
   "cell_type": "code",
   "execution_count": null,
   "id": "930d32c5-b194-48b4-b1eb-0626c5a93386",
   "metadata": {
    "id": "930d32c5-b194-48b4-b1eb-0626c5a93386"
   },
   "outputs": [],
   "source": [
    "model_checkpoint = \"GroNLP/hateBERT\"\n",
    "task = \"hate_detection\"\n",
    "batch_size = 16"
   ]
  },
  {
   "cell_type": "code",
   "execution_count": null,
   "id": "1c9f1434-d822-47d8-a904-b82fb0b79fbc",
   "metadata": {
    "id": "1c9f1434-d822-47d8-a904-b82fb0b79fbc"
   },
   "outputs": [],
   "source": [
    "import torch\n",
    "x = torch.rand(5, 3)\n",
    "print(x)"
   ]
  },
  {
   "cell_type": "code",
   "execution_count": null,
   "id": "d5066738-3cb5-4f76-8efe-0f20bf75258f",
   "metadata": {
    "colab": {
     "referenced_widgets": [
      "0923497ed2d644babc2d3d56a9d066e6",
      "f6487fb76356482f9ab003d7baea26af",
      "55927f76ba3a465b98ba4842721835cb",
      "1975162bff6941b0b39e209ec94a0e97",
      "bbcf8d5005434b9f949dbcd45a410e8a"
     ]
    },
    "id": "d5066738-3cb5-4f76-8efe-0f20bf75258f",
    "outputId": "2cf7f167-9cdc-4d67-f980-5bd1ca2eb130"
   },
   "outputs": [
    {
     "data": {
      "application/vnd.jupyter.widget-view+json": {
       "model_id": "0923497ed2d644babc2d3d56a9d066e6",
       "version_major": 2,
       "version_minor": 0
      },
      "text/plain": [
       "tokenizer_config.json:   0%|          | 0.00/151 [00:00<?, ?B/s]"
      ]
     },
     "metadata": {},
     "output_type": "display_data"
    },
    {
     "data": {
      "application/vnd.jupyter.widget-view+json": {
       "model_id": "f6487fb76356482f9ab003d7baea26af",
       "version_major": 2,
       "version_minor": 0
      },
      "text/plain": [
       "vocab.txt:   0%|          | 0.00/232k [00:00<?, ?B/s]"
      ]
     },
     "metadata": {},
     "output_type": "display_data"
    },
    {
     "data": {
      "application/vnd.jupyter.widget-view+json": {
       "model_id": "55927f76ba3a465b98ba4842721835cb",
       "version_major": 2,
       "version_minor": 0
      },
      "text/plain": [
       "special_tokens_map.json:   0%|          | 0.00/112 [00:00<?, ?B/s]"
      ]
     },
     "metadata": {},
     "output_type": "display_data"
    },
    {
     "data": {
      "application/vnd.jupyter.widget-view+json": {
       "model_id": "1975162bff6941b0b39e209ec94a0e97",
       "version_major": 2,
       "version_minor": 0
      },
      "text/plain": [
       "config.json:   0%|          | 0.00/1.24k [00:00<?, ?B/s]"
      ]
     },
     "metadata": {},
     "output_type": "display_data"
    },
    {
     "data": {
      "application/vnd.jupyter.widget-view+json": {
       "model_id": "bbcf8d5005434b9f949dbcd45a410e8a",
       "version_major": 2,
       "version_minor": 0
      },
      "text/plain": [
       "model.safetensors:   0%|          | 0.00/440M [00:00<?, ?B/s]"
      ]
     },
     "metadata": {},
     "output_type": "display_data"
    },
    {
     "name": "stderr",
     "output_type": "stream",
     "text": [
      "Some weights of BertForSequenceClassification were not initialized from the model checkpoint at GroNLP/hateBERT and are newly initialized: ['classifier.bias', 'classifier.weight']\n",
      "You should probably TRAIN this model on a down-stream task to be able to use it for predictions and inference.\n"
     ]
    }
   ],
   "source": [
    "from transformers import BertTokenizer, BertForSequenceClassification\n",
    "tokenizer = BertTokenizer.from_pretrained(model_checkpoint)\n",
    "model = BertForSequenceClassification.from_pretrained(\n",
    "    model_checkpoint,\n",
    "    num_labels=3\n",
    ")"
   ]
  },
  {
   "cell_type": "markdown",
   "id": "DSK5LwQUtwOQ",
   "metadata": {
    "id": "DSK5LwQUtwOQ"
   },
   "source": [
    "## Data analysis\n"
   ]
  },
  {
   "cell_type": "markdown",
   "id": "d2151844-263b-4b7e-85bb-d17a6db2566e",
   "metadata": {
    "id": "d2151844-263b-4b7e-85bb-d17a6db2566e"
   },
   "source": [
    "Dataset 1: Class (implicit_hate, explicit_hate, not_hate labels) are in dataset \"./implicit_hate_v1_stg1.tsv\"\n",
    "\n",
    "Dataset 2: Implicit class (white grievance, irony, stereotypical) are in dataset \"./implicit_hate_v1_stg2_posts.tsv\"\n",
    "\n",
    "Dataset 3: Target groups (minority, immigrants) are in dataset \"./implicit_hate_v1_stg3_posts.tsv\""
   ]
  },
  {
   "cell_type": "code",
   "execution_count": null,
   "id": "cf22488d-a8ce-4b1e-a4ef-ac6828cfacaa",
   "metadata": {
    "id": "cf22488d-a8ce-4b1e-a4ef-ac6828cfacaa"
   },
   "outputs": [],
   "source": [
    "binary_labels_data = \"implicit-hate-corpus/implicit_hate_v1_stg1_posts.tsv\"\n",
    "implicit_class_data = \"implicit-hate-corpus/implicit_hate_v1_stg2_posts.tsv\"\n",
    "target_group_data = \"implicit-hate-corpus/implicit_hate_v1_stg3_posts.tsv\""
   ]
  },
  {
   "cell_type": "code",
   "execution_count": null,
   "id": "d03b2ced-4ea9-4053-89db-14bed19f7b7e",
   "metadata": {
    "id": "d03b2ced-4ea9-4053-89db-14bed19f7b7e",
    "outputId": "3685f103-64b1-4ac5-f8f9-d5de005d505e"
   },
   "outputs": [
    {
     "name": "stdout",
     "output_type": "stream",
     "text": [
      "                                                    post          class\n",
      "0        \" : jewish harvard professor noel ignatiev w...  implicit_hate\n",
      "1       b.higher education is a part of european cult...       not_hate\n",
      "2       has a problem with  \" the whites \" \" and \" \" ...       not_hate\n",
      "3       is yasir qadhi a hate preacher for calling ch...       not_hate\n",
      "4       rt  \" : how three million germans mass murder...       not_hate\n",
      "...                                                  ...            ...\n",
      "21475  Seeing prostitutes is morally wrong, but being...  implicit_hate\n",
      "21476  I wonder how many females I raped today I spen...  implicit_hate\n",
      "21477  Having a criminal record is more attractive to...  implicit_hate\n",
      "21478  Another advantage of being a female: getting b...  implicit_hate\n",
      "21479  If men are so privileged and women have it so ...  implicit_hate\n",
      "\n",
      "[21480 rows x 2 columns]\n"
     ]
    }
   ],
   "source": [
    "df_stg1_posts = pd.read_csv(binary_labels_data, delimiter='\\t')\n",
    "print(df_stg1_posts)"
   ]
  },
  {
   "cell_type": "code",
   "execution_count": null,
   "id": "474c8224-49c6-4d65-888d-de52a8757235",
   "metadata": {
    "id": "474c8224-49c6-4d65-888d-de52a8757235",
    "outputId": "c5bb6841-82c4-4899-b201-84dc82c4cd8f"
   },
   "outputs": [
    {
     "name": "stdout",
     "output_type": "stream",
     "text": [
      "                                                   post   implicit_class  \\\n",
      "0       \" : jewish harvard professor noel ignatiev w...  white_grievance   \n",
      "1      rt : tune in today's jmt for my interview w /...            irony   \n",
      "2     : : hate posters ? you want hate buddy ? read ...  white_grievance   \n",
      "3     : hunt for white women : black racist serial k...    stereotypical   \n",
      "4     : looks like he was a fan of the islamic jew-h...    stereotypical   \n",
      "...                                                 ...              ...   \n",
      "6341  Seeing prostitutes is morally wrong, but being...            irony   \n",
      "6342  I wonder how many females I raped today I spen...            irony   \n",
      "6343  Having a criminal record is more attractive to...    stereotypical   \n",
      "6344  Another advantage of being a female: getting b...      inferiority   \n",
      "6345  If men are so privileged and women have it so ...            irony   \n",
      "\n",
      "     extra_implicit_class  \n",
      "0                     NaN  \n",
      "1                     NaN  \n",
      "2                     NaN  \n",
      "3                     NaN  \n",
      "4                     NaN  \n",
      "...                   ...  \n",
      "6341                  NaN  \n",
      "6342                  NaN  \n",
      "6343                  NaN  \n",
      "6344                  NaN  \n",
      "6345                  NaN  \n",
      "\n",
      "[6346 rows x 3 columns]\n"
     ]
    }
   ],
   "source": [
    "df_stg2_posts = pd.read_csv(implicit_class_data, delimiter='\\t')\n",
    "print(df_stg2_posts)"
   ]
  },
  {
   "cell_type": "code",
   "execution_count": null,
   "id": "ba10f8a5-7c01-482d-888a-02528e24ef56",
   "metadata": {
    "id": "ba10f8a5-7c01-482d-888a-02528e24ef56",
    "outputId": "0ee71a0c-5b4c-4ed3-d4ad-ea626ae241c7"
   },
   "outputs": [
    {
     "name": "stdout",
     "output_type": "stream",
     "text": [
      "                                                    post            target  \\\n",
      "0       rt  \" white privilege \" \" is when the gun jam...   minority groups   \n",
      "1       rt  \" white privilege \" \" is when the gun jam...      Black people   \n",
      "2        if you are white in that state watch yourself !  non-white people   \n",
      "3        if you are white in that state watch yourself !      white people   \n",
      "4      so the 500 % increase in h1b visas ? yeah i'm ...        Immigrants   \n",
      "...                                                  ...               ...   \n",
      "12031   every india lover must boycott these pigs movies      Indian folks   \n",
      "12032   every india lover must boycott these pigs movies     Indian people   \n",
      "12033  ask more rss intellectuals to come on powerful...      Indian folks   \n",
      "12034  ask more rss intellectuals to come on powerful...      Indian folks   \n",
      "12035  cong stooges in msm who underplay the darkest ...      Indian folks   \n",
      "\n",
      "                                implied_statement  \n",
      "0      people in minority groups are all in gangs  \n",
      "1                        Black people are violent  \n",
      "2                  non-white people are dangerous  \n",
      "3                     White people are in danger.  \n",
      "4                      Immigrants are undesirable  \n",
      "...                                           ...  \n",
      "12031                       Indian folks are pigs  \n",
      "12032                      Indian people are pigs  \n",
      "12033                 Indian folks are uneducated  \n",
      "12034                    Indian folks are foolish  \n",
      "12035                     Indian folks are facist  \n",
      "\n",
      "[12036 rows x 3 columns]\n"
     ]
    }
   ],
   "source": [
    "df_stg3_posts = pd.read_csv(target_group_data, delimiter='\\t')\n",
    "print(df_stg3_posts)"
   ]
  },
  {
   "cell_type": "markdown",
   "id": "42d847a7-448d-4a61-9747-4310a089688e",
   "metadata": {
    "id": "42d847a7-448d-4a61-9747-4310a089688e"
   },
   "source": [
    "### Count per class"
   ]
  },
  {
   "cell_type": "code",
   "execution_count": null,
   "id": "4c0f3cd6-d551-4af8-a8a2-3238d935c443",
   "metadata": {
    "id": "4c0f3cd6-d551-4af8-a8a2-3238d935c443"
   },
   "outputs": [],
   "source": [
    "df_stg1_posts = pd.read_csv(binary_labels_data, delimiter='\\t')\n",
    "df_stg2_posts = pd.read_csv(implicit_class_data, delimiter='\\t')\n",
    "df_stg3_posts = pd.read_csv(target_group_data, delimiter='\\t')"
   ]
  },
  {
   "cell_type": "code",
   "execution_count": null,
   "id": "73596b62-37d9-4cd1-9752-b8dbc49449ab",
   "metadata": {
    "id": "73596b62-37d9-4cd1-9752-b8dbc49449ab",
    "outputId": "ad6dea8c-0fe7-42fb-bd61-ee55b1d094ca"
   },
   "outputs": [
    {
     "data": {
      "text/plain": [
       "class\n",
       "not_hate         13291\n",
       "implicit_hate     7100\n",
       "explicit_hate     1089\n",
       "Name: count, dtype: int64"
      ]
     },
     "execution_count": 15,
     "metadata": {},
     "output_type": "execute_result"
    }
   ],
   "source": [
    "df_stg1_posts['class'].value_counts()"
   ]
  },
  {
   "cell_type": "code",
   "execution_count": null,
   "id": "2d96369d-4495-47c5-bf17-5f0ec8c89507",
   "metadata": {
    "id": "2d96369d-4495-47c5-bf17-5f0ec8c89507",
    "outputId": "58633c09-5d3d-44e3-e399-83a9141476d9"
   },
   "outputs": [
    {
     "data": {
      "text/plain": [
       "implicit_class\n",
       "white_grievance    1538\n",
       "incitement         1269\n",
       "stereotypical      1133\n",
       "inferiority         863\n",
       "irony               797\n",
       "threatening         666\n",
       "other                80\n",
       "Name: count, dtype: int64"
      ]
     },
     "execution_count": 17,
     "metadata": {},
     "output_type": "execute_result"
    }
   ],
   "source": [
    "df_stg2_posts['implicit_class'].value_counts()"
   ]
  },
  {
   "cell_type": "markdown",
   "id": "73a96e5b-2789-469c-aa59-8d594bdc16b0",
   "metadata": {
    "id": "73a96e5b-2789-469c-aa59-8d594bdc16b0"
   },
   "source": [
    "### Checking the labels in 3 datasets"
   ]
  },
  {
   "cell_type": "code",
   "execution_count": null,
   "id": "a5bf862c-a827-48b8-93c0-edfded77cd0d",
   "metadata": {
    "id": "a5bf862c-a827-48b8-93c0-edfded77cd0d",
    "outputId": "166b5e6a-687a-4245-b5a1-3671cd4a8159"
   },
   "outputs": [
    {
     "data": {
      "text/plain": [
       "array(['implicit_hate', 'not_hate', 'explicit_hate'], dtype=object)"
      ]
     },
     "execution_count": 23,
     "metadata": {},
     "output_type": "execute_result"
    }
   ],
   "source": [
    "df_stg1_posts['class'].unique()"
   ]
  },
  {
   "cell_type": "code",
   "execution_count": null,
   "id": "e1dcba1f-79db-4887-b296-050712f186e4",
   "metadata": {
    "id": "e1dcba1f-79db-4887-b296-050712f186e4",
    "outputId": "00cdac3c-b97b-4d80-c280-f40561e03f6a"
   },
   "outputs": [
    {
     "data": {
      "text/plain": [
       "array(['white_grievance', 'irony', 'stereotypical', 'incitement', 'other',\n",
       "       'threatening', 'inferiority'], dtype=object)"
      ]
     },
     "execution_count": 25,
     "metadata": {},
     "output_type": "execute_result"
    }
   ],
   "source": [
    "df_stg2_posts['implicit_class'].unique()"
   ]
  },
  {
   "cell_type": "code",
   "execution_count": null,
   "id": "5e92ef48-bf48-42fc-934d-662954666e69",
   "metadata": {
    "id": "5e92ef48-bf48-42fc-934d-662954666e69",
    "outputId": "eed826e8-0b6d-4b66-9f0e-fa86a2e1e3cd"
   },
   "outputs": [
    {
     "data": {
      "text/plain": [
       "array(['minority groups', 'Black people', 'non-white people', ...,\n",
       "       'Young Immigrants', 'LGBT and anti-fascist groups', 'Perkins'],\n",
       "      dtype=object)"
      ]
     },
     "execution_count": 27,
     "metadata": {},
     "output_type": "execute_result"
    }
   ],
   "source": [
    "df_stg3_posts['target'].unique()"
   ]
  },
  {
   "cell_type": "code",
   "execution_count": null,
   "id": "09cb5ab0-d97e-4eb5-91d4-31ad0587f9c2",
   "metadata": {
    "id": "09cb5ab0-d97e-4eb5-91d4-31ad0587f9c2",
    "outputId": "6747af03-a0f5-470d-acef-d6359745c287"
   },
   "outputs": [
    {
     "name": "stdout",
     "output_type": "stream",
     "text": [
      "Number of unique labels: 1038\n"
     ]
    }
   ],
   "source": [
    "unique_labels = df_stg3_posts['target'].unique()\n",
    "num_unique_labels = len(unique_labels)\n",
    "\n",
    "print(f\"Number of unique labels: {num_unique_labels}\")"
   ]
  },
  {
   "cell_type": "markdown",
   "id": "d45b031d-c7d4-40fa-95a3-121c2a7a7e43",
   "metadata": {
    "id": "d45b031d-c7d4-40fa-95a3-121c2a7a7e43"
   },
   "source": [
    "# HateBERT model training"
   ]
  },
  {
   "cell_type": "code",
   "execution_count": null,
   "id": "ccc243e4-7b25-4385-b5cf-d5840a1aa438",
   "metadata": {
    "id": "ccc243e4-7b25-4385-b5cf-d5840a1aa438"
   },
   "outputs": [],
   "source": [
    "trainset = \"train_data.tsv\"\n",
    "devset = \"dev_data.tsv\"\n",
    "testset = \"test_data.tsv\""
   ]
  },
  {
   "cell_type": "code",
   "execution_count": null,
   "id": "3f19658e-7397-4617-aec7-7049b11ca646",
   "metadata": {
    "id": "3f19658e-7397-4617-aec7-7049b11ca646",
    "outputId": "c6496e7e-b44f-4231-97bf-88d1969e0be4"
   },
   "outputs": [
    {
     "name": "stdout",
     "output_type": "stream",
     "text": [
      "                                                post          class\n",
      "0  they are not dreamers, if they are illegal the...  implicit_hate\n",
      "1   i get it . you feel bad for being white . you...       not_hate\n",
      "2  saudi arabia is a disgusting, inhuman regime. ...  explicit_hate\n",
      "3  2 hollywood jews want us to feel bad for not i...  explicit_hate\n",
      "4  technically  the kkk commits no crimes . they ...       not_hate\n",
      "5  poland uncovers thousands more staff at auschw...       not_hate\n",
      "6                     its about erasing white people  implicit_hate\n",
      "7  we who are pro-white want to preserve the whit...  implicit_hate\n",
      "8  the yankees are so disenchanted with their wom...  implicit_hate\n",
      "9                rape of europe  5sept2015 #altright       not_hate\n"
     ]
    }
   ],
   "source": [
    "trainset_read = pd.read_csv(trainset, delimiter='\\t')\n",
    "print(trainset_read[:10])"
   ]
  },
  {
   "cell_type": "code",
   "execution_count": null,
   "id": "9dfd716f-2ce1-4528-861b-a52cb2fd3bb4",
   "metadata": {
    "id": "9dfd716f-2ce1-4528-861b-a52cb2fd3bb4",
    "outputId": "b93e684b-7524-46fd-c417-a8ac860fdd34"
   },
   "outputs": [
    {
     "name": "stdout",
     "output_type": "stream",
     "text": [
      "                                                post          class\n",
      "0  white community was a safe white community til...  explicit_hate\n",
      "1  a fetus is a baby and needs to be treated w / ...       not_hate\n",
      "2  that's not what he was saying . women voting o...  implicit_hate\n",
      "3  thats why dhs should put chutes on illegals, l...  implicit_hate\n",
      "4  : abortion has a market problem : #hb2 #protec...       not_hate\n",
      "5    \" police continue to stand down  people will...       not_hate\n",
      "6  you have a good work ethic  and i'm sure a few...       not_hate\n",
      "7                                        hello white       not_hate\n",
      "8   rt but the  \" third great awakening \" \" is ab...       not_hate\n",
      "9  not wanting your people and culture erased is ...       not_hate\n"
     ]
    }
   ],
   "source": [
    "devset_read = pd.read_csv(devset, delimiter='\\t')\n",
    "print(devset_read[:10])"
   ]
  },
  {
   "cell_type": "code",
   "execution_count": null,
   "id": "de752222-0f34-4add-a139-03d5765f88e9",
   "metadata": {
    "id": "de752222-0f34-4add-a139-03d5765f88e9",
    "outputId": "e6e96d21-67fc-4fc7-c00c-9bd4a7875c5a"
   },
   "outputs": [
    {
     "name": "stdout",
     "output_type": "stream",
     "text": [
      "                                                post          class\n",
      "0  more i learn  more i realize how similar jews ...  explicit_hate\n",
      "1            they move into the third mixed nation .  implicit_hate\n",
      "2  npr says southern baptists are raising the whi...       not_hate\n",
      "3  wal mart queen hillary pontificates that modi ...       not_hate\n",
      "4  trumps so mentally unstable calling himself wh...       not_hate\n",
      "5  need a massive deportation program ... around ...  implicit_hate\n",
      "6  democrats in white hoods have hung white repub...  implicit_hate\n",
      "7  trump needs his hud examined : not a fan of fa...  explicit_hate\n",
      "8  very unlikely for most unless its a massive pu...       not_hate\n",
      "9  not generally . in some states  1/2 of black p...  implicit_hate\n"
     ]
    }
   ],
   "source": [
    "testset_read = pd.read_csv(testset, delimiter='\\t')\n",
    "print(testset_read[:10])"
   ]
  },
  {
   "cell_type": "markdown",
   "id": "001bf4d5-f341-4298-8806-8c6b6322845d",
   "metadata": {
    "id": "001bf4d5-f341-4298-8806-8c6b6322845d"
   },
   "source": [
    "## Loading the dataset"
   ]
  },
  {
   "cell_type": "code",
   "execution_count": null,
   "id": "bb59e3e3-d2c9-4200-9501-4f3851710ba9",
   "metadata": {
    "id": "bb59e3e3-d2c9-4200-9501-4f3851710ba9",
    "outputId": "dd4aa6b3-ec57-4c7a-8372-0e1061f71b27"
   },
   "outputs": [
    {
     "name": "stdout",
     "output_type": "stream",
     "text": [
      "post\tclass\n",
      "\"they are not dreamers, if they are illegal they aren't immigrant they are \"\"\"\"intruder invaders\"\"\"\".\"\timplicit_hate\n",
      "\" i get it . you feel bad for being white . you assume  \"\" white privilege \"\" \"\" and \"\" \"\" the patriarchy \"\" \"\" must be torn down . you want to help . not me . \"\"\"\tnot_hate\n",
      "saudi arabia is a disgusting, inhuman regime. truly evil. lower than vermin. still, business is business. kerching!\texplicit_hate\n",
      "2 hollywood jews want us to feel bad for not importing jihadists whose doctrine has more jew hate than mein kampf\texplicit_hate\n"
     ]
    }
   ],
   "source": [
    "with open(trainset, \"r\") as file:\n",
    "    for i, line in enumerate(file):\n",
    "        if i < 5:  \n",
    "            print(line.strip())"
   ]
  },
  {
   "cell_type": "code",
   "execution_count": null,
   "id": "63d6f758-e9d9-4900-a9f2-645698031e8b",
   "metadata": {
    "id": "63d6f758-e9d9-4900-a9f2-645698031e8b"
   },
   "outputs": [],
   "source": [
    "data = []\n",
    "with open(trainset, \"r\") as file:\n",
    "    for line in file:\n",
    "        row = line.strip().split('\\t')\n",
    "        if len(row) >= 2:  \n",
    "            data.append([row[0], row[1]])  \n",
    "\n",
    "df_train = pd.DataFrame(data, columns=['post', 'class'])"
   ]
  },
  {
   "cell_type": "code",
   "execution_count": null,
   "id": "1d547f71-3656-455e-9836-6c9705ca4bd8",
   "metadata": {
    "id": "1d547f71-3656-455e-9836-6c9705ca4bd8",
    "outputId": "dcbe0fd5-94b3-4c73-dd21-16f881eb4708"
   },
   "outputs": [
    {
     "name": "stdout",
     "output_type": "stream",
     "text": [
      "Train DataFrame columns: ['post', 'class']\n"
     ]
    }
   ],
   "source": [
    "print(\"Train DataFrame columns:\", df_train.columns.tolist())"
   ]
  },
  {
   "cell_type": "code",
   "execution_count": null,
   "id": "022268ae-c75b-4a79-9950-d729b8429784",
   "metadata": {
    "id": "022268ae-c75b-4a79-9950-d729b8429784"
   },
   "outputs": [],
   "source": [
    "data = []\n",
    "with open(devset, \"r\") as file:\n",
    "    for line in file:\n",
    "        row = line.strip().split('\\t')\n",
    "        if len(row) >= 2:  \n",
    "            data.append([row[0], row[1]])  \n",
    "\n",
    "df_dev = pd.DataFrame(data, columns=['post', 'class'])"
   ]
  },
  {
   "cell_type": "code",
   "execution_count": null,
   "id": "5110126d-7431-403c-9bc5-2ecfda9f23b4",
   "metadata": {
    "id": "5110126d-7431-403c-9bc5-2ecfda9f23b4",
    "outputId": "bccc9972-042f-47b6-e46c-f5c2fc7cad3c"
   },
   "outputs": [
    {
     "name": "stdout",
     "output_type": "stream",
     "text": [
      "Train DataFrame columns: ['post', 'class']\n"
     ]
    }
   ],
   "source": [
    "print(\"Train DataFrame columns:\", df_dev.columns.tolist())"
   ]
  },
  {
   "cell_type": "code",
   "execution_count": null,
   "id": "7e1cc6d1-a5e3-410b-98e9-2d7506edef80",
   "metadata": {
    "id": "7e1cc6d1-a5e3-410b-98e9-2d7506edef80"
   },
   "outputs": [],
   "source": [
    "data = []\n",
    "with open(testset, \"r\") as file:\n",
    "    for line in file:\n",
    "        row = line.strip().split('\\t')\n",
    "        if len(row) >= 2:  \n",
    "            data.append([row[0], row[1]])  \n",
    "\n",
    "df_test = pd.DataFrame(data, columns=['post', 'class'])"
   ]
  },
  {
   "cell_type": "code",
   "execution_count": null,
   "id": "257eae1d-5b6a-410a-a0a9-35cc94b0ad97",
   "metadata": {
    "id": "257eae1d-5b6a-410a-a0a9-35cc94b0ad97",
    "outputId": "c763babd-20c8-454c-fe3c-7fff0af6ef8f"
   },
   "outputs": [
    {
     "name": "stdout",
     "output_type": "stream",
     "text": [
      "Train DataFrame columns: ['post', 'class']\n"
     ]
    }
   ],
   "source": [
    "print(\"Train DataFrame columns:\", df_test.columns.tolist())"
   ]
  },
  {
   "cell_type": "code",
   "execution_count": null,
   "id": "9d5f767d-6fb9-4dea-afbb-f02dc1113005",
   "metadata": {
    "id": "9d5f767d-6fb9-4dea-afbb-f02dc1113005",
    "outputId": "a5d1cf81-865e-4cd6-e83b-7707bc724a3e"
   },
   "outputs": [
    {
     "data": {
      "text/plain": [
       "class\n",
       "not_hate         7919\n",
       "implicit_hate    4296\n",
       "explicit_hate     672\n",
       "class               1\n",
       "                    1\n",
       "Name: count, dtype: int64"
      ]
     },
     "execution_count": 86,
     "metadata": {},
     "output_type": "execute_result"
    }
   ],
   "source": [
    "df_train['class'].value_counts()"
   ]
  },
  {
   "cell_type": "code",
   "execution_count": null,
   "id": "f80b59fe-ba8e-4eba-8f0e-f8862dacfb70",
   "metadata": {
    "id": "f80b59fe-ba8e-4eba-8f0e-f8862dacfb70",
    "outputId": "6b31b09f-2e8f-4fcd-ccec-da48888882fc"
   },
   "outputs": [
    {
     "data": {
      "text/plain": [
       "class\n",
       "not_hate         2677\n",
       "implicit_hate    1397\n",
       "explicit_hate     222\n",
       "class               1\n",
       "Name: count, dtype: int64"
      ]
     },
     "execution_count": 90,
     "metadata": {},
     "output_type": "execute_result"
    }
   ],
   "source": [
    "df_dev['class'].value_counts()"
   ]
  },
  {
   "cell_type": "code",
   "execution_count": null,
   "id": "07b8560f-2fc1-47b1-9377-2c1ea6c43bfc",
   "metadata": {
    "id": "07b8560f-2fc1-47b1-9377-2c1ea6c43bfc",
    "outputId": "3bd8577a-551f-4cf5-a4bf-b9f30804178c"
   },
   "outputs": [
    {
     "data": {
      "text/plain": [
       "class\n",
       "not_hate         2695\n",
       "implicit_hate    1406\n",
       "explicit_hate     195\n",
       "class               1\n",
       "Name: count, dtype: int64"
      ]
     },
     "execution_count": 92,
     "metadata": {},
     "output_type": "execute_result"
    }
   ],
   "source": [
    "df_test['class'].value_counts()"
   ]
  },
  {
   "cell_type": "markdown",
   "id": "446c7a9e-8572-4c62-8a3a-7f51050662ad",
   "metadata": {
    "id": "446c7a9e-8572-4c62-8a3a-7f51050662ad"
   },
   "source": [
    "## Data Preprocessing\n",
    "\n",
    "We are using ucberkeley-dlab_measuring-hate-speech as our dataset. To learn more about it, go to notebooks/data_description.ipynb\n",
    "\n",
    "In our dataset, the labels are organized like this:\n",
    "\n",
    "not_hate\n",
    "implicit_hate\n",
    "explicit_hate\n"
   ]
  },
  {
   "cell_type": "code",
   "execution_count": null,
   "id": "62661d5f-e22b-404c-8f0b-744e563e2d96",
   "metadata": {
    "id": "62661d5f-e22b-404c-8f0b-744e563e2d96",
    "outputId": "4a45f577-86e6-405e-abdc-64a5515b8369"
   },
   "outputs": [
    {
     "data": {
      "text/plain": [
       "Embedding(30522, 768, padding_idx=0)"
      ]
     },
     "execution_count": 22,
     "metadata": {},
     "output_type": "execute_result"
    }
   ],
   "source": [
    "model.resize_token_embeddings(len(tokenizer))"
   ]
  },
  {
   "cell_type": "code",
   "execution_count": null,
   "id": "de46013d-40fe-4064-89bd-08f227a682f1",
   "metadata": {
    "id": "de46013d-40fe-4064-89bd-08f227a682f1"
   },
   "outputs": [],
   "source": [
    "dataset_train = load_dataset('csv', data_files={'train': 'train_data.tsv'}, delimiter='\\t')\n",
    "dataset_dev = load_dataset('csv', data_files={'dev': 'dev_data.tsv'}, delimiter='\\t')\n",
    "dataset_test = load_dataset('csv', data_files={'test': 'test_data.tsv'}, delimiter='\\t')\n",
    "\n",
    "tokenizer = BertTokenizer.from_pretrained(model_checkpoint)\n",
    "\n",
    "def tokenize_and_align_labels(examples):\n",
    "    tokenized_inputs = tokenizer(examples[\"post\"], truncation=True, padding=True, max_length=512)\n",
    "\n",
    "    # Mapping the 'class' labels to numerical labels (0 = not_hate, 1 = implicit_hate, 2 = explicit_hate)\n",
    "    label_mapping = {\"not_hate\": 0, \"implicit_hate\": 1, \"explicit_hate\": 2}\n",
    "    labels = [label_mapping[label] for label in examples[\"class\"]]\n",
    "\n",
    "    tokenized_inputs[\"labels\"] = labels\n",
    "    return tokenized_inputs"
   ]
  },
  {
   "cell_type": "code",
   "execution_count": null,
   "id": "b5bd04a5-5c73-4c37-8387-fe55d2cb50f6",
   "metadata": {
    "colab": {
     "referenced_widgets": [
      "0c081ec37e5042fb94755892c431d440"
     ]
    },
    "id": "b5bd04a5-5c73-4c37-8387-fe55d2cb50f6",
    "outputId": "79abd11d-32b5-4b9e-ec7f-827e25734735"
   },
   "outputs": [
    {
     "data": {
      "application/vnd.jupyter.widget-view+json": {
       "model_id": "0c081ec37e5042fb94755892c431d440",
       "version_major": 2,
       "version_minor": 0
      },
      "text/plain": [
       "Map:   0%|          | 0/12888 [00:00<?, ? examples/s]"
      ]
     },
     "metadata": {},
     "output_type": "display_data"
    },
    {
     "name": "stdout",
     "output_type": "stream",
     "text": [
      "{'post': 'be brave and admit you a / zionist racist full of hate islam historicallywhat about your money collect', 'class': 'explicit_hate', 'input_ids': [101, 2022, 9191, 1998, 6449, 2017, 1037, 1013, 21379, 16939, 2440, 1997, 5223, 7025, 7145, 2860, 12707, 2055, 2115, 2769, 8145, 102, 0, 0, 0, 0, 0, 0, 0, 0, 0, 0, 0, 0, 0, 0, 0, 0, 0, 0, 0, 0, 0, 0, 0, 0, 0, 0, 0, 0, 0, 0, 0, 0, 0, 0, 0, 0, 0, 0, 0, 0, 0, 0, 0, 0, 0, 0, 0, 0, 0, 0, 0, 0, 0, 0], 'token_type_ids': [0, 0, 0, 0, 0, 0, 0, 0, 0, 0, 0, 0, 0, 0, 0, 0, 0, 0, 0, 0, 0, 0, 0, 0, 0, 0, 0, 0, 0, 0, 0, 0, 0, 0, 0, 0, 0, 0, 0, 0, 0, 0, 0, 0, 0, 0, 0, 0, 0, 0, 0, 0, 0, 0, 0, 0, 0, 0, 0, 0, 0, 0, 0, 0, 0, 0, 0, 0, 0, 0, 0, 0, 0, 0, 0, 0], 'attention_mask': [1, 1, 1, 1, 1, 1, 1, 1, 1, 1, 1, 1, 1, 1, 1, 1, 1, 1, 1, 1, 1, 1, 0, 0, 0, 0, 0, 0, 0, 0, 0, 0, 0, 0, 0, 0, 0, 0, 0, 0, 0, 0, 0, 0, 0, 0, 0, 0, 0, 0, 0, 0, 0, 0, 0, 0, 0, 0, 0, 0, 0, 0, 0, 0, 0, 0, 0, 0, 0, 0, 0, 0, 0, 0, 0, 0], 'labels': 2}\n"
     ]
    }
   ],
   "source": [
    "tokenized_datasets_train = dataset_train['train'].map(tokenize_and_align_labels, batched=True)\n",
    "print(tokenized_datasets_train[10])"
   ]
  },
  {
   "cell_type": "code",
   "execution_count": null,
   "id": "8ec6137a-f4f5-4ad6-98bf-83aa613bc2ce",
   "metadata": {
    "colab": {
     "referenced_widgets": [
      "accfa5361c504ed295889ee06619c749"
     ]
    },
    "id": "8ec6137a-f4f5-4ad6-98bf-83aa613bc2ce",
    "outputId": "d8d683e7-c7d6-43d3-9bf7-419186a3b9bd"
   },
   "outputs": [
    {
     "data": {
      "application/vnd.jupyter.widget-view+json": {
       "model_id": "accfa5361c504ed295889ee06619c749",
       "version_major": 2,
       "version_minor": 0
      },
      "text/plain": [
       "Map:   0%|          | 0/4296 [00:00<?, ? examples/s]"
      ]
     },
     "metadata": {},
     "output_type": "display_data"
    },
    {
     "name": "stdout",
     "output_type": "stream",
     "text": [
      "{'post': 'interfered in their elect and inserted yeltsin  that the real numbers showed that communist party won and victory shld had gone 2 zyuganov', 'class': 'not_hate', 'input_ids': [101, 28976, 1999, 2037, 11322, 1998, 12889, 6300, 21593, 2378, 2008, 1996, 2613, 3616, 3662, 2008, 4750, 2283, 2180, 1998, 3377, 14021, 6392, 2018, 2908, 1016, 1062, 10513, 29451, 2615, 102, 0, 0, 0, 0, 0, 0, 0, 0, 0, 0, 0, 0, 0, 0, 0, 0, 0, 0, 0, 0, 0, 0, 0, 0, 0, 0, 0, 0, 0, 0, 0, 0, 0, 0, 0, 0, 0, 0, 0, 0, 0, 0, 0, 0, 0, 0, 0, 0, 0, 0, 0, 0, 0, 0, 0, 0, 0, 0, 0, 0, 0, 0, 0, 0, 0, 0, 0, 0, 0, 0, 0, 0, 0, 0, 0, 0, 0, 0, 0, 0, 0, 0, 0, 0, 0, 0, 0, 0, 0, 0, 0, 0, 0, 0, 0, 0, 0, 0, 0, 0, 0, 0, 0, 0, 0, 0, 0], 'token_type_ids': [0, 0, 0, 0, 0, 0, 0, 0, 0, 0, 0, 0, 0, 0, 0, 0, 0, 0, 0, 0, 0, 0, 0, 0, 0, 0, 0, 0, 0, 0, 0, 0, 0, 0, 0, 0, 0, 0, 0, 0, 0, 0, 0, 0, 0, 0, 0, 0, 0, 0, 0, 0, 0, 0, 0, 0, 0, 0, 0, 0, 0, 0, 0, 0, 0, 0, 0, 0, 0, 0, 0, 0, 0, 0, 0, 0, 0, 0, 0, 0, 0, 0, 0, 0, 0, 0, 0, 0, 0, 0, 0, 0, 0, 0, 0, 0, 0, 0, 0, 0, 0, 0, 0, 0, 0, 0, 0, 0, 0, 0, 0, 0, 0, 0, 0, 0, 0, 0, 0, 0, 0, 0, 0, 0, 0, 0, 0, 0, 0, 0, 0, 0, 0, 0, 0, 0, 0, 0], 'attention_mask': [1, 1, 1, 1, 1, 1, 1, 1, 1, 1, 1, 1, 1, 1, 1, 1, 1, 1, 1, 1, 1, 1, 1, 1, 1, 1, 1, 1, 1, 1, 1, 0, 0, 0, 0, 0, 0, 0, 0, 0, 0, 0, 0, 0, 0, 0, 0, 0, 0, 0, 0, 0, 0, 0, 0, 0, 0, 0, 0, 0, 0, 0, 0, 0, 0, 0, 0, 0, 0, 0, 0, 0, 0, 0, 0, 0, 0, 0, 0, 0, 0, 0, 0, 0, 0, 0, 0, 0, 0, 0, 0, 0, 0, 0, 0, 0, 0, 0, 0, 0, 0, 0, 0, 0, 0, 0, 0, 0, 0, 0, 0, 0, 0, 0, 0, 0, 0, 0, 0, 0, 0, 0, 0, 0, 0, 0, 0, 0, 0, 0, 0, 0, 0, 0, 0, 0, 0, 0], 'labels': 0}\n"
     ]
    }
   ],
   "source": [
    "tokenized_datasets_dev = dataset_dev['dev'].map(tokenize_and_align_labels, batched=True)\n",
    "print(tokenized_datasets_dev[10])"
   ]
  },
  {
   "cell_type": "code",
   "execution_count": null,
   "id": "9ced182c-b1b0-4612-bea1-cff761774185",
   "metadata": {
    "colab": {
     "referenced_widgets": [
      "2828d360b14f4e1cb05608c09cd36cc9"
     ]
    },
    "id": "9ced182c-b1b0-4612-bea1-cff761774185",
    "outputId": "757dfc28-ae95-4227-c3ff-d3e644d04c13"
   },
   "outputs": [
    {
     "data": {
      "application/vnd.jupyter.widget-view+json": {
       "model_id": "2828d360b14f4e1cb05608c09cd36cc9",
       "version_major": 2,
       "version_minor": 0
      },
      "text/plain": [
       "Map:   0%|          | 0/4296 [00:00<?, ? examples/s]"
      ]
     },
     "metadata": {},
     "output_type": "display_data"
    },
    {
     "name": "stdout",
     "output_type": "stream",
     "text": [
      "{'post': 'jew is someone who punches you and cries out in pain . dirty vermin .', 'class': 'explicit_hate', 'input_ids': [101, 16522, 2003, 2619, 2040, 17957, 2017, 1998, 12842, 2041, 1999, 3255, 1012, 6530, 2310, 27512, 1012, 102, 0, 0, 0, 0, 0, 0, 0, 0, 0, 0, 0, 0, 0, 0, 0, 0, 0, 0, 0, 0, 0, 0, 0, 0, 0, 0, 0, 0, 0, 0, 0, 0, 0, 0, 0, 0, 0, 0, 0, 0, 0, 0, 0, 0, 0, 0, 0, 0, 0, 0, 0, 0, 0, 0, 0, 0, 0, 0, 0], 'token_type_ids': [0, 0, 0, 0, 0, 0, 0, 0, 0, 0, 0, 0, 0, 0, 0, 0, 0, 0, 0, 0, 0, 0, 0, 0, 0, 0, 0, 0, 0, 0, 0, 0, 0, 0, 0, 0, 0, 0, 0, 0, 0, 0, 0, 0, 0, 0, 0, 0, 0, 0, 0, 0, 0, 0, 0, 0, 0, 0, 0, 0, 0, 0, 0, 0, 0, 0, 0, 0, 0, 0, 0, 0, 0, 0, 0, 0, 0], 'attention_mask': [1, 1, 1, 1, 1, 1, 1, 1, 1, 1, 1, 1, 1, 1, 1, 1, 1, 1, 0, 0, 0, 0, 0, 0, 0, 0, 0, 0, 0, 0, 0, 0, 0, 0, 0, 0, 0, 0, 0, 0, 0, 0, 0, 0, 0, 0, 0, 0, 0, 0, 0, 0, 0, 0, 0, 0, 0, 0, 0, 0, 0, 0, 0, 0, 0, 0, 0, 0, 0, 0, 0, 0, 0, 0, 0, 0, 0], 'labels': 2}\n"
     ]
    }
   ],
   "source": [
    "tokenized_datasets_test = dataset_test['test'].map(tokenize_and_align_labels, batched=True)\n",
    "print(tokenized_datasets_test[10])"
   ]
  },
  {
   "cell_type": "markdown",
   "id": "6bdbe626-da3e-40a8-9139-a51ad203e06d",
   "metadata": {
    "id": "6bdbe626-da3e-40a8-9139-a51ad203e06d"
   },
   "source": [
    "## Fine tuning the model"
   ]
  },
  {
   "cell_type": "code",
   "execution_count": null,
   "id": "a3b00c3c-a772-48c2-ba36-3af294a8f1ba",
   "metadata": {
    "id": "a3b00c3c-a772-48c2-ba36-3af294a8f1ba"
   },
   "outputs": [],
   "source": [
    "from transformers import BertModel\n",
    "label_list = [\"not_hate\", \"implicit_hate\", \"explicit_hate\"]\n",
    "num_labels = len(label_list)\n",
    "\n",
    "model = BertModel.from_pretrained(model_checkpoint)"
   ]
  },
  {
   "cell_type": "code",
   "execution_count": null,
   "id": "f013ea31-ffb7-4ecb-a603-8ce32edee824",
   "metadata": {
    "id": "f013ea31-ffb7-4ecb-a603-8ce32edee824",
    "outputId": "d6f59e9f-9038-4d49-a589-250b51b3e0b8"
   },
   "outputs": [
    {
     "data": {
      "text/plain": [
       "['not_hate', 'implicit_hate', 'explicit_hate']"
      ]
     },
     "execution_count": 32,
     "metadata": {},
     "output_type": "execute_result"
    }
   ],
   "source": [
    "label_list"
   ]
  },
  {
   "cell_type": "code",
   "execution_count": null,
   "id": "cb779ed6-0f5b-44fb-8131-392e06e2b454",
   "metadata": {
    "id": "cb779ed6-0f5b-44fb-8131-392e06e2b454"
   },
   "outputs": [],
   "source": [
    "# metric = load(\"seqeval\")\n",
    "\n",
    "from evaluate import load\n",
    "accuracy_metric = load(\"accuracy\")\n",
    "f1_metric = load(\"f1\")"
   ]
  },
  {
   "cell_type": "code",
   "execution_count": null,
   "id": "4076354e-239a-4922-b918-644e53bc77ab",
   "metadata": {
    "id": "4076354e-239a-4922-b918-644e53bc77ab"
   },
   "outputs": [],
   "source": [
    "def compute_metrics(p):\n",
    "    predictions, labels = p\n",
    "    predictions = np.argmax(predictions, axis=1)\n",
    "\n",
    "    return {\n",
    "        \"accuracy\": accuracy_metric.compute(predictions=predictions.tolist(), references=labels.tolist())[\"accuracy\"],\n",
    "        \"f1\": f1_metric.compute(predictions=predictions.tolist(), references=labels.tolist(), average=\"weighted\")[\"f1\"],\n",
    "    }"
   ]
  },
  {
   "cell_type": "code",
   "execution_count": null,
   "id": "639c24b1-1394-4caa-93a8-4f15e5c6dc53",
   "metadata": {
    "id": "639c24b1-1394-4caa-93a8-4f15e5c6dc53",
    "outputId": "ccc8f961-23f6-4840-f67c-f568741a5fa0"
   },
   "outputs": [
    {
     "name": "stderr",
     "output_type": "stream",
     "text": [
      "Some weights of BertForSequenceClassification were not initialized from the model checkpoint at GroNLP/hateBERT and are newly initialized: ['classifier.bias', 'classifier.weight']\n",
      "You should probably TRAIN this model on a down-stream task to be able to use it for predictions and inference.\n",
      "/var/folders/vd/xkcxq0p96sxd5bgjgdng13s00000gn/T/ipykernel_46406/819334167.py:31: FutureWarning: `tokenizer` is deprecated and will be removed in version 5.0.0 for `Trainer.__init__`. Use `processing_class` instead.\n",
      "  trainer = Trainer(\n"
     ]
    }
   ],
   "source": [
    "data_collator = DataCollatorWithPadding(tokenizer=tokenizer)\n",
    "\n",
    "SEED = 25\n",
    "set_seed(SEED)\n",
    "\n",
    "\n",
    "model_name = model_checkpoint.split(\"/\")[-1]\n",
    "\n",
    "tokenizer = AutoTokenizer.from_pretrained(model_checkpoint)\n",
    "\n",
    "model = AutoModelForSequenceClassification.from_pretrained(\n",
    "    model_checkpoint,\n",
    "    num_labels=3\n",
    ")\n",
    "\n",
    "args = TrainingArguments(\n",
    "    output_dir=f\"{model_name}-finetuned-{task}\",\n",
    "    eval_strategy=\n",
    "\"epoch\",  # Updated to use current parameter name\n",
    "    learning_rate=5e-5,\n",
    "    per_device_train_batch_size=batch_size,\n",
    "    per_device_eval_batch_size=batch_size,\n",
    "    num_train_epochs=2,\n",
    "    weight_decay=0.01,\n",
    "    seed=SEED,\n",
    "    report_to=None,\n",
    ")\n",
    "\n",
    "trainer = Trainer(\n",
    "    model=model,\n",
    "    args=args,\n",
    "    train_dataset=tokenized_datasets_train,\n",
    "    eval_dataset=tokenized_datasets_dev,\n",
    "    data_collator=data_collator,\n",
    "    tokenizer=tokenizer,\n",
    "    compute_metrics=compute_metrics\n",
    ")"
   ]
  },
  {
   "cell_type": "code",
   "execution_count": null,
   "id": "f6659498-0120-45da-b84b-7ac01edcd8aa",
   "metadata": {
    "id": "f6659498-0120-45da-b84b-7ac01edcd8aa",
    "outputId": "e9cb7efd-dee1-4fe0-d807-7c0a486acadf"
   },
   "outputs": [
    {
     "data": {
      "text/html": [
       "\n",
       "    <div>\n",
       "      \n",
       "      <progress value='1612' max='1612' style='width:300px; height:20px; vertical-align: middle;'></progress>\n",
       "      [1612/1612 7:43:12, Epoch 2/2]\n",
       "    </div>\n",
       "    <table border=\"1\" class=\"dataframe\">\n",
       "  <thead>\n",
       " <tr style=\"text-align: left;\">\n",
       "      <th>Epoch</th>\n",
       "      <th>Training Loss</th>\n",
       "      <th>Validation Loss</th>\n",
       "      <th>Accuracy</th>\n",
       "      <th>F1</th>\n",
       "    </tr>\n",
       "  </thead>\n",
       "  <tbody>\n",
       "    <tr>\n",
       "      <td>1</td>\n",
       "      <td>0.686700</td>\n",
       "      <td>0.570121</td>\n",
       "      <td>0.740922</td>\n",
       "      <td>0.740993</td>\n",
       "    </tr>\n",
       "    <tr>\n",
       "      <td>2</td>\n",
       "      <td>0.401800</td>\n",
       "      <td>0.633536</td>\n",
       "      <td>0.743948</td>\n",
       "      <td>0.737566</td>\n",
       "    </tr>\n",
       "  </tbody>\n",
       "</table><p>"
      ],
      "text/plain": [
       "<IPython.core.display.HTML object>"
      ]
     },
     "metadata": {},
     "output_type": "display_data"
    },
    {
     "data": {
      "text/plain": [
       "TrainOutput(global_step=1612, training_loss=0.5290676027018734, metrics={'train_runtime': 27828.6307, 'train_samples_per_second': 0.926, 'train_steps_per_second': 0.058, 'total_flos': 2302982411607360.0, 'train_loss': 0.5290676027018734, 'epoch': 2.0})"
      ]
     },
     "execution_count": 45,
     "metadata": {},
     "output_type": "execute_result"
    }
   ],
   "source": [
    "trainer.train()"
   ]
  },
  {
   "cell_type": "code",
   "execution_count": null,
   "id": "3fac9518-73da-4de0-a79a-f9f82adc2502",
   "metadata": {
    "id": "3fac9518-73da-4de0-a79a-f9f82adc2502",
    "outputId": "a3067514-0ebb-42af-8769-2a454cb06b61"
   },
   "outputs": [
    {
     "data": {
      "text/html": [],
      "text/plain": [
       "<IPython.core.display.HTML object>"
      ]
     },
     "metadata": {},
     "output_type": "display_data"
    },
    {
     "data": {
      "text/plain": [
       "{'eval_loss': 0.6335357427597046,\n",
       " 'eval_accuracy': 0.7439478584729982,\n",
       " 'eval_f1': 0.7375663772467428,\n",
       " 'eval_runtime': 701.9526,\n",
       " 'eval_samples_per_second': 6.12,\n",
       " 'eval_steps_per_second': 0.383,\n",
       " 'epoch': 2.0}"
      ]
     },
     "execution_count": 46,
     "metadata": {},
     "output_type": "execute_result"
    }
   ],
   "source": [
    "trainer.evaluate()"
   ]
  },
  {
   "cell_type": "code",
   "execution_count": null,
   "id": "9844c866-530b-49a1-8949-44671e75ad87",
   "metadata": {
    "id": "9844c866-530b-49a1-8949-44671e75ad87"
   },
   "outputs": [],
   "source": [
    "def evaluate_predictions(predictions, gold_labels, label_list):\n",
    "    \"\"\"\n",
    "    Evaluate predictions against gold labels and print metrics.\n",
    "    \"\"\"\n",
    "    predictions_flat = [label_list.index(label) for label in predictions]\n",
    "    gold_labels_flat = [label_list.index(label) for label in gold_labels]\n",
    "\n",
    "    accuracy = accuracy_score(gold_labels_flat, predictions_flat)\n",
    "    report = classification_report(gold_labels_flat, predictions_flat, target_names=label_list, digits=4)\n",
    "\n",
    "    cm = confusion_matrix(gold_labels_flat, predictions_flat, labels=list(range(len(label_list))))\n",
    "    disp = ConfusionMatrixDisplay(confusion_matrix=cm, display_labels=label_list)\n",
    "\n",
    "    print(\"Accuracy:\", accuracy)\n",
    "    print(\"Classification Report:\\n\", report)\n",
    "    disp.plot(cmap=plt.cm.Purples, xticks_rotation='vertical')\n",
    "    plt.title(\"Confusion Matrix\")\n",
    "    plt.show()"
   ]
  },
  {
   "cell_type": "code",
   "execution_count": null,
   "id": "cd9e9b2b-6732-4072-86a7-7425cc672e67",
   "metadata": {
    "id": "cd9e9b2b-6732-4072-86a7-7425cc672e67"
   },
   "outputs": [],
   "source": [
    "predictions, labels, _ = trainer.predict(tokenized_datasets_dev)\n",
    "predicted_indices = np.argmax(predictions, axis=1)\n"
   ]
  },
  {
   "cell_type": "code",
   "execution_count": null,
   "id": "3bc94daf-4ab5-425c-8593-b46d24e375b7",
   "metadata": {
    "id": "3bc94daf-4ab5-425c-8593-b46d24e375b7"
   },
   "outputs": [],
   "source": [
    "label_list = [\"not_hate\", \"implicit_hate\", \"explicit_hate\"]\n",
    "\n",
    "# Converting class indices to string labels\n",
    "predicted_labels = [label_list[i] for i in predicted_indices]\n",
    "gold_labels = [label_list[i] for i in labels]\n"
   ]
  },
  {
   "cell_type": "code",
   "execution_count": null,
   "id": "1bafcae7-1584-497c-b84c-1bc67b142bc5",
   "metadata": {
    "id": "1bafcae7-1584-497c-b84c-1bc67b142bc5",
    "outputId": "ce55bcce-20ed-4b2f-be34-bf951c96edc0"
   },
   "outputs": [
    {
     "name": "stdout",
     "output_type": "stream",
     "text": [
      "Accuracy: 0.7439478584729982\n",
      "Classification Report:\n",
      "                precision    recall  f1-score   support\n",
      "\n",
      "     not_hate     0.8092    0.8446    0.8265      2677\n",
      "implicit_hate     0.6337    0.6292    0.6315      1397\n",
      "explicit_hate     0.4870    0.2523    0.3323       222\n",
      "\n",
      "     accuracy                         0.7439      4296\n",
      "    macro avg     0.6433    0.5754    0.5968      4296\n",
      " weighted avg     0.7355    0.7439    0.7376      4296\n",
      "\n"
     ]
    },
    {
     "data": {
      "image/png": "[encoded data removed]",
      "text/plain": [
       "<Figure size 640x480 with 2 Axes>"
      ]
     },
     "metadata": {},
     "output_type": "display_data"
    }
   ],
   "source": [
    "evaluate_predictions(predicted_labels, gold_labels, label_list)"
   ]
  },
  {
   "cell_type": "code",
   "execution_count": null,
   "id": "2f2c3af0-05db-4fec-a60c-d93817f83a43",
   "metadata": {
    "id": "2f2c3af0-05db-4fec-a60c-d93817f83a43",
    "outputId": "21dce4b0-3305-433f-b83f-e7dcd7c7574d",
    "scrolled": true
   },
   "outputs": [
    {
     "name": "stdout",
     "output_type": "stream",
     "text": [
      "dict_keys(['post', 'class', 'input_ids', 'token_type_ids', 'attention_mask', 'labels'])\n"
     ]
    }
   ],
   "source": [
    "print(tokenized_datasets_dev[0].keys())\n",
    "\n",
    "posts = [example['post'] for example in tokenized_datasets_dev]  # adjust field name as needed\n",
    "\n",
    "df = pd.DataFrame({\n",
    "    \"post\": posts,\n",
    "    \"predicted_label\": predicted_labels,\n",
    "    \"gold_label\": gold_labels,\n",
    "})\n",
    "df.to_csv(\"HateBERTpredictions_vs_gold_train_dev.csv\", index=False)"
   ]
  },
  {
   "cell_type": "code",
   "execution_count": null,
   "id": "59c92591-45c3-42a4-bcda-8eccf09d89d4",
   "metadata": {
    "id": "59c92591-45c3-42a4-bcda-8eccf09d89d4"
   },
   "outputs": [],
   "source": [
    "def compute_metrics(p):\n",
    "    predictions, labels = p\n",
    "    predictions = np.argmax(predictions, axis=1)\n",
    "\n",
    "    return {\n",
    "        \"accuracy\": accuracy_metric.compute(predictions=predictions.tolist(), references=labels.tolist())[\"accuracy\"],\n",
    "        \"f1\": f1_metric.compute(predictions=predictions.tolist(), references=labels.tolist(), average=\"weighted\")[\"f1\"],\n",
    "    }\n"
   ]
  },
  {
   "cell_type": "code",
   "execution_count": null,
   "id": "46738a88-41ff-4a83-9e0e-981090337b74",
   "metadata": {
    "id": "46738a88-41ff-4a83-9e0e-981090337b74",
    "outputId": "2bb39696-48b9-4f9e-a645-63597729099a"
   },
   "outputs": [
    {
     "name": "stderr",
     "output_type": "stream",
     "text": [
      "Some weights of BertForSequenceClassification were not initialized from the model checkpoint at GroNLP/hateBERT and are newly initialized: ['classifier.bias', 'classifier.weight']\n",
      "You should probably TRAIN this model on a down-stream task to be able to use it for predictions and inference.\n",
      "/var/folders/vd/xkcxq0p96sxd5bgjgdng13s00000gn/T/ipykernel_46406/2463675479.py:30: FutureWarning: `tokenizer` is deprecated and will be removed in version 5.0.0 for `Trainer.__init__`. Use `processing_class` instead.\n",
      "  trainer1 = Trainer(\n"
     ]
    }
   ],
   "source": [
    "from transformers import AutoModelForSequenceClassification, AutoTokenizer, Trainer, TrainingArguments, set_seed\n",
    "from transformers import DataCollatorWithPadding\n",
    "data_collator = DataCollatorWithPadding(tokenizer=tokenizer)\n",
    "\n",
    "SEED = 15\n",
    "set_seed(SEED)\n",
    "\n",
    "\n",
    "model_name = model_checkpoint.split(\"/\")[-1]\n",
    "\n",
    "tokenizer = AutoTokenizer.from_pretrained(model_checkpoint)\n",
    "\n",
    "model = AutoModelForSequenceClassification.from_pretrained(\n",
    "    model_checkpoint,\n",
    "    num_labels=3\n",
    ")\n",
    "\n",
    "args = TrainingArguments(\n",
    "    output_dir=f\"{model_name}-finetuned-{task}\",\n",
    "    eval_strategy=\"epoch\",  # Updated to use current parameter name\n",
    "    learning_rate=5e-5,\n",
    "    per_device_train_batch_size=batch_size,\n",
    "    per_device_eval_batch_size=batch_size,\n",
    "    num_train_epochs=2,\n",
    "    weight_decay=0.01,\n",
    "    seed=SEED,\n",
    "    report_to=None,\n",
    ")\n",
    "\n",
    "trainer1 = Trainer(\n",
    "    model=model,\n",
    "    args=args,\n",
    "    train_dataset=tokenized_datasets_train,\n",
    "    eval_dataset=tokenized_datasets_test,\n",
    "    data_collator=data_collator,\n",
    "    tokenizer=tokenizer,\n",
    "    compute_metrics=compute_metrics\n",
    ")\n"
   ]
  },
  {
   "cell_type": "code",
   "execution_count": null,
   "id": "2e897a8b-d54b-4f27-9c83-1e7876cc9115",
   "metadata": {
    "id": "2e897a8b-d54b-4f27-9c83-1e7876cc9115",
    "outputId": "e708c6f5-6305-472a-fb24-fdec509c9b1a"
   },
   "outputs": [
    {
     "data": {
      "text/html": [
       "\n",
       "    <div>\n",
       "      \n",
       "      <progress value='1612' max='1612' style='width:300px; height:20px; vertical-align: middle;'></progress>\n",
       "      [1612/1612 39:33:50, Epoch 2/2]\n",
       "    </div>\n",
       "    <table border=\"1\" class=\"dataframe\">\n",
       "  <thead>\n",
       " <tr style=\"text-align: left;\">\n",
       "      <th>Epoch</th>\n",
       "      <th>Training Loss</th>\n",
       "      <th>Validation Loss</th>\n",
       "      <th>Accuracy</th>\n",
       "      <th>F1</th>\n",
       "    </tr>\n",
       "  </thead>\n",
       "  <tbody>\n",
       "    <tr>\n",
       "      <td>1</td>\n",
       "      <td>0.687200</td>\n",
       "      <td>0.564142</td>\n",
       "      <td>0.750000</td>\n",
       "      <td>0.735420</td>\n",
       "    </tr>\n",
       "    <tr>\n",
       "      <td>2</td>\n",
       "      <td>0.405600</td>\n",
       "      <td>0.596404</td>\n",
       "      <td>0.757914</td>\n",
       "      <td>0.755457</td>\n",
       "    </tr>\n",
       "  </tbody>\n",
       "</table><p>"
      ],
      "text/plain": [
       "<IPython.core.display.HTML object>"
      ]
     },
     "metadata": {},
     "output_type": "display_data"
    },
    {
     "data": {
      "text/plain": [
       "TrainOutput(global_step=1612, training_loss=0.5309286993135589, metrics={'train_runtime': 142459.5808, 'train_samples_per_second': 0.181, 'train_steps_per_second': 0.011, 'total_flos': 2300737725262368.0, 'train_loss': 0.5309286993135589, 'epoch': 2.0})"
      ]
     },
     "execution_count": 54,
     "metadata": {},
     "output_type": "execute_result"
    }
   ],
   "source": [
    "trainer1.train()"
   ]
  },
  {
   "cell_type": "code",
   "execution_count": null,
   "id": "9945dd1c-e48a-4c1e-bae4-1f3bf6aa61e6",
   "metadata": {
    "id": "9945dd1c-e48a-4c1e-bae4-1f3bf6aa61e6",
    "outputId": "f0bf39aa-4d6b-44f7-b0f1-5f588b91b255"
   },
   "outputs": [
    {
     "data": {
      "text/html": [],
      "text/plain": [
       "<IPython.core.display.HTML object>"
      ]
     },
     "metadata": {},
     "output_type": "display_data"
    },
    {
     "data": {
      "text/plain": [
       "{'eval_loss': 0.5964035987854004,\n",
       " 'eval_accuracy': 0.7579143389199255,\n",
       " 'eval_f1': 0.7554570376270061,\n",
       " 'eval_runtime': 805.3249,\n",
       " 'eval_samples_per_second': 5.334,\n",
       " 'eval_steps_per_second': 0.334,\n",
       " 'epoch': 2.0}"
      ]
     },
     "execution_count": 55,
     "metadata": {},
     "output_type": "execute_result"
    }
   ],
   "source": [
    "trainer1.evaluate()"
   ]
  },
  {
   "cell_type": "code",
   "execution_count": null,
   "id": "8cdb1aa0-2557-489e-aa15-fbf7de804354",
   "metadata": {
    "id": "8cdb1aa0-2557-489e-aa15-fbf7de804354"
   },
   "outputs": [],
   "source": [
    "predictions, labels, _ = trainer1.predict(tokenized_datasets_test)\n",
    "predicted_indices = np.argmax(predictions, axis=1)\n"
   ]
  },
  {
   "cell_type": "code",
   "execution_count": null,
   "id": "8eb6370a-4ed1-4d36-b02b-1c05cfd9e347",
   "metadata": {
    "id": "8eb6370a-4ed1-4d36-b02b-1c05cfd9e347"
   },
   "outputs": [],
   "source": [
    "label_list = [\"not_hate\", \"implicit_hate\", \"explicit_hate\"]\n",
    "\n",
    "predicted_labels = [label_list[i] for i in predicted_indices]\n",
    "gold_labels = [label_list[i] for i in labels]"
   ]
  },
  {
   "cell_type": "code",
   "execution_count": null,
   "id": "e9092da2-cbd6-4cbd-8de1-0f040d204eae",
   "metadata": {
    "id": "e9092da2-cbd6-4cbd-8de1-0f040d204eae",
    "outputId": "185529c0-68b6-41da-f6bb-fc38a9234bdc"
   },
   "outputs": [
    {
     "name": "stdout",
     "output_type": "stream",
     "text": [
      "Accuracy: 0.7579143389199255\n",
      "Classification Report:\n",
      "                precision    recall  f1-score   support\n",
      "\n",
      "     not_hate     0.8297    0.8353    0.8325      2695\n",
      "implicit_hate     0.6434    0.6686    0.6557      1406\n",
      "explicit_hate     0.5328    0.3333    0.4101       195\n",
      "\n",
      "     accuracy                         0.7579      4296\n",
      "    macro avg     0.6686    0.6124    0.6328      4296\n",
      " weighted avg     0.7553    0.7579    0.7555      4296\n",
      "\n"
     ]
    },
    {
     "data": {
      "image/png": "[encoded data removed]",
      "text/plain": [
       "<Figure size 640x480 with 2 Axes>"
      ]
     },
     "metadata": {},
     "output_type": "display_data"
    }
   ],
   "source": [
    "evaluate_predictions(predicted_labels, gold_labels, label_list)\n"
   ]
  },
  {
   "cell_type": "code",
   "execution_count": null,
   "id": "8c0b0bcc-7039-4b27-abf9-df9537ce68f0",
   "metadata": {},
   "outputs": [],
   "source": []
  }
 ],
 "metadata": {
  "colab": {
   "provenance": [
    {
     "file_id": "1F_t40dSj38YVLFP3J8T0MQ6d1VnXkkXS",
     "timestamp": 1746105343447
    }
   ]
  },
  "kernelspec": {
   "display_name": "Python (Anaconda)",
   "language": "python",
   "name": "anaconda_env"
  },
  "language_info": {
   "codemirror_mode": {
    "name": "ipython",
    "version": 3
   },
   "file_extension": ".py",
   "mimetype": "text/x-python",
   "name": "python",
   "nbconvert_exporter": "python",
   "pygments_lexer": "ipython3",
   "version": "3.12.7"
  }
 },
 "nbformat": 4,
 "nbformat_minor": 5
}
