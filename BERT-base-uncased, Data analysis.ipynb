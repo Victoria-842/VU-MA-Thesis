{
 "cells": [
  {
   "cell_type": "markdown",
   "id": "KLBzaFgdSauB",
   "metadata": {
    "id": "KLBzaFgdSauB"
   },
   "source": [
    "# Implicit hate speech detection"
   ]
  },
  {
   "cell_type": "code",
   "execution_count": null,
   "id": "b9ef6041-e2b7-44de-b47e-53b5e65d8226",
   "metadata": {},
   "outputs": [],
   "source": [
    "# !pip install evaluate\n",
    "# !pip install seqeval\n",
    "# !pip install ipywidgets\n",
    "# !pip install transformers datasets seqeval evaluate\n",
    "# !pip install pyfunctional\n",
    "# !pip install torch torchvision\n",
    "# !pip install spacy\n",
    "# !pip install -U spacy\n",
    "# !python -m spacy download en_core_web_sm\n",
    "# !python -m spacy validate\n",
    "# !pip install \"numpy<2\"\n",
    "# !pip install \"thinc<8.3.6\"\n",
    "# !pip install transformers\n",
    "# !pip install --upgrade transformers\n",
    "# !pip install 'accelerate>=0.26.0'\n",
    "# !pip install nltk\n",
    "!pip install pandas\n"
   ]
  },
  {
   "cell_type": "code",
   "execution_count": null,
   "id": "6354ec28-48f1-45ec-a6bd-a81feede5063",
   "metadata": {},
   "outputs": [],
   "source": [
    "import sys\n",
    "print(sys.executable)"
   ]
  },
  {
   "cell_type": "code",
   "execution_count": 2,
   "id": "967e0d5c-3b3c-4c45-b1b9-ca61ce26df17",
   "metadata": {},
   "outputs": [
    {
     "name": "stdout",
     "output_type": "stream",
     "text": [
      "Collecting numpy<2\n",
      "  Using cached numpy-1.26.4-cp312-cp312-macosx_10_9_x86_64.whl.metadata (61 kB)\n",
      "Using cached numpy-1.26.4-cp312-cp312-macosx_10_9_x86_64.whl (20.3 MB)\n",
      "Installing collected packages: numpy\n",
      "  Attempting uninstall: numpy\n",
      "    Found existing installation: numpy 2.2.5\n",
      "    Uninstalling numpy-2.2.5:\n",
      "      Successfully uninstalled numpy-2.2.5\n",
      "Successfully installed numpy-1.26.4\n"
     ]
    }
   ],
   "source": [
    "!pip install \"numpy<2\""
   ]
  },
  {
   "cell_type": "code",
   "execution_count": null,
   "id": "8544685e-1367-499f-8b09-af6a952dff02",
   "metadata": {
    "id": "8544685e-1367-499f-8b09-af6a952dff02"
   },
   "outputs": [],
   "source": [
    "import nltk\n",
    "from nltk.tokenize import sent_tokenize, word_tokenize\n",
    "from nltk.tree import Tree\n",
    "from nltk.stem.porter import PorterStemmer\n",
    "import re\n",
    "from collections import Counter\n",
    "import string\n",
    "import pandas as pd\n",
    "# import spacy\n",
    "# from spacy.tokens import Doc\n",
    "# from spacy import displacy\n",
    "# import benepar\n",
    "from itertools import chain\n",
    "import sklearn\n",
    "from sklearn.metrics import make_scorer\n",
    "from sklearn.model_selection import cross_val_score\n",
    "from sklearn.model_selection import RandomizedSearchCV\n",
    "import scipy.stats\n",
    "import pickle\n",
    "import networkx as nx\n",
    "import os, logging\n",
    "from collections import defaultdict\n",
    "from sklearn.metrics import precision_score, recall_score, f1_score, confusion_matrix, classification_report, ConfusionMatrixDisplay\n",
    "from itertools import combinations\n",
    "from sklearn.metrics import confusion_matrix, ConfusionMatrixDisplay\n",
    "import matplotlib.pyplot as plt\n",
    "from sklearn.metrics import accuracy_score, classification_report, confusion_matrix, ConfusionMatrixDisplay\n",
    "import matplotlib.pyplot as plt\n",
    "%matplotlib inline\n",
    "from sklearn.metrics import precision_recall_fscore_support, classification_report\n",
    "from sklearn.metrics import confusion_matrix, ConfusionMatrixDisplay, classification_report\n",
    "import numpy as np\n",
    "import matplotlib.pyplot as plt\n",
    "import re\n",
    "from datasets import load_dataset\n",
    "from evaluate import load\n",
    "import pandas as pd\n",
    "from datasets import Dataset\n",
    "import os\n",
    "\n",
    "\n",
    "import csv\n",
    "\n",
    "import pkg_resources\n",
    "import subprocess\n",
    "import sys\n",
    "import os\n",
    "\n",
    "import pandas as pd\n",
    "from numpy import log, mean\n",
    "from pandas import Series, DataFrame\n",
    "\n",
    "from typing import List, Tuple, Union\n",
    "import glob\n",
    "\n",
    "from functional import seq\n",
    "# from textblob import TextBlob\n",
    "import seaborn as sns\n",
    "import matplotlib.pyplot as plt\n",
    "\n",
    "from sklearn.feature_extraction.text import CountVectorizer, TfidfVectorizer\n",
    "from IPython.display import clear_output\n",
    "from typing import Dict, List, Tuple, Union\n",
    "from sklearn.model_selection import train_test_split\n",
    "\n",
    "from transformers import TrainingArguments, Trainer\n",
    "from transformers import AutoModelForSequenceClassification, AutoTokenizer, Trainer, TrainingArguments, set_seed\n",
    "from transformers import DataCollatorWithPadding\n"
   ]
  },
  {
   "cell_type": "code",
   "execution_count": 2,
   "id": "930d32c5-b194-48b4-b1eb-0626c5a93386",
   "metadata": {},
   "outputs": [],
   "source": [
    "model_checkpoint = \"bert-base-uncased\"\n",
    "task = \"hate_detection\"\n",
    "batch_size = 16"
   ]
  },
  {
   "cell_type": "code",
   "execution_count": null,
   "id": "1c9f1434-d822-47d8-a904-b82fb0b79fbc",
   "metadata": {},
   "outputs": [],
   "source": [
    "import torch\n",
    "x = torch.rand(5, 3)\n",
    "print(x)"
   ]
  },
  {
   "cell_type": "code",
   "execution_count": 5,
   "id": "d5066738-3cb5-4f76-8efe-0f20bf75258f",
   "metadata": {},
   "outputs": [
    {
     "name": "stderr",
     "output_type": "stream",
     "text": [
      "Some weights of BertForSequenceClassification were not initialized from the model checkpoint at bert-base-uncased and are newly initialized: ['classifier.bias', 'classifier.weight']\n",
      "You should probably TRAIN this model on a down-stream task to be able to use it for predictions and inference.\n"
     ]
    }
   ],
   "source": [
    "from transformers import BertTokenizer, BertForSequenceClassification\n",
    "tokenizer = BertTokenizer.from_pretrained(model_checkpoint)\n",
    "model = BertForSequenceClassification.from_pretrained(\n",
    "    model_checkpoint, \n",
    "    num_labels=3  \n",
    ")"
   ]
  },
  {
   "cell_type": "markdown",
   "id": "DSK5LwQUtwOQ",
   "metadata": {
    "id": "DSK5LwQUtwOQ"
   },
   "source": [
    "## Data analysis\n"
   ]
  },
  {
   "cell_type": "markdown",
   "id": "d2151844-263b-4b7e-85bb-d17a6db2566e",
   "metadata": {},
   "source": [
    "Class (implicit_hate and not_hate labels) are in dataset \"./implicit_hate_v1_stg1.tsv\"\n",
    "\n",
    "Implicit class (white grievance, irony, stereotypical) are in dataset \"./implicit_hate_v1_stg2_posts.tsv\"\n",
    "\n",
    "Target groups (minority, immigrants) are in dataset \"./implicit_hate_v1_stg3_posts.tsv\""
   ]
  },
  {
   "cell_type": "code",
   "execution_count": 7,
   "id": "cf22488d-a8ce-4b1e-a4ef-ac6828cfacaa",
   "metadata": {},
   "outputs": [],
   "source": [
    "binary_labels_data = \"implicit-hate-corpus/implicit_hate_v1_stg1_posts.tsv\"\n",
    "implicit_class_data = \"implicit-hate-corpus/implicit_hate_v1_stg2_posts.tsv\"\n",
    "target_group_data = \"implicit-hate-corpus/implicit_hate_v1_stg3_posts.tsv\""
   ]
  },
  {
   "cell_type": "code",
   "execution_count": 9,
   "id": "d03b2ced-4ea9-4053-89db-14bed19f7b7e",
   "metadata": {},
   "outputs": [
    {
     "name": "stdout",
     "output_type": "stream",
     "text": [
      "                                                    post          class\n",
      "0        \" : jewish harvard professor noel ignatiev w...  implicit_hate\n",
      "1       b.higher education is a part of european cult...       not_hate\n",
      "2       has a problem with  \" the whites \" \" and \" \" ...       not_hate\n",
      "3       is yasir qadhi a hate preacher for calling ch...       not_hate\n",
      "4       rt  \" : how three million germans mass murder...       not_hate\n",
      "...                                                  ...            ...\n",
      "21475  Seeing prostitutes is morally wrong, but being...  implicit_hate\n",
      "21476  I wonder how many females I raped today I spen...  implicit_hate\n",
      "21477  Having a criminal record is more attractive to...  implicit_hate\n",
      "21478  Another advantage of being a female: getting b...  implicit_hate\n",
      "21479  If men are so privileged and women have it so ...  implicit_hate\n",
      "\n",
      "[21480 rows x 2 columns]\n"
     ]
    }
   ],
   "source": [
    "df_stg1_posts = pd.read_csv(binary_labels_data, delimiter='\\t')\n",
    "print(df_stg1_posts)"
   ]
  },
  {
   "cell_type": "code",
   "execution_count": 11,
   "id": "474c8224-49c6-4d65-888d-de52a8757235",
   "metadata": {},
   "outputs": [
    {
     "name": "stdout",
     "output_type": "stream",
     "text": [
      "                                                   post   implicit_class  \\\n",
      "0       \" : jewish harvard professor noel ignatiev w...  white_grievance   \n",
      "1      rt : tune in today's jmt for my interview w /...            irony   \n",
      "2     : : hate posters ? you want hate buddy ? read ...  white_grievance   \n",
      "3     : hunt for white women : black racist serial k...    stereotypical   \n",
      "4     : looks like he was a fan of the islamic jew-h...    stereotypical   \n",
      "...                                                 ...              ...   \n",
      "6341  Seeing prostitutes is morally wrong, but being...            irony   \n",
      "6342  I wonder how many females I raped today I spen...            irony   \n",
      "6343  Having a criminal record is more attractive to...    stereotypical   \n",
      "6344  Another advantage of being a female: getting b...      inferiority   \n",
      "6345  If men are so privileged and women have it so ...            irony   \n",
      "\n",
      "     extra_implicit_class  \n",
      "0                     NaN  \n",
      "1                     NaN  \n",
      "2                     NaN  \n",
      "3                     NaN  \n",
      "4                     NaN  \n",
      "...                   ...  \n",
      "6341                  NaN  \n",
      "6342                  NaN  \n",
      "6343                  NaN  \n",
      "6344                  NaN  \n",
      "6345                  NaN  \n",
      "\n",
      "[6346 rows x 3 columns]\n"
     ]
    }
   ],
   "source": [
    "df_stg2_posts = pd.read_csv(implicit_class_data, delimiter='\\t')\n",
    "print(df_stg2_posts)"
   ]
  },
  {
   "cell_type": "code",
   "execution_count": 13,
   "id": "ba10f8a5-7c01-482d-888a-02528e24ef56",
   "metadata": {},
   "outputs": [
    {
     "name": "stdout",
     "output_type": "stream",
     "text": [
      "                                                    post            target  \\\n",
      "0       rt  \" white privilege \" \" is when the gun jam...   minority groups   \n",
      "1       rt  \" white privilege \" \" is when the gun jam...      Black people   \n",
      "2        if you are white in that state watch yourself !  non-white people   \n",
      "3        if you are white in that state watch yourself !      white people   \n",
      "4      so the 500 % increase in h1b visas ? yeah i'm ...        Immigrants   \n",
      "...                                                  ...               ...   \n",
      "12031   every india lover must boycott these pigs movies      Indian folks   \n",
      "12032   every india lover must boycott these pigs movies     Indian people   \n",
      "12033  ask more rss intellectuals to come on powerful...      Indian folks   \n",
      "12034  ask more rss intellectuals to come on powerful...      Indian folks   \n",
      "12035  cong stooges in msm who underplay the darkest ...      Indian folks   \n",
      "\n",
      "                                implied_statement  \n",
      "0      people in minority groups are all in gangs  \n",
      "1                        Black people are violent  \n",
      "2                  non-white people are dangerous  \n",
      "3                     White people are in danger.  \n",
      "4                      Immigrants are undesirable  \n",
      "...                                           ...  \n",
      "12031                       Indian folks are pigs  \n",
      "12032                      Indian people are pigs  \n",
      "12033                 Indian folks are uneducated  \n",
      "12034                    Indian folks are foolish  \n",
      "12035                     Indian folks are facist  \n",
      "\n",
      "[12036 rows x 3 columns]\n"
     ]
    }
   ],
   "source": [
    "df_stg3_posts = pd.read_csv(target_group_data, delimiter='\\t')\n",
    "print(df_stg3_posts)"
   ]
  },
  {
   "cell_type": "markdown",
   "id": "42d847a7-448d-4a61-9747-4310a089688e",
   "metadata": {},
   "source": [
    "### Count per class"
   ]
  },
  {
   "cell_type": "code",
   "execution_count": 15,
   "id": "73596b62-37d9-4cd1-9752-b8dbc49449ab",
   "metadata": {},
   "outputs": [
    {
     "data": {
      "text/plain": [
       "class\n",
       "not_hate         13291\n",
       "implicit_hate     7100\n",
       "explicit_hate     1089\n",
       "Name: count, dtype: int64"
      ]
     },
     "execution_count": 15,
     "metadata": {},
     "output_type": "execute_result"
    }
   ],
   "source": [
    "df_stg1_posts = pd.read_csv(binary_labels_data, delimiter='\\t')\n",
    "df_stg1_posts['class'].value_counts()"
   ]
  },
  {
   "cell_type": "code",
   "execution_count": 17,
   "id": "2d96369d-4495-47c5-bf17-5f0ec8c89507",
   "metadata": {},
   "outputs": [
    {
     "data": {
      "text/plain": [
       "implicit_class\n",
       "white_grievance    1538\n",
       "incitement         1269\n",
       "stereotypical      1133\n",
       "inferiority         863\n",
       "irony               797\n",
       "threatening         666\n",
       "other                80\n",
       "Name: count, dtype: int64"
      ]
     },
     "execution_count": 17,
     "metadata": {},
     "output_type": "execute_result"
    }
   ],
   "source": [
    "df_stg2_posts = pd.read_csv(implicit_class_data, delimiter='\\t')\n",
    "df_stg2_posts['implicit_class'].value_counts()"
   ]
  },
  {
   "cell_type": "code",
   "execution_count": 19,
   "id": "f5bec975-18f8-42ce-bff5-77dcdf7d7265",
   "metadata": {},
   "outputs": [
    {
     "name": "stdout",
     "output_type": "stream",
     "text": [
      "target\n",
      "Immigrants                     1338\n",
      "Minorities                     1228\n",
      "white people                   1204\n",
      "Muslims                        1126\n",
      "Jews                            847\n",
      "                               ... \n",
      "Immigrants and Minorities         1\n",
      "Mainstream christians             1\n",
      "Conservative jews                 1\n",
      "Wealthy jews and minorities       1\n",
      "Perkins                           1\n",
      "Name: count, Length: 1037, dtype: int64\n"
     ]
    }
   ],
   "source": [
    "df_stg3_posts = pd.read_csv(target_group_data, delimiter='\\t')\n",
    "target_counts = df_stg3_posts['target'].value_counts()\n",
    "print(target_counts)"
   ]
  },
  {
   "cell_type": "code",
   "execution_count": 21,
   "id": "41df509b-0a76-4170-8926-934ee3f69fa7",
   "metadata": {},
   "outputs": [
    {
     "name": "stdout",
     "output_type": "stream",
     "text": [
      "target\n",
      "\"they\" (group is not specified)    1\n",
      "3rd world countries                1\n",
      "A group                            2\n",
      "ACLU                               1\n",
      "ANTIFA folks                       1\n",
      "                                  ..\n",
      "working white class                1\n",
      "young black men                    1\n",
      "young white men                    1\n",
      "young, unemployed people           1\n",
      "zoggies                            1\n",
      "Length: 1037, dtype: int64\n"
     ]
    }
   ],
   "source": [
    "target_size = df_stg3_posts.groupby('target').size()\n",
    "print(target_size)"
   ]
  },
  {
   "cell_type": "markdown",
   "id": "73a96e5b-2789-469c-aa59-8d594bdc16b0",
   "metadata": {},
   "source": [
    "### Checking the labels in 3 datasets"
   ]
  },
  {
   "cell_type": "code",
   "execution_count": 23,
   "id": "a5bf862c-a827-48b8-93c0-edfded77cd0d",
   "metadata": {},
   "outputs": [
    {
     "data": {
      "text/plain": [
       "array(['implicit_hate', 'not_hate', 'explicit_hate'], dtype=object)"
      ]
     },
     "execution_count": 23,
     "metadata": {},
     "output_type": "execute_result"
    }
   ],
   "source": [
    "df_stg1_posts['class'].unique()"
   ]
  },
  {
   "cell_type": "code",
   "execution_count": 25,
   "id": "e1dcba1f-79db-4887-b296-050712f186e4",
   "metadata": {},
   "outputs": [
    {
     "data": {
      "text/plain": [
       "array(['white_grievance', 'irony', 'stereotypical', 'incitement', 'other',\n",
       "       'threatening', 'inferiority'], dtype=object)"
      ]
     },
     "execution_count": 25,
     "metadata": {},
     "output_type": "execute_result"
    }
   ],
   "source": [
    "df_stg2_posts['implicit_class'].unique()"
   ]
  },
  {
   "cell_type": "code",
   "execution_count": 27,
   "id": "5e92ef48-bf48-42fc-934d-662954666e69",
   "metadata": {},
   "outputs": [
    {
     "data": {
      "text/plain": [
       "array(['minority groups', 'Black people', 'non-white people', ...,\n",
       "       'Young Immigrants', 'LGBT and anti-fascist groups', 'Perkins'],\n",
       "      dtype=object)"
      ]
     },
     "execution_count": 27,
     "metadata": {},
     "output_type": "execute_result"
    }
   ],
   "source": [
    "df_stg3_posts['target'].unique()"
   ]
  },
  {
   "cell_type": "code",
   "execution_count": 29,
   "id": "09cb5ab0-d97e-4eb5-91d4-31ad0587f9c2",
   "metadata": {},
   "outputs": [
    {
     "name": "stdout",
     "output_type": "stream",
     "text": [
      "Number of unique labels: 1038\n"
     ]
    }
   ],
   "source": [
    "unique_labels = df_stg3_posts['target'].unique()\n",
    "num_unique_labels = len(unique_labels)\n",
    "\n",
    "print(f\"Number of unique labels: {num_unique_labels}\")"
   ]
  },
  {
   "cell_type": "code",
   "execution_count": 31,
   "id": "8e6b62f4-cc27-4449-82f8-eda73a77b342",
   "metadata": {},
   "outputs": [
    {
     "name": "stdout",
     "output_type": "stream",
     "text": [
      "target\n",
      "Immigrants          1338\n",
      "Minorities          1228\n",
      "white people        1204\n",
      "Muslims             1126\n",
      "Jews                 847\n",
      "non-white people     458\n",
      "Blacks               423\n",
      "immigrants           284\n",
      "White people         272\n",
      "Black people         266\n",
      "Name: count, dtype: int64\n"
     ]
    }
   ],
   "source": [
    "top_10_labels = df_stg3_posts['target'].value_counts().head(10)\n",
    "\n",
    "print(top_10_labels)\n"
   ]
  },
  {
   "cell_type": "markdown",
   "id": "95fdcd21-d012-4bf5-81b1-c47ac883f895",
   "metadata": {},
   "source": [
    "### Most frequent tokens per dataset\n",
    "\n",
    "### Dataset 1 ('not hate,' 'explicit hate,' 'implicit hate')"
   ]
  },
  {
   "cell_type": "code",
   "execution_count": 33,
   "id": "0Sm6XaYPRG4R",
   "metadata": {
    "id": "0Sm6XaYPRG4R"
   },
   "outputs": [],
   "source": [
    "import en_core_web_sm\n",
    "nlp = en_core_web_sm.load()\n",
    "\n",
    "# nlp = spacy.load(\"en_core_web_sm\")"
   ]
  },
  {
   "cell_type": "code",
   "execution_count": 34,
   "id": "bK3J71JoUV9_",
   "metadata": {
    "id": "bK3J71JoUV9_"
   },
   "outputs": [],
   "source": [
    "def log_LhArr(src_arr: Series, ref_arr: Series):\n",
    "  \"\"\"\n",
    "  Vectorized log-likelihood test.\n",
    "  \n",
    "  Parameters:\n",
    "  -----------\n",
    "  - src_arr: sum of tokens across all documents in the source group. Shape (1, n)\n",
    "  - ref_arr: sum of tokens across all documents in the reference group. Shape (1, n)\n",
    "  \n",
    "  Order in which parameters are passed does not affect the results.\n",
    "  \"\"\"\n",
    "  src_count: int = src_arr.sum()\n",
    "  ref_count: int = ref_arr.sum()\n",
    "  \n",
    "  agg = (src_arr + ref_arr) / (src_count + ref_count)\n",
    "  e1 = src_count * agg\n",
    "  e2 = ref_count * agg\n",
    "  \n",
    "  p1 = src_arr * log(src_arr / e1)\n",
    "  p2 = ref_arr * log(ref_arr / e2)\n",
    "\n",
    "  return 2 * (p1 + p2)\n",
    "  \n",
    "  \n",
    "def topWordsByLogLikelihood(\n",
    "  docWordMatrix: DataFrame, \n",
    "  labels: List[str], \n",
    "  topN: int) -> Tuple[Series, Series, Series]:\n",
    "  \"\"\"\n",
    "  Prints top words sorted by log likelihood test. \n",
    "  Assumes matrix has 3 labels.\n",
    "  \"\"\"\n",
    "  # Get unique labels in a predictable order\n",
    "  unique_labels = sorted(list(set(labels)))\n",
    "  \n",
    "  if len(unique_labels) != 3:\n",
    "    raise ValueError(f\"Expected exactly 3 unique labels, but found {len(unique_labels)}: {unique_labels}\")\n",
    "    \n",
    "  label1, label2, label3 = unique_labels\n",
    "  \n",
    "  aggDf = docWordMatrix.assign(label=labels).groupby('label').sum().T\n",
    "  \n",
    "  # Calculate log likelihood for each label vs. others\n",
    "  aggDf = aggDf.assign(\n",
    "    # Differences between labels\n",
    "    l1_vs_l2 = aggDf[label1] - aggDf[label2],\n",
    "    l1_vs_l3 = aggDf[label1] - aggDf[label3],\n",
    "    l2_vs_l1 = aggDf[label2] - aggDf[label1],\n",
    "    l2_vs_l3 = aggDf[label2] - aggDf[label3],\n",
    "    l3_vs_l1 = aggDf[label3] - aggDf[label1],\n",
    "    l3_vs_l2 = aggDf[label3] - aggDf[label2],\n",
    "    \n",
    "    # Log likelihood tests\n",
    "    l1_likelihood = log_LhArr(aggDf[label1].replace(0, 0.01), \n",
    "                             (aggDf[label2] + aggDf[label3]).replace(0, 0.01)),\n",
    "    l2_likelihood = log_LhArr(aggDf[label2].replace(0, 0.01), \n",
    "                             (aggDf[label1] + aggDf[label3]).replace(0, 0.01)),\n",
    "    l3_likelihood = log_LhArr(aggDf[label3].replace(0, 0.01), \n",
    "                             (aggDf[label1] + aggDf[label2]).replace(0, 0.01))\n",
    "  )\n",
    "  \n",
    "  # Boolean masks for each label (words more common in this label than others)\n",
    "  label1_mask = (aggDf['l1_vs_l2'] > 0) & (aggDf['l1_vs_l3'] > 0)\n",
    "  label2_mask = (aggDf['l2_vs_l1'] > 0) & (aggDf['l2_vs_l3'] > 0)\n",
    "  label3_mask = (aggDf['l3_vs_l1'] > 0) & (aggDf['l3_vs_l2'] > 0)\n",
    "  \n",
    "  # Get top words for each label\n",
    "  l1 = aggDf[label1_mask].sort_values(by='l1_likelihood', ascending=False)[:topN]['l1_likelihood']\n",
    "  l2 = aggDf[label2_mask].sort_values(by='l2_likelihood', ascending=False)[:topN]['l2_likelihood']\n",
    "  l3 = aggDf[label3_mask].sort_values(by='l3_likelihood', ascending=False)[:topN]['l3_likelihood']\n",
    "  \n",
    "  print(f\"\\nTop {label1} tokens by likelihood:\\n\")\n",
    "  print(l1)\n",
    "  print(f\"\\nTop {label2} tokens by likelihood:\\n\")\n",
    "  print(l2)\n",
    "  print(f\"\\nTop {label3} tokens by likelihood:\\n\")\n",
    "  print(l3)\n",
    "  \n",
    "  return (l1, l2, l3)\n",
    "\n",
    "### The code is from https://github.com/PyAntony/hate-speech/blob/master/notebooks/EDA.ipynb"
   ]
  },
  {
   "cell_type": "code",
   "execution_count": 35,
   "id": "NYD36yVnUgDT",
   "metadata": {
    "id": "NYD36yVnUgDT"
   },
   "outputs": [],
   "source": [
    "def hateTokenizer(text: str, spacyModel=nlp):\n",
    "  \"\"\"\n",
    "  Simple tokenizer to:\n",
    "    - extract alphabetical tokens\n",
    "    - remove stopwords\n",
    "    - lemmatize and lowercase tokens \n",
    "  \"\"\"\n",
    "  doc = spacyModel(text)\n",
    "  \n",
    "  return seq(token for token in doc)\\\n",
    "    .filter(lambda t: t.is_alpha)\\\n",
    "    .filter_not(lambda t: t.is_stop)\\\n",
    "    .map(lambda t: t.lemma_.lower())\\\n",
    "    .to_list()\n",
    "\n",
    "### The code is from https://github.com/PyAntony/hate-speech/blob/master/notebooks/EDA.ipynb"
   ]
  },
  {
   "cell_type": "code",
   "execution_count": 36,
   "id": "cd96e70a-2d53-46e4-8a0f-2a56c9608c69",
   "metadata": {},
   "outputs": [],
   "source": [
    "def rawCorpusToDf(\n",
    "  corpus: Union[List[str], Series], \n",
    "  tokenizer=hateTokenizer, \n",
    "  idf=False) -> DataFrame:\n",
    "  \"\"\"Tokenize corpus and build doc-term matrix.\"\"\"\n",
    "  vectorizer = (\n",
    "    TfidfVectorizer(tokenizer=tokenizer, lowercase=False) \n",
    "    if idf else\n",
    "    CountVectorizer(tokenizer=tokenizer, lowercase=False)\n",
    "  )\n",
    "\n",
    "  X = vectorizer.fit_transform(corpus)\n",
    "\n",
    "  return pd.DataFrame(X.toarray(), columns=vectorizer.get_feature_names_out())\n",
    "\n",
    "### The code is from https://github.com/PyAntony/hate-speech/blob/master/notebooks/EDA.ipynb"
   ]
  },
  {
   "cell_type": "code",
   "execution_count": 37,
   "id": "4730d94c-0269-4a62-95bc-a523fa8b28ff",
   "metadata": {
    "id": "EVXc4PytVv5-"
   },
   "outputs": [
    {
     "name": "stderr",
     "output_type": "stream",
     "text": [
      "/opt/anaconda3/lib/python3.12/site-packages/sklearn/feature_extraction/text.py:521: UserWarning: The parameter 'token_pattern' will not be used since 'tokenizer' is not None'\n",
      "  warnings.warn(\n"
     ]
    }
   ],
   "source": [
    "count_df = rawCorpusToDf(df_stg1_posts['post'])"
   ]
  },
  {
   "cell_type": "code",
   "execution_count": 38,
   "id": "BshN7oQK-Qsf",
   "metadata": {
    "colab": {
     "base_uri": "https://localhost:8080/"
    },
    "id": "BshN7oQK-Qsf",
    "outputId": "f7c83aaf-ae6d-4e94-a07b-a2e9b283cd4d"
   },
   "outputs": [
    {
     "name": "stdout",
     "output_type": "stream",
     "text": [
      "\n",
      "Top explicit_hate tokens by likelihood:\n",
      "\n",
      "faggot     244.893706\n",
      "nigger     213.989283\n",
      "trash      161.939214\n",
      "filthy      59.249884\n",
      "queer       41.252064\n",
      "kike        40.815618\n",
      "retard      34.873439\n",
      "sand        32.145283\n",
      "cracker     22.214993\n",
      "fag         21.208235\n",
      "Name: l1_likelihood, dtype: float64\n",
      "\n",
      "Top implicit_hate tokens by likelihood:\n",
      "\n",
      "illegal          378.024000\n",
      "black            186.282834\n",
      "deport           152.497307\n",
      "whitegenocide     93.419525\n",
      "country           85.119752\n",
      "jews              83.552970\n",
      "muslim            69.908199\n",
      "non               67.999386\n",
      "genocide          63.472067\n",
      "alien             52.969083\n",
      "Name: l2_likelihood, dtype: float64\n",
      "\n",
      "Top not_hate tokens by likelihood:\n",
      "\n",
      "cruz         124.245225\n",
      "white        118.940121\n",
      "trump        106.549130\n",
      "kill         105.988389\n",
      "alt           97.780039\n",
      "bjp           74.283228\n",
      "religious     71.339128\n",
      "sure          70.761668\n",
      "modi          70.085837\n",
      "race          69.122019\n",
      "Name: l3_likelihood, dtype: float64\n"
     ]
    }
   ],
   "source": [
    "l1, l2, l3 = topWordsByLogLikelihood(count_df, df_stg1_posts['class'].tolist(), 10)"
   ]
  },
  {
   "cell_type": "markdown",
   "id": "dca4d491-db38-4c82-a23c-5c72e9495dc0",
   "metadata": {},
   "source": [
    "### Dataset 2 (implicit classes)"
   ]
  },
  {
   "cell_type": "code",
   "execution_count": 39,
   "id": "552920fd-5041-48ba-a0c4-9b84c2feeee0",
   "metadata": {},
   "outputs": [],
   "source": [
    "def log_LhArr(src_arr: Series, ref_arr: Series):\n",
    "    src_count: int = src_arr.sum()\n",
    "    ref_count: int = ref_arr.sum()\n",
    "    \n",
    "    agg = (src_arr + ref_arr) / (src_count + ref_count)\n",
    "    e1 = src_count * agg\n",
    "    e2 = ref_count * agg\n",
    "\n",
    "    # Avoid division by zero and log(0)\n",
    "    src_arr = src_arr.replace(0, 0.01)\n",
    "    ref_arr = ref_arr.replace(0, 0.01)\n",
    "    e1 = e1.replace(0, 0.01)\n",
    "    e2 = e2.replace(0, 0.01)\n",
    "\n",
    "    p1 = src_arr * log(src_arr / e1)\n",
    "    p2 = ref_arr * log(ref_arr / e2)\n",
    "\n",
    "    return 2 * (p1 + p2)\n",
    "\n",
    "def topWordsByLogLikelihood(\n",
    "    docWordMatrix: DataFrame,\n",
    "    labels: List[str],\n",
    "    topN: int\n",
    ") -> dict:\n",
    "    \"\"\"\n",
    "    Prints top words sorted by log-likelihood test for each label.\n",
    "\n",
    "    Parameters:\n",
    "    -----------\n",
    "    - docWordMatrix: word counts per document\n",
    "    - labels: list of labels for each document\n",
    "    - topN: how many top words to return per label\n",
    "\n",
    "    Returns:\n",
    "    --------\n",
    "    A dictionary where keys are labels and values are Series of topN words.\n",
    "    \"\"\"\n",
    "    unique_labels = sorted(set(labels))\n",
    "\n",
    "    if len(unique_labels) < 2:\n",
    "        raise ValueError(\"Need at least 2 unique labels.\")\n",
    "\n",
    "    aggDf = docWordMatrix.assign(label=labels).groupby('label').sum().T\n",
    "    results = {}\n",
    "\n",
    "    for label in unique_labels:\n",
    "        # All other labels combined\n",
    "        others = [l for l in unique_labels if l != label]\n",
    "        ref_sum = aggDf[others].sum(axis=1)\n",
    "        src = aggDf[label]\n",
    "\n",
    "        # Compute log-likelihood\n",
    "        likelihood = log_LhArr(src, ref_sum)\n",
    "        mask = (src > ref_sum)  # Only words more frequent in src than reference\n",
    "        top_words = likelihood[mask].sort_values(ascending=False).head(topN)\n",
    "\n",
    "        print(f\"\\nTop {label} tokens by likelihood:\\n\")\n",
    "        print(top_words)\n",
    "\n",
    "        results[label] = top_words\n",
    "\n",
    "    return results\n",
    "\n",
    "### The code is from https://github.com/PyAntony/hate-speech/blob/master/notebooks/EDA.ipynb"
   ]
  },
  {
   "cell_type": "code",
   "execution_count": 44,
   "id": "1bdf3d47-b350-41ac-bb45-a88909328998",
   "metadata": {},
   "outputs": [
    {
     "name": "stderr",
     "output_type": "stream",
     "text": [
      "/opt/anaconda3/lib/python3.12/site-packages/sklearn/feature_extraction/text.py:521: UserWarning: The parameter 'token_pattern' will not be used since 'tokenizer' is not None'\n",
      "  warnings.warn(\n"
     ]
    }
   ],
   "source": [
    "count_df = rawCorpusToDf(df_stg2_posts['post'])"
   ]
  },
  {
   "cell_type": "code",
   "execution_count": 45,
   "id": "1075ef7f-7942-458d-8b8b-cbcdd4d327b4",
   "metadata": {},
   "outputs": [
    {
     "name": "stdout",
     "output_type": "stream",
     "text": [
      "\n",
      "Top incitement tokens by likelihood:\n",
      "\n",
      "aryan         75.621139\n",
      "hitler        65.402003\n",
      "resister      59.517647\n",
      "adolf         55.844740\n",
      "alt           51.628837\n",
      "shirt         49.047617\n",
      "kkk           45.800683\n",
      "power         39.174052\n",
      "pride         37.982568\n",
      "whitepride    34.710165\n",
      "dtype: float64\n",
      "\n",
      "Top inferiority tokens by likelihood:\n",
      "\n",
      "iq              80.212580\n",
      "animal          74.061041\n",
      "low             59.319248\n",
      "civilization    47.422275\n",
      "rat             44.924388\n",
      "savage          41.875683\n",
      "parasite        41.461672\n",
      "monkey          41.038998\n",
      "degenerate      40.051961\n",
      "pig             38.344356\n",
      "dtype: float64\n",
      "\n",
      "Top irony tokens by likelihood:\n",
      "\n",
      "difference    82.845065\n",
      "number        49.986938\n",
      "repeat        49.582040\n",
      "ethiopian     29.884313\n",
      "jerome        29.884313\n",
      "car           27.128101\n",
      "joke          25.376663\n",
      "cotton        24.233858\n",
      "parrot        21.315945\n",
      "tree          20.976808\n",
      "dtype: float64\n",
      "\n",
      "Top other tokens by likelihood:\n",
      "\n",
      "cuck             116.343805\n",
      "cuckservative     88.159646\n",
      "asexual           18.006761\n",
      "adam               8.964369\n",
      "someday            8.964369\n",
      "slogan             8.964369\n",
      "skrillex           8.964369\n",
      "sikh               8.964369\n",
      "settle             8.964369\n",
      "rude               8.964369\n",
      "dtype: float64\n",
      "\n",
      "Top stereotypical tokens by likelihood:\n",
      "\n",
      "kill       279.617315\n",
      "jewish      94.900021\n",
      "rape        75.906683\n",
      "jihad       71.598347\n",
      "israel      49.497782\n",
      "old         46.896297\n",
      "koran       42.632231\n",
      "muslims     39.003741\n",
      "infidel     38.881904\n",
      "islamic     33.757711\n",
      "dtype: float64\n",
      "\n",
      "Top threatening tokens by likelihood:\n",
      "\n",
      "deport    245.065289\n",
      "send      140.362231\n",
      "ice        48.763156\n",
      "em         44.915914\n",
      "gun        38.065686\n",
      "dank       32.153636\n",
      "round      28.072446\n",
      "nuke       27.544925\n",
      "ship       23.067214\n",
      "period     22.575714\n",
      "dtype: float64\n",
      "\n",
      "Top white_grievance tokens by likelihood:\n",
      "\n",
      "anti             268.755721\n",
      "genocide         265.243252\n",
      "racist           214.202276\n",
      "whitegenocide    143.485668\n",
      "hate             132.237591\n",
      "code              35.220928\n",
      "antiwhite         32.906839\n",
      "accelerate        30.110292\n",
      "privilege         27.677686\n",
      "minority          26.657195\n",
      "dtype: float64\n"
     ]
    }
   ],
   "source": [
    "l1, l2, l3, l4, l5, l6, l7 = topWordsByLogLikelihood(count_df, df_stg2_posts['implicit_class'].tolist(), 10)"
   ]
  },
  {
   "cell_type": "markdown",
   "id": "ea5725f4-6e75-410f-b644-ec2dc53c33d0",
   "metadata": {},
   "source": [
    "## Splitting the dataset 1 ('not hate,' 'explicit hate,' 'implicit hate') into train, dev, test"
   ]
  },
  {
   "cell_type": "code",
   "execution_count": 16,
   "id": "f64f3cb8-5ef7-44c0-b925-e49c28475d56",
   "metadata": {},
   "outputs": [
    {
     "name": "stdout",
     "output_type": "stream",
     "text": [
      "Total dataset size: 21480 sentences\n",
      "Train set: 12888 sentences (60.0%)\n",
      "Dev set: 4296 sentences (20.0%)\n",
      "Test set: 4296 sentences (20.0%)\n"
     ]
    }
   ],
   "source": [
    "df = pd.read_csv(binary_labels_data, sep='\\t', header=0)  \n",
    "\n",
    "train_df, temp_df = train_test_split(df, test_size=0.4, random_state=42)\n",
    "dev_df, test_df = train_test_split(temp_df, test_size=0.5, random_state=42)\n",
    "\n",
    "train_df.to_csv('train_data.tsv', sep='\\t', index=False)\n",
    "dev_df.to_csv('dev_data.tsv', sep='\\t', index=False)\n",
    "test_df.to_csv('test_data.tsv', sep='\\t', index=False)\n",
    "\n",
    "print(f\"Total dataset size: {len(df)} sentences\")\n",
    "print(f\"Train set: {len(train_df)} sentences ({len(train_df)/len(df)*100:.1f}%)\")\n",
    "print(f\"Dev set: {len(dev_df)} sentences ({len(dev_df)/len(df)*100:.1f}%)\")\n",
    "print(f\"Test set: {len(test_df)} sentences ({len(test_df)/len(df)*100:.1f}%)\")"
   ]
  },
  {
   "cell_type": "code",
   "execution_count": 9,
   "id": "ccc243e4-7b25-4385-b5cf-d5840a1aa438",
   "metadata": {},
   "outputs": [],
   "source": [
    "trainset = \"train_data.tsv\"\n",
    "devset = \"dev_data.tsv\"\n",
    "testset = \"test_data.tsv\""
   ]
  },
  {
   "cell_type": "code",
   "execution_count": 64,
   "id": "3f19658e-7397-4617-aec7-7049b11ca646",
   "metadata": {},
   "outputs": [
    {
     "name": "stdout",
     "output_type": "stream",
     "text": [
      "                                                post          class\n",
      "0  they are not dreamers, if they are illegal the...  implicit_hate\n",
      "1   i get it . you feel bad for being white . you...       not_hate\n",
      "2  saudi arabia is a disgusting, inhuman regime. ...  explicit_hate\n",
      "3  2 hollywood jews want us to feel bad for not i...  explicit_hate\n",
      "4  technically  the kkk commits no crimes . they ...       not_hate\n",
      "5  poland uncovers thousands more staff at auschw...       not_hate\n",
      "6                     its about erasing white people  implicit_hate\n",
      "7  we who are pro-white want to preserve the whit...  implicit_hate\n",
      "8  the yankees are so disenchanted with their wom...  implicit_hate\n",
      "9                rape of europe  5sept2015 #altright       not_hate\n"
     ]
    }
   ],
   "source": [
    "trainset_read = pd.read_csv(trainset, delimiter='\\t')\n",
    "print(trainset_read[:10])"
   ]
  },
  {
   "cell_type": "code",
   "execution_count": 66,
   "id": "9dfd716f-2ce1-4528-861b-a52cb2fd3bb4",
   "metadata": {},
   "outputs": [
    {
     "name": "stdout",
     "output_type": "stream",
     "text": [
      "                                                post          class\n",
      "0  white community was a safe white community til...  explicit_hate\n",
      "1  a fetus is a baby and needs to be treated w / ...       not_hate\n",
      "2  that's not what he was saying . women voting o...  implicit_hate\n",
      "3  thats why dhs should put chutes on illegals, l...  implicit_hate\n",
      "4  : abortion has a market problem : #hb2 #protec...       not_hate\n",
      "5    \" police continue to stand down  people will...       not_hate\n",
      "6  you have a good work ethic  and i'm sure a few...       not_hate\n",
      "7                                        hello white       not_hate\n",
      "8   rt but the  \" third great awakening \" \" is ab...       not_hate\n",
      "9  not wanting your people and culture erased is ...       not_hate\n"
     ]
    }
   ],
   "source": [
    "devset_read = pd.read_csv(devset, delimiter='\\t')\n",
    "print(devset_read[:10])"
   ]
  },
  {
   "cell_type": "code",
   "execution_count": 68,
   "id": "de752222-0f34-4add-a139-03d5765f88e9",
   "metadata": {},
   "outputs": [
    {
     "name": "stdout",
     "output_type": "stream",
     "text": [
      "                                                post          class\n",
      "0  more i learn  more i realize how similar jews ...  explicit_hate\n",
      "1            they move into the third mixed nation .  implicit_hate\n",
      "2  npr says southern baptists are raising the whi...       not_hate\n",
      "3  wal mart queen hillary pontificates that modi ...       not_hate\n",
      "4  trumps so mentally unstable calling himself wh...       not_hate\n",
      "5  need a massive deportation program ... around ...  implicit_hate\n",
      "6  democrats in white hoods have hung white repub...  implicit_hate\n",
      "7  trump needs his hud examined : not a fan of fa...  explicit_hate\n",
      "8  very unlikely for most unless its a massive pu...       not_hate\n",
      "9  not generally . in some states  1/2 of black p...  implicit_hate\n"
     ]
    }
   ],
   "source": [
    "testset_read = pd.read_csv(testset, delimiter='\\t')\n",
    "print(testset_read[:10])"
   ]
  },
  {
   "cell_type": "markdown",
   "id": "001bf4d5-f341-4298-8806-8c6b6322845d",
   "metadata": {},
   "source": [
    "## Loading the dataset"
   ]
  },
  {
   "cell_type": "code",
   "execution_count": 11,
   "id": "bb59e3e3-d2c9-4200-9501-4f3851710ba9",
   "metadata": {},
   "outputs": [
    {
     "name": "stdout",
     "output_type": "stream",
     "text": [
      "post\tclass\n",
      "\"they are not dreamers, if they are illegal they aren't immigrant they are \"\"\"\"intruder invaders\"\"\"\".\"\timplicit_hate\n",
      "\" i get it . you feel bad for being white . you assume  \"\" white privilege \"\" \"\" and \"\" \"\" the patriarchy \"\" \"\" must be torn down . you want to help . not me . \"\"\"\tnot_hate\n",
      "saudi arabia is a disgusting, inhuman regime. truly evil. lower than vermin. still, business is business. kerching!\texplicit_hate\n",
      "2 hollywood jews want us to feel bad for not importing jihadists whose doctrine has more jew hate than mein kampf\texplicit_hate\n"
     ]
    }
   ],
   "source": [
    "with open(trainset, \"r\") as file:\n",
    "    for i, line in enumerate(file):\n",
    "        if i < 5:  # Print the first 5 lines\n",
    "            print(line.strip())\n"
   ]
  },
  {
   "cell_type": "code",
   "execution_count": 13,
   "id": "63d6f758-e9d9-4900-a9f2-645698031e8b",
   "metadata": {},
   "outputs": [],
   "source": [
    "data = []\n",
    "with open(trainset, \"r\") as file:\n",
    "    for line in file:\n",
    "        row = line.strip().split('\\t')\n",
    "        if len(row) >= 2:  # Ensure there are at least 2 columns\n",
    "            data.append([row[0], row[1]])  # Select only the first two columns\n",
    "\n",
    "df_train = pd.DataFrame(data, columns=['post', 'class'])"
   ]
  },
  {
   "cell_type": "code",
   "execution_count": 74,
   "id": "1d547f71-3656-455e-9836-6c9705ca4bd8",
   "metadata": {},
   "outputs": [
    {
     "name": "stdout",
     "output_type": "stream",
     "text": [
      "Train DataFrame columns: ['post', 'class']\n"
     ]
    }
   ],
   "source": [
    "print(\"Train DataFrame columns:\", df_train.columns.tolist())"
   ]
  },
  {
   "cell_type": "code",
   "execution_count": 15,
   "id": "022268ae-c75b-4a79-9950-d729b8429784",
   "metadata": {},
   "outputs": [],
   "source": [
    "data = []\n",
    "with open(devset, \"r\") as file:\n",
    "    for line in file:\n",
    "        row = line.strip().split('\\t')\n",
    "        if len(row) >= 2:   \n",
    "            data.append([row[0], row[1]])   \n",
    "\n",
    "df_dev = pd.DataFrame(data, columns=['post', 'class'])"
   ]
  },
  {
   "cell_type": "code",
   "execution_count": 80,
   "id": "5110126d-7431-403c-9bc5-2ecfda9f23b4",
   "metadata": {},
   "outputs": [
    {
     "name": "stdout",
     "output_type": "stream",
     "text": [
      "Train DataFrame columns: ['post', 'class']\n"
     ]
    }
   ],
   "source": [
    "print(\"Train DataFrame columns:\", df_dev.columns.tolist())"
   ]
  },
  {
   "cell_type": "code",
   "execution_count": 17,
   "id": "7e1cc6d1-a5e3-410b-98e9-2d7506edef80",
   "metadata": {},
   "outputs": [],
   "source": [
    "data = []\n",
    "with open(testset, \"r\") as file:\n",
    "    for line in file:\n",
    "        row = line.strip().split('\\t')\n",
    "        if len(row) >= 2:   \n",
    "            data.append([row[0], row[1]])  # Select only the first two columns\n",
    "\n",
    "df_test = pd.DataFrame(data, columns=['post', 'class'])\n"
   ]
  },
  {
   "cell_type": "code",
   "execution_count": 84,
   "id": "257eae1d-5b6a-410a-a0a9-35cc94b0ad97",
   "metadata": {},
   "outputs": [
    {
     "name": "stdout",
     "output_type": "stream",
     "text": [
      "Train DataFrame columns: ['post', 'class']\n"
     ]
    }
   ],
   "source": [
    "print(\"Train DataFrame columns:\", df_test.columns.tolist())"
   ]
  },
  {
   "cell_type": "code",
   "execution_count": 86,
   "id": "9d5f767d-6fb9-4dea-afbb-f02dc1113005",
   "metadata": {},
   "outputs": [
    {
     "data": {
      "text/plain": [
       "class\n",
       "not_hate         7919\n",
       "implicit_hate    4296\n",
       "explicit_hate     672\n",
       "class               1\n",
       "                    1\n",
       "Name: count, dtype: int64"
      ]
     },
     "execution_count": 86,
     "metadata": {},
     "output_type": "execute_result"
    }
   ],
   "source": [
    "df_train['class'].value_counts()"
   ]
  },
  {
   "cell_type": "code",
   "execution_count": 90,
   "id": "f80b59fe-ba8e-4eba-8f0e-f8862dacfb70",
   "metadata": {},
   "outputs": [
    {
     "data": {
      "text/plain": [
       "class\n",
       "not_hate         2677\n",
       "implicit_hate    1397\n",
       "explicit_hate     222\n",
       "class               1\n",
       "Name: count, dtype: int64"
      ]
     },
     "execution_count": 90,
     "metadata": {},
     "output_type": "execute_result"
    }
   ],
   "source": [
    "df_dev['class'].value_counts()"
   ]
  },
  {
   "cell_type": "code",
   "execution_count": 92,
   "id": "07b8560f-2fc1-47b1-9377-2c1ea6c43bfc",
   "metadata": {},
   "outputs": [
    {
     "data": {
      "text/plain": [
       "class\n",
       "not_hate         2695\n",
       "implicit_hate    1406\n",
       "explicit_hate     195\n",
       "class               1\n",
       "Name: count, dtype: int64"
      ]
     },
     "execution_count": 92,
     "metadata": {},
     "output_type": "execute_result"
    }
   ],
   "source": [
    "df_test['class'].value_counts()"
   ]
  },
  {
   "cell_type": "markdown",
   "id": "446c7a9e-8572-4c62-8a3a-7f51050662ad",
   "metadata": {},
   "source": [
    "## Data Preprocessing\n",
    "\n",
    "In our dataset, the labels are organized like this:\n",
    "\n",
    "not_hate\n",
    "implicit_hate\n",
    "explicit_hate\n"
   ]
  },
  {
   "cell_type": "code",
   "execution_count": 19,
   "id": "62661d5f-e22b-404c-8f0b-744e563e2d96",
   "metadata": {},
   "outputs": [
    {
     "data": {
      "text/plain": [
       "Embedding(30522, 768, padding_idx=0)"
      ]
     },
     "execution_count": 19,
     "metadata": {},
     "output_type": "execute_result"
    }
   ],
   "source": [
    "model.resize_token_embeddings(len(tokenizer))"
   ]
  },
  {
   "cell_type": "code",
   "execution_count": 21,
   "id": "de46013d-40fe-4064-89bd-08f227a682f1",
   "metadata": {},
   "outputs": [],
   "source": [
    "dataset_train = load_dataset('csv', data_files={'train': 'train_data.tsv'}, delimiter='\\t')\n",
    "dataset_dev = load_dataset('csv', data_files={'dev': 'dev_data.tsv'}, delimiter='\\t')\n",
    "dataset_test = load_dataset('csv', data_files={'test': 'test_data.tsv'}, delimiter='\\t')\n",
    "\n",
    "tokenizer = BertTokenizer.from_pretrained(model_checkpoint)\n",
    "\n",
    "def tokenize_and_align_labels(examples):\n",
    "    tokenized_inputs = tokenizer(examples[\"post\"], truncation=True, padding=True, max_length=512)\n",
    "\n",
    "    # Mapping the 'class' labels to numerical labels (0 = not_hate, 1 = implicit_hate, 2 = explicit_hate)\n",
    "    label_mapping = {\"not_hate\": 0, \"implicit_hate\": 1, \"explicit_hate\": 2}\n",
    "    labels = [label_mapping[label] for label in examples[\"class\"]]\n",
    "\n",
    "    tokenized_inputs[\"labels\"] = labels\n",
    "    return tokenized_inputs"
   ]
  },
  {
   "cell_type": "code",
   "execution_count": 23,
   "id": "b5bd04a5-5c73-4c37-8387-fe55d2cb50f6",
   "metadata": {},
   "outputs": [
    {
     "name": "stdout",
     "output_type": "stream",
     "text": [
      "{'post': 'be brave and admit you a / zionist racist full of hate islam historicallywhat about your money collect', 'class': 'explicit_hate', 'input_ids': [101, 2022, 9191, 1998, 6449, 2017, 1037, 1013, 21379, 16939, 2440, 1997, 5223, 7025, 7145, 2860, 12707, 2055, 2115, 2769, 8145, 102, 0, 0, 0, 0, 0, 0, 0, 0, 0, 0, 0, 0, 0, 0, 0, 0, 0, 0, 0, 0, 0, 0, 0, 0, 0, 0, 0, 0, 0, 0, 0, 0, 0, 0, 0, 0, 0, 0, 0, 0, 0, 0, 0, 0, 0, 0, 0, 0, 0, 0, 0, 0, 0, 0], 'token_type_ids': [0, 0, 0, 0, 0, 0, 0, 0, 0, 0, 0, 0, 0, 0, 0, 0, 0, 0, 0, 0, 0, 0, 0, 0, 0, 0, 0, 0, 0, 0, 0, 0, 0, 0, 0, 0, 0, 0, 0, 0, 0, 0, 0, 0, 0, 0, 0, 0, 0, 0, 0, 0, 0, 0, 0, 0, 0, 0, 0, 0, 0, 0, 0, 0, 0, 0, 0, 0, 0, 0, 0, 0, 0, 0, 0, 0], 'attention_mask': [1, 1, 1, 1, 1, 1, 1, 1, 1, 1, 1, 1, 1, 1, 1, 1, 1, 1, 1, 1, 1, 1, 0, 0, 0, 0, 0, 0, 0, 0, 0, 0, 0, 0, 0, 0, 0, 0, 0, 0, 0, 0, 0, 0, 0, 0, 0, 0, 0, 0, 0, 0, 0, 0, 0, 0, 0, 0, 0, 0, 0, 0, 0, 0, 0, 0, 0, 0, 0, 0, 0, 0, 0, 0, 0, 0], 'labels': 2}\n"
     ]
    }
   ],
   "source": [
    "tokenized_datasets_train = dataset_train['train'].map(tokenize_and_align_labels, batched=True)\n",
    "\n",
    "print(tokenized_datasets_train[10])"
   ]
  },
  {
   "cell_type": "code",
   "execution_count": 25,
   "id": "8ec6137a-f4f5-4ad6-98bf-83aa613bc2ce",
   "metadata": {},
   "outputs": [
    {
     "name": "stdout",
     "output_type": "stream",
     "text": [
      "{'post': 'interfered in their elect and inserted yeltsin  that the real numbers showed that communist party won and victory shld had gone 2 zyuganov', 'class': 'not_hate', 'input_ids': [101, 28976, 1999, 2037, 11322, 1998, 12889, 6300, 21593, 2378, 2008, 1996, 2613, 3616, 3662, 2008, 4750, 2283, 2180, 1998, 3377, 14021, 6392, 2018, 2908, 1016, 1062, 10513, 29451, 2615, 102, 0, 0, 0, 0, 0, 0, 0, 0, 0, 0, 0, 0, 0, 0, 0, 0, 0, 0, 0, 0, 0, 0, 0, 0, 0, 0, 0, 0, 0, 0, 0, 0, 0, 0, 0, 0, 0, 0, 0, 0, 0, 0, 0, 0, 0, 0, 0, 0, 0, 0, 0, 0, 0, 0, 0, 0, 0, 0, 0, 0, 0, 0, 0, 0, 0, 0, 0, 0, 0, 0, 0, 0, 0, 0, 0, 0, 0, 0, 0, 0, 0, 0, 0, 0, 0, 0, 0, 0, 0, 0, 0, 0, 0, 0, 0, 0, 0, 0, 0, 0, 0, 0, 0, 0, 0, 0, 0], 'token_type_ids': [0, 0, 0, 0, 0, 0, 0, 0, 0, 0, 0, 0, 0, 0, 0, 0, 0, 0, 0, 0, 0, 0, 0, 0, 0, 0, 0, 0, 0, 0, 0, 0, 0, 0, 0, 0, 0, 0, 0, 0, 0, 0, 0, 0, 0, 0, 0, 0, 0, 0, 0, 0, 0, 0, 0, 0, 0, 0, 0, 0, 0, 0, 0, 0, 0, 0, 0, 0, 0, 0, 0, 0, 0, 0, 0, 0, 0, 0, 0, 0, 0, 0, 0, 0, 0, 0, 0, 0, 0, 0, 0, 0, 0, 0, 0, 0, 0, 0, 0, 0, 0, 0, 0, 0, 0, 0, 0, 0, 0, 0, 0, 0, 0, 0, 0, 0, 0, 0, 0, 0, 0, 0, 0, 0, 0, 0, 0, 0, 0, 0, 0, 0, 0, 0, 0, 0, 0, 0], 'attention_mask': [1, 1, 1, 1, 1, 1, 1, 1, 1, 1, 1, 1, 1, 1, 1, 1, 1, 1, 1, 1, 1, 1, 1, 1, 1, 1, 1, 1, 1, 1, 1, 0, 0, 0, 0, 0, 0, 0, 0, 0, 0, 0, 0, 0, 0, 0, 0, 0, 0, 0, 0, 0, 0, 0, 0, 0, 0, 0, 0, 0, 0, 0, 0, 0, 0, 0, 0, 0, 0, 0, 0, 0, 0, 0, 0, 0, 0, 0, 0, 0, 0, 0, 0, 0, 0, 0, 0, 0, 0, 0, 0, 0, 0, 0, 0, 0, 0, 0, 0, 0, 0, 0, 0, 0, 0, 0, 0, 0, 0, 0, 0, 0, 0, 0, 0, 0, 0, 0, 0, 0, 0, 0, 0, 0, 0, 0, 0, 0, 0, 0, 0, 0, 0, 0, 0, 0, 0, 0], 'labels': 0}\n"
     ]
    }
   ],
   "source": [
    "tokenized_datasets_dev = dataset_dev['dev'].map(tokenize_and_align_labels, batched=True)\n",
    "\n",
    "print(tokenized_datasets_dev[10])"
   ]
  },
  {
   "cell_type": "code",
   "execution_count": 27,
   "id": "9ced182c-b1b0-4612-bea1-cff761774185",
   "metadata": {},
   "outputs": [
    {
     "name": "stdout",
     "output_type": "stream",
     "text": [
      "{'post': 'jew is someone who punches you and cries out in pain . dirty vermin .', 'class': 'explicit_hate', 'input_ids': [101, 16522, 2003, 2619, 2040, 17957, 2017, 1998, 12842, 2041, 1999, 3255, 1012, 6530, 2310, 27512, 1012, 102, 0, 0, 0, 0, 0, 0, 0, 0, 0, 0, 0, 0, 0, 0, 0, 0, 0, 0, 0, 0, 0, 0, 0, 0, 0, 0, 0, 0, 0, 0, 0, 0, 0, 0, 0, 0, 0, 0, 0, 0, 0, 0, 0, 0, 0, 0, 0, 0, 0, 0, 0, 0, 0, 0, 0, 0, 0, 0, 0], 'token_type_ids': [0, 0, 0, 0, 0, 0, 0, 0, 0, 0, 0, 0, 0, 0, 0, 0, 0, 0, 0, 0, 0, 0, 0, 0, 0, 0, 0, 0, 0, 0, 0, 0, 0, 0, 0, 0, 0, 0, 0, 0, 0, 0, 0, 0, 0, 0, 0, 0, 0, 0, 0, 0, 0, 0, 0, 0, 0, 0, 0, 0, 0, 0, 0, 0, 0, 0, 0, 0, 0, 0, 0, 0, 0, 0, 0, 0, 0], 'attention_mask': [1, 1, 1, 1, 1, 1, 1, 1, 1, 1, 1, 1, 1, 1, 1, 1, 1, 1, 0, 0, 0, 0, 0, 0, 0, 0, 0, 0, 0, 0, 0, 0, 0, 0, 0, 0, 0, 0, 0, 0, 0, 0, 0, 0, 0, 0, 0, 0, 0, 0, 0, 0, 0, 0, 0, 0, 0, 0, 0, 0, 0, 0, 0, 0, 0, 0, 0, 0, 0, 0, 0, 0, 0, 0, 0, 0, 0], 'labels': 2}\n"
     ]
    }
   ],
   "source": [
    "tokenized_datasets_test = dataset_test['test'].map(tokenize_and_align_labels, batched=True)\n",
    "\n",
    "print(tokenized_datasets_test[10])"
   ]
  },
  {
   "cell_type": "markdown",
   "id": "6bdbe626-da3e-40a8-9139-a51ad203e06d",
   "metadata": {},
   "source": [
    "## Fine tuning the model"
   ]
  },
  {
   "cell_type": "code",
   "execution_count": 29,
   "id": "a3b00c3c-a772-48c2-ba36-3af294a8f1ba",
   "metadata": {},
   "outputs": [],
   "source": [
    "from transformers import BertModel\n",
    "label_list = [\"not_hate\", \"implicit_hate\", \"explicit_hate\"]\n",
    "num_labels = len(label_list)\n",
    "\n",
    "model = BertModel.from_pretrained(model_checkpoint)"
   ]
  },
  {
   "cell_type": "code",
   "execution_count": 31,
   "id": "f013ea31-ffb7-4ecb-a603-8ce32edee824",
   "metadata": {},
   "outputs": [
    {
     "data": {
      "text/plain": [
       "['not_hate', 'implicit_hate', 'explicit_hate']"
      ]
     },
     "execution_count": 31,
     "metadata": {},
     "output_type": "execute_result"
    }
   ],
   "source": [
    "label_list"
   ]
  },
  {
   "cell_type": "code",
   "execution_count": 33,
   "id": "cb779ed6-0f5b-44fb-8131-392e06e2b454",
   "metadata": {},
   "outputs": [],
   "source": [
    "# metric = load(\"seqeval\")\n",
    "\n",
    "from evaluate import load\n",
    "accuracy_metric = load(\"accuracy\")\n",
    "f1_metric = load(\"f1\")"
   ]
  },
  {
   "cell_type": "code",
   "execution_count": 34,
   "id": "4076354e-239a-4922-b918-644e53bc77ab",
   "metadata": {},
   "outputs": [],
   "source": [
    "def compute_metrics(p):\n",
    "    predictions, labels = p\n",
    "    predictions = np.argmax(predictions, axis=1)\n",
    "\n",
    "    return {\n",
    "        \"accuracy\": accuracy_metric.compute(predictions=predictions.tolist(), references=labels.tolist())[\"accuracy\"],\n",
    "        \"f1\": f1_metric.compute(predictions=predictions.tolist(), references=labels.tolist(), average=\"weighted\")[\"f1\"],\n",
    "    }"
   ]
  },
  {
   "cell_type": "code",
   "execution_count": 53,
   "id": "a7e0ea15-af1a-4155-b61b-63e208b47acf",
   "metadata": {},
   "outputs": [],
   "source": [
    "data_collator = DataCollatorWithPadding(tokenizer=tokenizer)"
   ]
  },
  {
   "cell_type": "code",
   "execution_count": 44,
   "id": "639c24b1-1394-4caa-93a8-4f15e5c6dc53",
   "metadata": {},
   "outputs": [
    {
     "name": "stderr",
     "output_type": "stream",
     "text": [
      "Some weights of BertForSequenceClassification were not initialized from the model checkpoint at bert-base-uncased and are newly initialized: ['classifier.bias', 'classifier.weight']\n",
      "You should probably TRAIN this model on a down-stream task to be able to use it for predictions and inference.\n",
      "/var/folders/vd/xkcxq0p96sxd5bgjgdng13s00000gn/T/ipykernel_5290/359801845.py:31: FutureWarning: `tokenizer` is deprecated and will be removed in version 5.0.0 for `Trainer.__init__`. Use `processing_class` instead.\n",
      "  trainer = Trainer(\n"
     ]
    }
   ],
   "source": [
    "SEED = 15\n",
    "set_seed(SEED)\n",
    "\n",
    "model_name = model_checkpoint.split(\"/\")[-1]\n",
    "tokenizer = AutoTokenizer.from_pretrained(model_checkpoint)\n",
    "\n",
    "model = AutoModelForSequenceClassification.from_pretrained(\n",
    "    model_checkpoint, \n",
    "    num_labels=3\n",
    ")\n",
    "\n",
    "args = TrainingArguments(\n",
    "    output_dir=f\"{model_name}-finetuned-{task}\",\n",
    "    eval_strategy=\n",
    "\"epoch\",   \n",
    "    learning_rate=5e-5,\n",
    "    per_device_train_batch_size=batch_size,\n",
    "    per_device_eval_batch_size=batch_size,\n",
    "    num_train_epochs=2,\n",
    "    weight_decay=0.01,\n",
    "    seed=SEED,\n",
    "    report_to=None,\n",
    ")\n",
    "\n",
    "trainer = Trainer(\n",
    "    model=model,\n",
    "    args=args,\n",
    "    train_dataset=tokenized_datasets_train,\n",
    "    eval_dataset=tokenized_datasets_dev,\n",
    "    data_collator=data_collator,\n",
    "    tokenizer=tokenizer,\n",
    "    compute_metrics=compute_metrics\n",
    ")"
   ]
  },
  {
   "cell_type": "code",
   "execution_count": 46,
   "id": "f6659498-0120-45da-b84b-7ac01edcd8aa",
   "metadata": {},
   "outputs": [
    {
     "data": {
      "text/html": [
       "\n",
       "    <div>\n",
       "      \n",
       "      <progress value='1612' max='1612' style='width:300px; height:20px; vertical-align: middle;'></progress>\n",
       "      [1612/1612 7:48:43, Epoch 2/2]\n",
       "    </div>\n",
       "    <table border=\"1\" class=\"dataframe\">\n",
       "  <thead>\n",
       " <tr style=\"text-align: left;\">\n",
       "      <th>Epoch</th>\n",
       "      <th>Training Loss</th>\n",
       "      <th>Validation Loss</th>\n",
       "      <th>Accuracy</th>\n",
       "      <th>F1</th>\n",
       "    </tr>\n",
       "  </thead>\n",
       "  <tbody>\n",
       "    <tr>\n",
       "      <td>1</td>\n",
       "      <td>0.697900</td>\n",
       "      <td>0.562575</td>\n",
       "      <td>0.751629</td>\n",
       "      <td>0.732729</td>\n",
       "    </tr>\n",
       "    <tr>\n",
       "      <td>2</td>\n",
       "      <td>0.421600</td>\n",
       "      <td>0.597819</td>\n",
       "      <td>0.757449</td>\n",
       "      <td>0.753191</td>\n",
       "    </tr>\n",
       "  </tbody>\n",
       "</table><p>"
      ],
      "text/plain": [
       "<IPython.core.display.HTML object>"
      ]
     },
     "metadata": {},
     "output_type": "display_data"
    },
    {
     "data": {
      "text/plain": [
       "TrainOutput(global_step=1612, training_loss=0.5410966068580192, metrics={'train_runtime': 28148.7612, 'train_samples_per_second': 0.916, 'train_steps_per_second': 0.057, 'total_flos': 2300737725262368.0, 'train_loss': 0.5410966068580192, 'epoch': 2.0})"
      ]
     },
     "execution_count": 46,
     "metadata": {},
     "output_type": "execute_result"
    }
   ],
   "source": [
    "trainer.train()"
   ]
  },
  {
   "cell_type": "code",
   "execution_count": 47,
   "id": "3fac9518-73da-4de0-a79a-f9f82adc2502",
   "metadata": {},
   "outputs": [
    {
     "data": {
      "text/html": [],
      "text/plain": [
       "<IPython.core.display.HTML object>"
      ]
     },
     "metadata": {},
     "output_type": "display_data"
    },
    {
     "data": {
      "text/plain": [
       "{'eval_loss': 0.5978190898895264,\n",
       " 'eval_accuracy': 0.7574487895716946,\n",
       " 'eval_f1': 0.7531911927293135,\n",
       " 'eval_runtime': 693.5933,\n",
       " 'eval_samples_per_second': 6.194,\n",
       " 'eval_steps_per_second': 0.388,\n",
       " 'epoch': 2.0}"
      ]
     },
     "execution_count": 47,
     "metadata": {},
     "output_type": "execute_result"
    }
   ],
   "source": [
    "trainer.evaluate()"
   ]
  },
  {
   "cell_type": "code",
   "execution_count": 48,
   "id": "9844c866-530b-49a1-8949-44671e75ad87",
   "metadata": {},
   "outputs": [],
   "source": [
    "def evaluate_predictions(predictions, gold_labels, label_list):\n",
    "    \"\"\"\n",
    "    Evaluate predictions against gold labels and print metrics.\n",
    "    \"\"\"\n",
    "    predictions_flat = [label_list.index(label) for label in predictions]\n",
    "    gold_labels_flat = [label_list.index(label) for label in gold_labels]\n",
    "\n",
    "    accuracy = accuracy_score(gold_labels_flat, predictions_flat)\n",
    "    report = classification_report(gold_labels_flat, predictions_flat, target_names=label_list, digits=4)\n",
    "\n",
    "    cm = confusion_matrix(gold_labels_flat, predictions_flat, labels=list(range(len(label_list))))\n",
    "    disp = ConfusionMatrixDisplay(confusion_matrix=cm, display_labels=label_list)\n",
    "   \n",
    "    print(\"Accuracy:\", accuracy)\n",
    "    print(\"Classification Report:\\n\", report)\n",
    "    disp.plot(cmap=plt.cm.Purples, xticks_rotation='vertical')\n",
    "    plt.title(\"Confusion Matrix\")\n",
    "    plt.show()"
   ]
  },
  {
   "cell_type": "code",
   "execution_count": 49,
   "id": "cd9e9b2b-6732-4072-86a7-7425cc672e67",
   "metadata": {},
   "outputs": [],
   "source": [
    "predictions, labels, _ = trainer.predict(tokenized_datasets_dev)\n",
    "predicted_indices = np.argmax(predictions, axis=1)"
   ]
  },
  {
   "cell_type": "code",
   "execution_count": 50,
   "id": "3bc94daf-4ab5-425c-8593-b46d24e375b7",
   "metadata": {},
   "outputs": [],
   "source": [
    "label_list = [\"not_hate\", \"implicit_hate\", \"explicit_hate\"]\n",
    "\n",
    "# Convert class indices to string labels\n",
    "predicted_labels = [label_list[i] for i in predicted_indices]\n",
    "gold_labels = [label_list[i] for i in labels]"
   ]
  },
  {
   "cell_type": "code",
   "execution_count": 51,
   "id": "1bafcae7-1584-497c-b84c-1bc67b142bc5",
   "metadata": {},
   "outputs": [
    {
     "name": "stdout",
     "output_type": "stream",
     "text": [
      "Accuracy: 0.7574487895716946\n",
      "Classification Report:\n",
      "                precision    recall  f1-score   support\n",
      "\n",
      "     not_hate     0.8289    0.8416    0.8352      2677\n",
      "implicit_hate     0.6438    0.6714    0.6573      1397\n",
      "explicit_hate     0.5207    0.2838    0.3673       222\n",
      "\n",
      "     accuracy                         0.7574      4296\n",
      "    macro avg     0.6645    0.5989    0.6200      4296\n",
      " weighted avg     0.7528    0.7574    0.7532      4296\n",
      "\n"
     ]
    },
    {
     "data": {
      "image/png": "[encoded data removed]",
      "text/plain": [
       "<Figure size 640x480 with 2 Axes>"
      ]
     },
     "metadata": {},
     "output_type": "display_data"
    }
   ],
   "source": [
    "evaluate_predictions(predicted_labels, gold_labels, label_list)"
   ]
  },
  {
   "cell_type": "code",
   "execution_count": 52,
   "id": "2f2c3af0-05db-4fec-a60c-d93817f83a43",
   "metadata": {
    "scrolled": true
   },
   "outputs": [
    {
     "name": "stdout",
     "output_type": "stream",
     "text": [
      "dict_keys(['post', 'class', 'input_ids', 'token_type_ids', 'attention_mask', 'labels'])\n"
     ]
    }
   ],
   "source": [
    "print(tokenized_datasets_dev[0].keys())\n",
    "\n",
    "posts = [example['post'] for example in tokenized_datasets_dev]  # adjust field name as needed\n",
    "\n",
    "df = pd.DataFrame({\n",
    "    \"post\": posts,\n",
    "    \"predicted_label\": predicted_labels,\n",
    "    \"gold_label\": gold_labels,\n",
    "})\n",
    "df.to_csv(\"predictions_vs_gold_train_dev.csv\", index=False)"
   ]
  },
  {
   "cell_type": "code",
   "execution_count": 53,
   "id": "59c92591-45c3-42a4-bcda-8eccf09d89d4",
   "metadata": {},
   "outputs": [],
   "source": [
    "def compute_metrics(p):\n",
    "    predictions, labels = p\n",
    "    predictions = np.argmax(predictions, axis=1)\n",
    "\n",
    "    return {\n",
    "        \"accuracy\": accuracy_metric.compute(predictions=predictions.tolist(), references=labels.tolist())[\"accuracy\"],\n",
    "        \"f1\": f1_metric.compute(predictions=predictions.tolist(), references=labels.tolist(), average=\"weighted\")[\"f1\"],\n",
    "    }"
   ]
  },
  {
   "cell_type": "code",
   "execution_count": 54,
   "id": "46738a88-41ff-4a83-9e0e-981090337b74",
   "metadata": {},
   "outputs": [
    {
     "name": "stderr",
     "output_type": "stream",
     "text": [
      "Some weights of BertForSequenceClassification were not initialized from the model checkpoint at bert-base-uncased and are newly initialized: ['classifier.bias', 'classifier.weight']\n",
      "You should probably TRAIN this model on a down-stream task to be able to use it for predictions and inference.\n",
      "/var/folders/vd/xkcxq0p96sxd5bgjgdng13s00000gn/T/ipykernel_5290/2463675479.py:30: FutureWarning: `tokenizer` is deprecated and will be removed in version 5.0.0 for `Trainer.__init__`. Use `processing_class` instead.\n",
      "  trainer1 = Trainer(\n"
     ]
    }
   ],
   "source": [
    "data_collator = DataCollatorWithPadding(tokenizer=tokenizer)\n",
    "\n",
    "SEED = 15\n",
    "set_seed(SEED)\n",
    "\n",
    "\n",
    "model_name = model_checkpoint.split(\"/\")[-1]\n",
    "\n",
    "tokenizer = AutoTokenizer.from_pretrained(model_checkpoint)\n",
    "\n",
    "model = AutoModelForSequenceClassification.from_pretrained(\n",
    "    model_checkpoint, \n",
    "    num_labels=3\n",
    ")\n",
    "\n",
    "args = TrainingArguments(\n",
    "    output_dir=f\"{model_name}-finetuned-{task}\",\n",
    "    eval_strategy=\"epoch\",   \n",
    "    learning_rate=5e-5,\n",
    "    per_device_train_batch_size=batch_size,\n",
    "    per_device_eval_batch_size=batch_size,\n",
    "    num_train_epochs=2,\n",
    "    weight_decay=0.01,\n",
    "    seed=SEED,\n",
    "    report_to=None,\n",
    ")\n",
    "\n",
    "trainer1 = Trainer(\n",
    "    model=model,\n",
    "    args=args,\n",
    "    train_dataset=tokenized_datasets_train,\n",
    "    eval_dataset=tokenized_datasets_test,\n",
    "    data_collator=data_collator,\n",
    "    tokenizer=tokenizer,\n",
    "    compute_metrics=compute_metrics\n",
    ")"
   ]
  },
  {
   "cell_type": "code",
   "execution_count": 55,
   "id": "2e897a8b-d54b-4f27-9c83-1e7876cc9115",
   "metadata": {},
   "outputs": [
    {
     "data": {
      "text/html": [
       "\n",
       "    <div>\n",
       "      \n",
       "      <progress value='1612' max='1612' style='width:300px; height:20px; vertical-align: middle;'></progress>\n",
       "      [1612/1612 8:13:22, Epoch 2/2]\n",
       "    </div>\n",
       "    <table border=\"1\" class=\"dataframe\">\n",
       "  <thead>\n",
       " <tr style=\"text-align: left;\">\n",
       "      <th>Epoch</th>\n",
       "      <th>Training Loss</th>\n",
       "      <th>Validation Loss</th>\n",
       "      <th>Accuracy</th>\n",
       "      <th>F1</th>\n",
       "    </tr>\n",
       "  </thead>\n",
       "  <tbody>\n",
       "    <tr>\n",
       "      <td>1</td>\n",
       "      <td>0.697900</td>\n",
       "      <td>0.561915</td>\n",
       "      <td>0.755587</td>\n",
       "      <td>0.739235</td>\n",
       "    </tr>\n",
       "    <tr>\n",
       "      <td>2</td>\n",
       "      <td>0.421600</td>\n",
       "      <td>0.583814</td>\n",
       "      <td>0.768622</td>\n",
       "      <td>0.765685</td>\n",
       "    </tr>\n",
       "  </tbody>\n",
       "</table><p>"
      ],
      "text/plain": [
       "<IPython.core.display.HTML object>"
      ]
     },
     "metadata": {},
     "output_type": "display_data"
    },
    {
     "data": {
      "text/plain": [
       "TrainOutput(global_step=1612, training_loss=0.5410966068580192, metrics={'train_runtime': 29632.8664, 'train_samples_per_second': 0.87, 'train_steps_per_second': 0.054, 'total_flos': 2300737725262368.0, 'train_loss': 0.5410966068580192, 'epoch': 2.0})"
      ]
     },
     "execution_count": 55,
     "metadata": {},
     "output_type": "execute_result"
    }
   ],
   "source": [
    "trainer1.train()"
   ]
  },
  {
   "cell_type": "code",
   "execution_count": 56,
   "id": "9945dd1c-e48a-4c1e-bae4-1f3bf6aa61e6",
   "metadata": {},
   "outputs": [
    {
     "data": {
      "text/html": [],
      "text/plain": [
       "<IPython.core.display.HTML object>"
      ]
     },
     "metadata": {},
     "output_type": "display_data"
    },
    {
     "data": {
      "text/plain": [
       "{'eval_loss': 0.5838140845298767,\n",
       " 'eval_accuracy': 0.7686219739292365,\n",
       " 'eval_f1': 0.7656849707378769,\n",
       " 'eval_runtime': 818.8118,\n",
       " 'eval_samples_per_second': 5.247,\n",
       " 'eval_steps_per_second': 0.329,\n",
       " 'epoch': 2.0}"
      ]
     },
     "execution_count": 56,
     "metadata": {},
     "output_type": "execute_result"
    }
   ],
   "source": [
    "trainer1.evaluate()"
   ]
  },
  {
   "cell_type": "code",
   "execution_count": 57,
   "id": "8cdb1aa0-2557-489e-aa15-fbf7de804354",
   "metadata": {},
   "outputs": [],
   "source": [
    "predictions, labels, _ = trainer1.predict(tokenized_datasets_test)\n",
    "predicted_indices = np.argmax(predictions, axis=1)\n"
   ]
  },
  {
   "cell_type": "code",
   "execution_count": 58,
   "id": "8eb6370a-4ed1-4d36-b02b-1c05cfd9e347",
   "metadata": {},
   "outputs": [],
   "source": [
    "label_list = [\"not_hate\", \"implicit_hate\", \"explicit_hate\"]\n",
    "\n",
    "predicted_labels = [label_list[i] for i in predicted_indices]\n",
    "gold_labels = [label_list[i] for i in labels]"
   ]
  },
  {
   "cell_type": "code",
   "execution_count": 59,
   "id": "e9092da2-cbd6-4cbd-8de1-0f040d204eae",
   "metadata": {},
   "outputs": [
    {
     "name": "stdout",
     "output_type": "stream",
     "text": [
      "Accuracy: 0.7686219739292365\n",
      "Classification Report:\n",
      "                precision    recall  f1-score   support\n",
      "\n",
      "     not_hate     0.8362    0.8505    0.8433      2695\n",
      "implicit_hate     0.6620    0.6714    0.6667      1406\n",
      "explicit_hate     0.5116    0.3385    0.4074       195\n",
      "\n",
      "     accuracy                         0.7686      4296\n",
      "    macro avg     0.6699    0.6201    0.6391      4296\n",
      " weighted avg     0.7644    0.7686    0.7657      4296\n",
      "\n"
     ]
    },
    {
     "data": {
      "image/png": "[encoded data removed]",
      "text/plain": [
       "<Figure size 640x480 with 2 Axes>"
      ]
     },
     "metadata": {},
     "output_type": "display_data"
    }
   ],
   "source": [
    "evaluate_predictions(predicted_labels, gold_labels, label_list)"
   ]
  },
  {
   "cell_type": "code",
   "execution_count": 60,
   "id": "2f23fabd-2e31-48a7-a875-106f8cde1c22",
   "metadata": {},
   "outputs": [
    {
     "name": "stdout",
     "output_type": "stream",
     "text": [
      "dict_keys(['post', 'class', 'input_ids', 'token_type_ids', 'attention_mask', 'labels'])\n"
     ]
    }
   ],
   "source": [
    "print(tokenized_datasets_test[0].keys())\n",
    "\n",
    "posts = [example['post'] for example in tokenized_datasets_test]  # adjust field name as needed\n",
    "\n",
    "df = pd.DataFrame({\n",
    "    \"post\": posts,\n",
    "    \"predicted_label\": predicted_labels,\n",
    "    \"gold_label\": gold_labels,\n",
    "})\n",
    "df.to_csv(\"predictions_vs_gold_train_test.csv\", index=False)"
   ]
  }
 ],
 "metadata": {
  "colab": {
   "provenance": []
  },
  "kernelspec": {
   "display_name": "Python (Anaconda)",
   "language": "python",
   "name": "anaconda_env"
  },
  "language_info": {
   "codemirror_mode": {
    "name": "ipython",
    "version": 3
   },
   "file_extension": ".py",
   "mimetype": "text/x-python",
   "name": "python",
   "nbconvert_exporter": "python",
   "pygments_lexer": "ipython3",
   "version": "3.12.7"
  }
 },
 "nbformat": 4,
 "nbformat_minor": 5
}
